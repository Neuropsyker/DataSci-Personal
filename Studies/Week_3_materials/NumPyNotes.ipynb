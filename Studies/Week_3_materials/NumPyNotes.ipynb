{
 "cells": [
  {
   "cell_type": "code",
   "execution_count": 2,
   "metadata": {},
   "outputs": [],
   "source": [
    "import numpy as np"
   ]
  },
  {
   "cell_type": "code",
   "execution_count": 6,
   "metadata": {},
   "outputs": [
    {
     "name": "stdout",
     "output_type": "stream",
     "text": [
      "[    0     5    10   100  1000 10000]\n"
     ]
    }
   ],
   "source": [
    "# np.copy() Does what it says on the tin: copies the data in an array.\n",
    "num_arr=np.array([0,5,10,100,1000,10000])\n",
    "slice=np.copy(num_arr[1:3])\n",
    "slice[0] = 1\n"
   ]
  },
  {
   "cell_type": "code",
   "execution_count": 9,
   "metadata": {},
   "outputs": [
    {
     "data": {
      "text/plain": [
       "array([[ 1,  2,  3],\n",
       "       [ 4,  5,  6],\n",
       "       [ 7,  8,  9],\n",
       "       [10, 11, 12]])"
      ]
     },
     "execution_count": 9,
     "metadata": {},
     "output_type": "execute_result"
    }
   ],
   "source": [
    "# np.reshape() - Changes an array's shape to the value you specify.\n",
    "x = np.array([([1,2,3,4]),\n",
    "    [5,6,7,8],\n",
    "    [9,10,11,12]])\n",
    "\n",
    "np.reshape(x, (4,3))\n",
    "\n",
    "# Array reshaped from 3x4 into a 4x3 matrix"
   ]
  },
  {
   "cell_type": "code",
   "execution_count": 16,
   "metadata": {},
   "outputs": [
    {
     "name": "stdout",
     "output_type": "stream",
     "text": [
      "[[ 0 12 24 36]\n",
      " [48 60 72 84]\n",
      " [96  0 12 24]]\n"
     ]
    }
   ],
   "source": [
    "# np.resize() - changes the actual shape of the array instead of performing a temporary transformation like reshape does.\n",
    "\n",
    "x_resize = np.resize(x, (3,4))\n",
    "x = np.array([[0,12,24],\n",
    "       [36,48,60],\n",
    "        [72,84,96],\n",
    "        [0,12,24]])\n",
    "print(x_resize)\n",
    "\n",
    "# Resized from 4,3 back to 3,4"
   ]
  },
  {
   "cell_type": "code",
   "execution_count": 18,
   "metadata": {},
   "outputs": [
    {
     "data": {
      "text/plain": [
       "array([1, 2, 3, 4, 5, 6])"
      ]
     },
     "execution_count": 18,
     "metadata": {},
     "output_type": "execute_result"
    }
   ],
   "source": [
    "# np.ravel() - flattens an array into a single dimension.\n",
    "# np.flatten() also works, but also returns a copy of the array instead of a view.\n",
    "\n",
    "x = np.array([[1,2,3],\n",
    "              [4,5,6]])\n",
    "\n",
    "np.ravel(x)"
   ]
  },
  {
   "cell_type": "code",
   "execution_count": 20,
   "metadata": {},
   "outputs": [
    {
     "data": {
      "text/plain": [
       "array([[9, 8, 7],\n",
       "       [6, 5, 4],\n",
       "       [3, 2, 1]])"
      ]
     },
     "execution_count": 20,
     "metadata": {},
     "output_type": "execute_result"
    }
   ],
   "source": [
    "# np.flip() - reverses the order of items in an array while keeping the shape.\n",
    "# specify 0 for rows and 1 for columns in np.flip() e.g. np.flip(x,0)\n",
    "\n",
    "x = np.array([[1,2,3],\n",
    "              [4,5,6],\n",
    "              [7,8,9]])\n",
    "\n",
    "np.flip(x)"
   ]
  },
  {
   "cell_type": "code",
   "execution_count": 21,
   "metadata": {},
   "outputs": [
    {
     "data": {
      "text/plain": [
       "array([[1, 4, 7],\n",
       "       [2, 5, 8],\n",
       "       [3, 6, 9]])"
      ]
     },
     "execution_count": 21,
     "metadata": {},
     "output_type": "execute_result"
    }
   ],
   "source": [
    "# np.transpose() shifts data to opposite dimensions in an array. E.g column values shifted to rows.\n",
    "\n",
    "x = np.array([[1,2,3],\n",
    "              [4,5,6],\n",
    "              [7,8,9]])\n",
    "np.transpose(x)"
   ]
  },
  {
   "cell_type": "code",
   "execution_count": 22,
   "metadata": {},
   "outputs": [
    {
     "data": {
      "text/plain": [
       "array([1, 2, 3, 4, 5, 6])"
      ]
     },
     "execution_count": 22,
     "metadata": {},
     "output_type": "execute_result"
    }
   ],
   "source": [
    "# np.concatenate = combines multiple arrays together to produce a tuple.\n",
    "\n",
    "x = np.array([1,2,3])\n",
    "y = np.array([4,5,6])\n",
    "\n",
    "np.concatenate((x,y))"
   ]
  },
  {
   "cell_type": "code",
   "execution_count": 23,
   "metadata": {},
   "outputs": [
    {
     "data": {
      "text/plain": [
       "array([ 1,  2,  3,  4,  5,  6,  7,  8,  9, 10, 11, 12])"
      ]
     },
     "execution_count": 23,
     "metadata": {},
     "output_type": "execute_result"
    }
   ],
   "source": [
    "# np.append() - same function as concatenate, but takes two arguments instead of a single tuple.\n",
    "\n",
    "x = np.array([[1,2,3],\n",
    "              [4,5,6]])\n",
    "y = np.array([[7,8,9],\n",
    "              [10,11,12]])\n",
    "\n",
    "np.append(x,y)"
   ]
  },
  {
   "cell_type": "code",
   "execution_count": null,
   "metadata": {},
   "outputs": [],
   "source": [
    "# Stacking functions:\n",
    "# np.vstack() = combines arrays along rows.\n",
    "# np.hstack() = combines arrays along columns.\n",
    "# np.dstack() = combines arrays along third axis. "
   ]
  },
  {
   "cell_type": "code",
   "execution_count": 24,
   "metadata": {},
   "outputs": [
    {
     "data": {
      "text/plain": [
       "array([[1, 2, 3],\n",
       "       [4, 5, 6]])"
      ]
     },
     "execution_count": 24,
     "metadata": {},
     "output_type": "execute_result"
    }
   ],
   "source": [
    "# np.stack() = combines arrays along a new axis. Add axis=1 to combine by column.\n",
    "\n",
    "x = np.array([1,2,3])\n",
    "y= np.array([4,5,6])\n",
    "np.stack((x,y))"
   ]
  },
  {
   "cell_type": "code",
   "execution_count": 25,
   "metadata": {},
   "outputs": [
    {
     "data": {
      "text/plain": [
       "[array([1, 2, 3]), array([4, 5, 6])]"
      ]
     },
     "execution_count": 25,
     "metadata": {},
     "output_type": "execute_result"
    }
   ],
   "source": [
    "# np.split(tuple, how many arrays) = splits a tuple into multiple arrays.\n",
    "\n",
    "x = np.array([1,2,3,4,5,6])\n",
    "np.split(x, 2)"
   ]
  },
  {
   "cell_type": "code",
   "execution_count": null,
   "metadata": {},
   "outputs": [],
   "source": [
    "# np.vsplit() = splits arrays along rows.\n",
    "# np.hsplit() = splits arrays along columns.\n",
    "# np.dsplit() = splits arrays along third axis."
   ]
  },
  {
   "cell_type": "code",
   "execution_count": 26,
   "metadata": {},
   "outputs": [
    {
     "data": {
      "text/plain": [
       "[array([1, 2]), array([3, 4]), array([5, 6])]"
      ]
     },
     "execution_count": 26,
     "metadata": {},
     "output_type": "execute_result"
    }
   ],
   "source": [
    "# np.array_split() performs a split even when a split is not possible with np.split().\n",
    "\n",
    "x = np.array([1,2,3,4,5,6])\n",
    "np.array_split(x,3)"
   ]
  },
  {
   "cell_type": "code",
   "execution_count": 27,
   "metadata": {},
   "outputs": [
    {
     "data": {
      "text/plain": [
       "array([1, 2, 3, 4, 5])"
      ]
     },
     "execution_count": 27,
     "metadata": {},
     "output_type": "execute_result"
    }
   ],
   "source": [
    "# np.sort() = sorts items in an array in ascending order.\n",
    "x = np.array([4,3,1,5,2])\n",
    "np.sort(x)\n",
    "\n",
    "# If you sort a multi-dimensional array, it will be sorted by the last axis. E.g. a two-dimensional array will be sorted by column. To sort by rows, add axis=0 in the ()."
   ]
  },
  {
   "cell_type": "code",
   "execution_count": 29,
   "metadata": {},
   "outputs": [
    {
     "data": {
      "text/plain": [
       "array([2, 4, 1, 0, 3], dtype=int64)"
      ]
     },
     "execution_count": 29,
     "metadata": {},
     "output_type": "execute_result"
    }
   ],
   "source": [
    "# np.argsort = returns the indices of each cell in the array in ascending order.\n",
    "\n",
    "np.array([4,3,5,1,2])\n",
    "np.argsort(x)\n",
    "\n",
    "# Index 3 holds the smallest non-zero value so it is assigned the value of '1' in the output."
   ]
  },
  {
   "cell_type": "code",
   "execution_count": 30,
   "metadata": {},
   "outputs": [
    {
     "data": {
      "text/plain": [
       "array([1, 4, 3, 5, 9, 6, 8])"
      ]
     },
     "execution_count": 30,
     "metadata": {},
     "output_type": "execute_result"
    }
   ],
   "source": [
    "# np.partition() - partitions low and high values according to specified number of values. \n",
    "\n",
    "x=np.array([8,9,3,4,1,6,5])\n",
    "np.partition(x, 3)\n",
    "\n",
    "# The three lowest numbers are sent to the beginning of the array and the rest are placed to the right."
   ]
  },
  {
   "cell_type": "code",
   "execution_count": null,
   "metadata": {},
   "outputs": [],
   "source": [
    "# np.argmax() = returns the indices of maximum value in an array. np.argmin() is for minimum.\n",
    "# np.nonzero() = returns the indices of all non-zero items in the form of a tuple.\n",
    "# np.argwhere() = returns the indices of all non-zero items in an array."
   ]
  },
  {
   "cell_type": "code",
   "execution_count": 31,
   "metadata": {},
   "outputs": [
    {
     "data": {
      "text/plain": [
       "array([1, 2, 3, 4, 5, 6, 7, 8, 9])"
      ]
     },
     "execution_count": 31,
     "metadata": {},
     "output_type": "execute_result"
    }
   ],
   "source": [
    "# np.insert() = specifies where you want to add new data to an existing array.\n",
    "x1 = np.array([1,2,3,7,8,9])\n",
    "x2 = np.array([4,5,6])\n",
    "\n",
    "np.insert(x1, 3, x2)\n",
    "\n",
    "# This inserts x2 array into x1 before the third index."
   ]
  },
  {
   "cell_type": "code",
   "execution_count": 33,
   "metadata": {},
   "outputs": [
    {
     "data": {
      "text/plain": [
       "array([1, 2, 3, 4, 5, 6])"
      ]
     },
     "execution_count": 33,
     "metadata": {},
     "output_type": "execute_result"
    }
   ],
   "source": [
    "# np.delete() = removes data from an array instead of adding it.\n",
    "x = np.array([1,2,3,9,4,5,6])\n",
    "np.delete(x,3)"
   ]
  },
  {
   "cell_type": "code",
   "execution_count": null,
   "metadata": {},
   "outputs": [],
   "source": [
    "# np.exp() = returns the exponential function of each array value.\n",
    "# np.expm10() = returns exponential minus 1.\n",
    "# np.exp2() = returns 2 raised to the power of each array value.\n",
    "# np.log() = returns natural logarithm of each array value.\n",
    "# np.log10() = returns base-10 logarithm of each array value.\n",
    "# np.log2() = returns base-2 logarithm of each array value.\n",
    "# np.log1p() = returns natural logarithm plus 1 of each array value.\n",
    "\n",
    "# np.sin() = returns the sine of each value in an array.\n",
    "# np.cos() = returns the cos of each value in an array.\n",
    "# np.tan() = returns the tan of each value in an array.\n",
    "# np.hypot(x1,x2) = returns the hypotenus of a right triangle.\n",
    "# np.absolute() = returns the absolute number of each value in an array.\n",
    "# np.square() = returns the square of each number in an array.\n",
    "# np.sqrt() = returns the square root of each number in an array.\n",
    "# np.around() = returns rounded numbers of each value in an array.\n"
   ]
  },
  {
   "cell_type": "code",
   "execution_count": 35,
   "metadata": {},
   "outputs": [
    {
     "name": "stdout",
     "output_type": "stream",
     "text": [
      "[[ 2  6 10 14]\n",
      " [ 4  8 12 16]]\n"
     ]
    }
   ],
   "source": [
    "arr = ([[2,4],\n",
    "        [6,8],\n",
    "        [10,12],\n",
    "        [14,16]])\n",
    "x=np.transpose(arr)\n",
    "print(x)"
   ]
  },
  {
   "cell_type": "code",
   "execution_count": 38,
   "metadata": {},
   "outputs": [
    {
     "name": "stdout",
     "output_type": "stream",
     "text": [
      "[ True  True  True  True  True False  True  True]\n"
     ]
    }
   ],
   "source": [
    "arr = np.array([0, 2, 3, 0, 1, 6, 0, 2])\n",
    "var = 6\n",
    "print(arr != var)"
   ]
  },
  {
   "cell_type": "code",
   "execution_count": 39,
   "metadata": {},
   "outputs": [
    {
     "name": "stdout",
     "output_type": "stream",
     "text": [
      "        Sport  Team A  Team B  Team C\n",
      "0      Hockey      45      55      50\n",
      "1   Badminton      60      40      50\n",
      "2  Volleyball      55      70      45\n",
      "3  Basketball      65      35      70\n",
      "\n",
      "\n",
      "   Team A  Team B  Team C\n",
      "0   False   False   False\n",
      "1    True   False   False\n",
      "2   False    True   False\n",
      "3    True   False    True\n"
     ]
    }
   ],
   "source": [
    "import pandas as pd\n",
    "data = [['Hockey', 45, 55, 50], ['Badminton', 60, 40, 50], ['Volleyball', 55, 70, 45], ['Basketball', 65, 35, 70]]\n",
    "df = pd.DataFrame(data, columns = ['Sport', 'Team A', 'Team B', 'Team C'])\n",
    "print(df)\n",
    "print('\\n')\n",
    "x = df[['Team A', 'Team B', 'Team C']].gt(55)\n",
    "print(x)"
   ]
  },
  {
   "cell_type": "code",
   "execution_count": null,
   "metadata": {},
   "outputs": [],
   "source": [
    "# df.transpose() - flips the rows and columns of a dataframe, allowing you to alter its orientation.\n",
    "# df.sort_values() - Does what it says on the tin.\n",
    "# df.sort_index() - Sorts row or column labels,\n",
    "\n",
    "# Additional Parameters Some additional parameters include: ascending—Specify whether the sort should be ascending (True) or descending (False). \n",
    "# # inplace—Specify whether or not to change the DataFrame object in place after the sort. \n",
    "# kind—Specify the sorting algorithm to use. \n",
    "# na_position—Specify whether NaN values should be placed first or last."
   ]
  }
 ],
 "metadata": {
  "kernelspec": {
   "display_name": "Python 3",
   "language": "python",
   "name": "python3"
  },
  "language_info": {
   "codemirror_mode": {
    "name": "ipython",
    "version": 3
   },
   "file_extension": ".py",
   "mimetype": "text/x-python",
   "name": "python",
   "nbconvert_exporter": "python",
   "pygments_lexer": "ipython3",
   "version": "3.12.1"
  }
 },
 "nbformat": 4,
 "nbformat_minor": 2
}
