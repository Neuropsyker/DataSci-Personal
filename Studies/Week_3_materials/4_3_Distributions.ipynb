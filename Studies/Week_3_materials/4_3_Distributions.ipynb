{
 "cells": [
  {
   "cell_type": "markdown",
   "metadata": {},
   "source": [
    "# Distributions\n",
    "\n",
    "- Week 4: Machine learning\n",
    "- Topic: Distributions\n",
    "- Created by: Vaishnavi Khullar"
   ]
  },
  {
   "cell_type": "markdown",
   "metadata": {},
   "source": [
    "## Understanding distributions \n",
    "\n",
    "- Histograms are a great way for us to understand distributions\n",
    "- However, if we are missing data for a specific bin, then this can cause an issue and give us an incomplete view of the actual probability of obtaining a specific value\n",
    "- This is where probability distributions can help\n",
    "- Probability distributions help us to understand the probability of measuring a specific value in a specific range\n",
    "- There are 2 different types of probability distributions:\n",
    "\n",
    "1. Discrete probability distributions\n",
    "2. Continuous probability distributions\n"
   ]
  },
  {
   "cell_type": "markdown",
   "metadata": {},
   "source": [
    "### Discrete probability distributions\n",
    "\n",
    "As we know collecting a significant amount of data and then displaying it can take a lot of time, energy and business resources. Instead of collecting copious amounts of data it makes more sense to use a mathematical equation which does all the hard work. \n",
    "\n",
    "One of the most commonly used discrete probability distributions is the binomial distribution. \n",
    "\n",
    "$$\n",
    "P(k | n,p ) = \\binom{n!}{k! (n-p)!} p^k (1-p)^{n-k}\n",
    "$$\n"
   ]
  },
  {
   "cell_type": "markdown",
   "metadata": {},
   "source": [
    "What this means? \n",
    "\n",
    "- p = probability\n",
    "- | = given or given that\n",
    "- , = and \n",
    "- k is the number of people who fall into the probability in question \n",
    "- n is the number of people asked in the sample or population \n",
    "- p is the probability that identifies the number of people (i.e. the value of k)7"
   ]
  },
  {
   "cell_type": "markdown",
   "metadata": {},
   "source": [
    "Let's say we wanted to find out the number of people who prefer driving a manual car over an automatic. \n",
    "\n",
    "$$\n",
    "P(k=2 | n=3, p=0.7) = \\binom{3!}{2! (3-2)!} 0.7^2 (1-0.7)^{3-2}\n",
    "$$\n",
    "\n",
    "Which is 0.441, therefore the probabilty we meet 2 people who prefer to drive manual cars, given that we ask 3 people and the probabilty of someone preferring to drive a manual car is 0.7.\n",
    "\n"
   ]
  },
  {
   "cell_type": "markdown",
   "metadata": {},
   "source": [
    "Another important discrete distribution is the poisson distribution"
   ]
  },
  {
   "cell_type": "code",
   "execution_count": 2,
   "metadata": {},
   "outputs": [],
   "source": [
    "# Question. Try and create an example of the poisson distribution\n",
    "# Question. Think through the continuous probability distributions - give examples of 3 (other than the normal distribution)\n",
    "# What does the area under the curve of a continuous distribution represent? \n",
    "# What is the liklihood? "
   ]
  },
  {
   "cell_type": "markdown",
   "metadata": {},
   "source": [
    "## Why is this of interest?\n",
    "\n",
    "- Building a histogram and then converting it to a probability distribution function can take time and be costly. \n",
    "- Both continuous and discrete probability distributions allow you to create a model \n",
    "- This can help you to predict what happens next\n",
    "- "
   ]
  },
  {
   "cell_type": "markdown",
   "metadata": {},
   "source": [
    "### What does a model allow us to do?\n",
    "\n",
    "- A model allows us to build a statistical, mathematical aor machine learning model that provides us a way to approximate the data more effectively. \n",
    "- A probability distribution is a type of model that alloes us to approximate a histogram with an infinite amount of data\n",
    "- Another model that can be used is a straight line with the formula y = mx + c\n",
    "- Models allows us to explore relationships and make predictions\n",
    "- In ML we build models by training machine learning algorithms with training data\n",
    "\n",
    "\n",
    "- Before we build a model we need to understand a bit about errors!"
   ]
  }
 ],
 "metadata": {
  "kernelspec": {
   "display_name": "Python 3",
   "language": "python",
   "name": "python3"
  },
  "language_info": {
   "codemirror_mode": {
    "name": "ipython",
    "version": 3
   },
   "file_extension": ".py",
   "mimetype": "text/x-python",
   "name": "python",
   "nbconvert_exporter": "python",
   "pygments_lexer": "ipython3",
   "version": "3.10.12"
  }
 },
 "nbformat": 4,
 "nbformat_minor": 2
}
