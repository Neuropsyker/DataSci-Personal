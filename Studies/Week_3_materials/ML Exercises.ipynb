{
 "cells": [
  {
   "cell_type": "code",
   "execution_count": null,
   "metadata": {},
   "outputs": [],
   "source": [
    "import numpy as np\n",
    "import pandas as pd\n",
    "import seaborn as sns\n",
    "import matplotlib.pyplot as plt\n",
    "import sklearn\n",
    "\n",
    "# Exercises taken from 4.3 and 4.4 workbooks."
   ]
  },
  {
   "cell_type": "code",
   "execution_count": null,
   "metadata": {},
   "outputs": [],
   "source": [
    "# Poisson Distribution example:\n",
    "# Number of patients to visit a clinic within a 24-hour period?\n",
    "\n",
    "# Three examples of continuous probability distributions: uniform distribution (e.g. rolling a balanced 6-sided die), exponential distribution (e.g. how long it takes to complete a task\n",
    "# in the workplace with or without delays), and gamma distribution (e.g. the time a customer waits to be served after coming into your shop).\n",
    "\n",
    "# The area under the curve of a continuous distribution:\n",
    "# The probability of the variable falling within a certain range of values. \n",
    "\n",
    "# What is likelihood in this context?\n",
    "# Likelihood is when you have observed data, and you want to estimate the parameters of the underlying probability distribution. For example, how likely you are for a value to be\n",
    "# within a specific number, range, category, etc."
   ]
  },
  {
   "cell_type": "code",
   "execution_count": 9,
   "metadata": {},
   "outputs": [],
   "source": [
    "### Task - using the below dataframe create a sum of square residuals: (copied from workbook for ease of viewing)\n",
    "\n",
    "import matplotlib.pyplot as plt\n",
    "import numpy as np\n",
    "\n",
    "# Sample data\n",
    "height = np.array([150, 155, 160, 165, 170, 175, 180, 185])\n",
    "weight = np.array([50, 49, 60, 68, 70, 75, 82, 78])\n",
    "\n",
    "# First linear regression (Observed?)\n",
    "m1, b1 = np.polyfit(height, weight, 1)\n",
    "\n",
    "# Second linear regression (using a different method or modifying parameters)\n",
    "# For demonstration, I'll use the same method but with a slight modification\n",
    "m2, b2 = np.polyfit(height, weight * 1.05, 1)  # Slightly modified weights (Predicted?)\n",
    "\n",
    "# Create a range of values for height to plot the regression lines\n",
    "# height_range = np.linspace(height.min(), height.max(), 100)\n",
    "\n",
    "# Plotting\n",
    "# plt.figure(figsize=(10, 6))\n",
    "# plt.scatter(height, weight, color='blue', label='Data points')\n",
    "# plt.legend()\n",
    "# plt.plot(height_range, m1 * height_range + b1, color='red', label='Linear Regression 1')\n",
    "# plt.plot(height_range, m2 * height_range + b2, color='green', label='Linear Regression 2');"
   ]
  },
  {
   "cell_type": "code",
   "execution_count": 15,
   "metadata": {},
   "outputs": [
    {
     "name": "stdout",
     "output_type": "stream",
     "text": [
      "22.67800459183577\n"
     ]
    }
   ],
   "source": [
    "# Getting Python to do SSR with the above.\n",
    "\n",
    "# SSR = sum(observed - predicted)**2\n",
    "\n",
    "first_regg = np.polyfit(height, weight, 1)\n",
    "second_regg = np.polyfit(height, weight * 1.05, 1)\n",
    "\n",
    "SSR = sum(first_regg - second_regg)**2\n",
    "print(SSR)"
   ]
  },
  {
   "cell_type": "markdown",
   "metadata": {},
   "source": [
    "Should we leave SSR as a printed float, or plot it on the regression graph?"
   ]
  }
 ],
 "metadata": {
  "kernelspec": {
   "display_name": "Python 3",
   "language": "python",
   "name": "python3"
  },
  "language_info": {
   "codemirror_mode": {
    "name": "ipython",
    "version": 3
   },
   "file_extension": ".py",
   "mimetype": "text/x-python",
   "name": "python",
   "nbconvert_exporter": "python",
   "pygments_lexer": "ipython3",
   "version": "3.12.1"
  }
 },
 "nbformat": 4,
 "nbformat_minor": 2
}
