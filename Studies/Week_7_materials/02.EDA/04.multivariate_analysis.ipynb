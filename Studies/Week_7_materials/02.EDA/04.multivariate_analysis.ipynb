{
 "cells": [
  {
   "cell_type": "markdown",
   "metadata": {},
   "source": [
    "## Setup"
   ]
  },
  {
   "cell_type": "markdown",
   "metadata": {},
   "source": [
    "### Imports"
   ]
  },
  {
   "cell_type": "code",
   "execution_count": null,
   "metadata": {},
   "outputs": [],
   "source": [
    "import pandas as pd\n",
    "import numpy as np \n",
    "import matplotlib.pyplot as plt \n",
    "import seaborn as sns "
   ]
  },
  {
   "cell_type": "markdown",
   "metadata": {},
   "source": [
    "### Notebook settings"
   ]
  },
  {
   "cell_type": "code",
   "execution_count": null,
   "metadata": {},
   "outputs": [],
   "source": [
    "pd.set_option('display.max_columns', None)\n",
    "# pd.set_option('display.max_rows', None)\n",
    "# pd.set_option('display.max_colwidth', None)\n",
    "\n",
    "sns.set_theme(style='white', palette='Blues_r')"
   ]
  },
  {
   "cell_type": "markdown",
   "metadata": {},
   "source": [
    "### Functions"
   ]
  },
  {
   "cell_type": "code",
   "execution_count": null,
   "metadata": {},
   "outputs": [],
   "source": []
  },
  {
   "cell_type": "markdown",
   "metadata": {},
   "source": []
  },
  {
   "cell_type": "code",
   "execution_count": null,
   "metadata": {},
   "outputs": [],
   "source": [
    "# Functions \n",
    "\n",
    "#plot boxplot\n",
    "def boxplot_(df, x, y, title, x_label, y_label, color='blue', target_var=False, hue=None, ticks=None, show_leg = False):\n",
    "    if target_var == True:\n",
    "        color = 'black'\n",
    "    plt.subplots(figsize=(10,5))\n",
    "    sns.boxplot(data=df, x=x, y=y, hue=hue, color=color)\n",
    "    plt.xlabel(x_label)\n",
    "    plt.ylabel(y_label)\n",
    "    plt.xticks(list(range(len(ticks))),ticks)\n",
    "    plt.title(title)\n",
    "    plt.legend().remove()\n",
    "    plt.show()\n",
    "    if show_leg == True:\n",
    "        plt.legend(loc='best')\n",
    "\n",
    "# plot scatterplot\n",
    "def scatter_(df, x, y, title, x_label, y_label, color='blue', target_var=False, hue=None, show_leg = False):\n",
    "    if target_var == True:\n",
    "        color = 'black'\n",
    "    plt.show()\n",
    "    plt.subplots(figsize=(10,5))\n",
    "    sns.scatterplot(data=df, x=x, y=y, hue=hue)\n",
    "    plt.xlabel(x_label)\n",
    "    plt.ylabel(y_label)\n",
    "    plt.title(title)\n",
    "    plt.legend().remove()\n",
    "    if show_leg == True:\n",
    "        plt.legend(loc='best')\n",
    "\n",
    "# plot timeseries plot\n",
    "def timeseries_plot(df, y, ylabel, color='blue', target_var=False, existing_ax=None):\n",
    "    if target_var == True:\n",
    "        color = 'black'\n",
    "    if existing_ax == None:\n",
    "        fig, ax = plt.subplots(figsize=(10,5))\n",
    "    else:\n",
    "        ax = existing_ax\n",
    "    sns.lineplot(df, x=df.index, y=y, color=color, label=y)\n",
    "    ax.set(title=f\"{ylabel} over time\", ylabel=ylabel, label=y.replace(\"_\",\" \"), xlabel=\"Date\")\n",
    "    plt.legend(loc='best')\n",
    "\n",
    "# function for adf test\n",
    "def dickeyFullerTest(df):\n",
    "    for column in df.columns:\n",
    "        result = adfuller(df[column])\n",
    "        # print(f\"Column: {column}, ADF statistic: {result[0]}, p-value: {result[1]}\")\n",
    "        # for key, value in result[4].items():\n",
    "        #     print(f\"Critical value ({key}): {value}\")\n",
    "        if (result[1] < 0.05) &  (result[4]['1%'] > result[0]):\n",
    "            print(f'{column} is stationary')\n",
    "        else:\n",
    "            print(f'{column} is not stationary')\n",
    "\n",
    "\n",
    "\n",
    "\n",
    "from mpl_toolkits.axes_grid1 import host_subplot\n",
    "\n",
    "# plot duel times series\n",
    "def plot_dual_axis_timeseries(df, y1, y2, ylabel1, ylabel2, color1=\"blue\", color2=\"black\"):\n",
    "    fig, axi = plt.subplots(figsize=(10,5))\n",
    "    ax = host_subplot(111) # subplot(nrows, ncols, plot_number)\n",
    "    ax0 = ax.twinx()\n",
    "    ax1 = sns.lineplot(data=df, x=df.index, y=y1, ax=ax, color=color1, label=ylabel1, legend=False)\n",
    "    ax2 = sns.lineplot(data=df, x=df.index, y=y2, ax=ax0, color=color2, label=ylabel2, legend=False)\n",
    "    axi.set(xticks=[], yticks=[])\n",
    "    ax1.set(ylabel=ylabel1, title=f\"{ylabel1} and {ylabel2} over time\")\n",
    "    ax0.set(ylabel=ylabel2)\n",
    "    ax.legend()\n",
    "    ax.yaxis.get_label()\n",
    "    ax.yaxis.get_label()\n",
    "\n",
    "\n",
    "# annotate and vertical line\n",
    "def annotate_and_line(x=None, y=None, color=\"red\", linestyle=\"--\", annotation=None, vertical_line=False, time_series=False, annot_x=None):    \n",
    "    if time_series:\n",
    "        x=pd.to_datetime(x)\n",
    "        annot_x = pd.to_datetime(annot_x)\n",
    "    if vertical_line:    \n",
    "        plt.axvline(x, color=color, linestyle=linestyle)\n",
    "    if annot_x:\n",
    "        x = annot_x\n",
    "    if annotation:\n",
    "        plt.annotate(annotation, xy=(x, y), color=color)\n",
    "\n",
    "\n",
    "# Corr bar plot\n",
    "def corr_bar(df, title, y_label, group, var_comp):\n",
    "    data = df.corr()[var_comp]\n",
    "    plt.figure(figsize=(10,5))\n",
    "    data[group].sort_values().plot(kind='bar', color='blue')\n",
    "    plt.title(title)\n",
    "    plt.ylabel(y_label)\n",
    "    plt.show()\n",
    "\n",
    "\n",
    "# Histogram and boxplot (and skew output) CLO\n",
    "def den_hist_boxplot(data, features, bins, target_var=False, color='blue'):\n",
    "    for col in features:\n",
    "        if target_var == True:\n",
    "            color = 'black'\n",
    "        print(f'{col} skew: {round(data[col].skew(), 2)}')\n",
    "        plt.figure(figsize = (15,5))\n",
    "        plt.subplot(1, 2, 1)\n",
    "        sns.histplot(data = data, data[col], bins=bins, stat='density', kde=True, color=color)\n",
    "        plt.xticks(rotation=90)\n",
    "        plt.ticklabel_format(style='plain')\n",
    "        plt.title(f'Density Histogram of {col}')\n",
    "        plt.subplot(1, 2, 2)\n",
    "        sns.boxplot(data - data, x=data[col], color=color)\n",
    "        plt.title(f'Boxplot of {col}')\n",
    "        plt.xticks(rotation=90)\n",
    "\n",
    "\n",
    "# Histogram JM\n",
    "def histogram_plot(df, x, xlabel, bin_edges, stat='density', kde=True, color='blue', target_var=False, xrange=None, yrange=None):\n",
    "    if target_var == True:\n",
    "        color = 'black'\n",
    "    fig, ax = plt.subplots(figsize = (10, 5))\n",
    "    sns.histplot(data=df, x=x, stat=stat, kde=kde, bins=bin_edges, color=color)\n",
    "    ax.set(title=f'{xlabel} Overall Distribution', xlabel=xlabel, xlim=xrange, ylim=yrange);\n",
    "\n",
    "# Multiple annotation on a graph with arrow\n",
    "def annotate_graph (text, xdate, y, xtext, ytext):\n",
    "    plt.annotate(text, xy =((pd.to_datetime(xdate)), y), xytext =(pd.to_datetime(xtext), ytext),  \n",
    "                arrowprops = dict(facecolor = 'blue', shrink = 0.05, headwidth = 7, headlength = 7),\n",
    "                fontsize= 8)\n",
    "\n",
    "# Correlation heatmap\n",
    "def correlation_heat_map(df, title, method=\"pearson\", vmin=-1, vmax=1):\n",
    "    col_names = [col.replace(\"_\", \" \") for col in df.columns]\n",
    "    ax = sns.heatmap(df.corr(method=method), annot=True, fmt=\".2f\", xticklabels=col_names, yticklabels=col_names, cmap=\"coolwarm\", vmin=vmin, vmax=vmax)\n",
    "    ax.set(title=title)"
   ]
  },
  {
   "cell_type": "markdown",
   "metadata": {},
   "source": [
    "### Reading in data"
   ]
  },
  {
   "cell_type": "code",
   "execution_count": null,
   "metadata": {},
   "outputs": [],
   "source": [
    "df = pd.read_csv('csv_name.csv')"
   ]
  },
  {
   "cell_type": "markdown",
   "metadata": {},
   "source": [
    "## Multivariate Analysis"
   ]
  },
  {
   "cell_type": "markdown",
   "metadata": {},
   "source": [
    "### Insert subheading"
   ]
  },
  {
   "cell_type": "markdown",
   "metadata": {},
   "source": [
    "### Hypothesis"
   ]
  }
 ],
 "metadata": {
  "language_info": {
   "name": "python"
  }
 },
 "nbformat": 4,
 "nbformat_minor": 2
}
