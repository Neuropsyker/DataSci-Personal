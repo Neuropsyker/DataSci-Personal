{
 "cells": [
  {
   "cell_type": "markdown",
   "metadata": {},
   "source": [
    "- Review the datasets sent through to you. \n",
    "- What additional features can you create?\n",
    "- How does this bolster your models?\n",
    "- Can you try to include these features into your models?\n",
    "- How will you deal for data not necessarily _joining_ in the same manner?\n"
   ]
  }
 ],
 "metadata": {
  "language_info": {
   "name": "python"
  }
 },
 "nbformat": 4,
 "nbformat_minor": 2
}
