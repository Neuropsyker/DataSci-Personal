{
 "cells": [
  {
   "cell_type": "markdown",
   "metadata": {},
   "source": [
    "### What is feature engineering?"
   ]
  },
  {
   "cell_type": "markdown",
   "metadata": {},
   "source": [
    "Feature engineering is a critical process in machine learning and data science. It involves creating and selecting relevant features from raw data, to improve the model performance. \n",
    "\n",
    "It's about transforming the raw data into a format that is more suitable and effective for modelling. "
   ]
  },
  {
   "cell_type": "markdown",
   "metadata": {},
   "source": [
    "1. Understand your data and the context of your data \n",
    "2. Create features for your data \n",
    "- Aggregation: combining several data points into one\n",
    "- Decomposition: breaking down multiple data points into one\n",
    "- Transformation: Appling a mathematical function to transform the data, e.g. taking the logs and the square roots\n",
    "- Encoding \n",
    "3. Feature selection \n",
    "- Filter methods \n",
    "- Wrapper methods \n",
    "- Embedded methods\n",
    "4. Dimensionality reduction \n",
    "5. Handling missing values \n",
    "6. Normalisation and scaling \n",
    "7. Incorporating domain knowledge "
   ]
  },
  {
   "cell_type": "markdown",
   "metadata": {},
   "source": [
    "- Feature engineering is a bit of an art, and it requires creativity and experimentation, coupled with domain knowledge. \n",
    "- Certain features, especially those that are well-engineered can create a significantly better model!\n",
    "- These can then improve the model performance significantly \n",
    "- Sometimes the features themselves can be more important than the model being selected"
   ]
  }
 ],
 "metadata": {
  "language_info": {
   "name": "python"
  }
 },
 "nbformat": 4,
 "nbformat_minor": 2
}
