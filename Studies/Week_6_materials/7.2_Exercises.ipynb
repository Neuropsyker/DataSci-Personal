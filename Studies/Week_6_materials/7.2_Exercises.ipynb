{
 "cells": [
  {
   "cell_type": "markdown",
   "metadata": {},
   "source": [
    "1. Research different data engineering tools \n",
    "2. Research different databases \n",
    "3. What is ETL?\n",
    "4. Research the different types of SQL, what is the general syntax for SQL queries?\n",
    "5. Explore the different cloud providers, and what is cloud computing?\n",
    "6. What are some of the similar cloud services that they provide \n",
    "7. What are the names of the data science cloud services that they provide \n",
    "8. What is the difference between ETL and ELT, why are there these differences?\n",
    "9. When would you use batch processing over streaming?\n",
    "10. Research other streaming tools other than Kafka\n",
    "11. Research batch processing tools\n",
    "12. What is snowflake?\n",
    "13. What is databricks?\n",
    "14. What is Tableau?\n",
    "15. What is an ERD (databases)?\n",
    "16. What is Airflow?\n",
    "17. What is MongoDB?\n",
    "19. What is alteryx?\n",
    "20. What is talend? \n",
    "21. Get a free trial subscription to snowflake (you do not need to enter any card details)"
   ]
  }
 ],
 "metadata": {
  "language_info": {
   "name": "python"
  }
 },
 "nbformat": 4,
 "nbformat_minor": 2
}
