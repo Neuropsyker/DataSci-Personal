{
 "cells": [
  {
   "cell_type": "code",
   "execution_count": 1,
   "metadata": {},
   "outputs": [],
   "source": [
    "import numpy as np\n",
    "import pandas as pd\n",
    "import seaborn as sns\n",
    "import matplotlib.pyplot as plt\n",
    "from sklearn import preprocessing\n",
    "pd.set_option('display.max_columns', None)"
   ]
  },
  {
   "cell_type": "code",
   "execution_count": 2,
   "metadata": {},
   "outputs": [],
   "source": [
    "# This is to do on the Titanic dataset after lunch today and for tomorrow's self-directed work. EDA + Logistic Regression on whatever variables you want. E.g. what predicts survived? Build a classification model for Monday to present to the group. JUST LOGISTIC REGRESSION, NOTHING FANCY.\n",
    "# EDA -> LogReg (Sklearn) -> Review Vaish' Aus Data Set for guidance if you get really stuck -> Score the LogReg model that you've made for the Titanic data. E.g. Recall, precision, etc.\n",
    "# End goal of this exercise is to have a LogReg in this notebook to share with each other on Monday, be able explain what each line of code is doing.  \n",
    "# Quote from Vaish: \"I don't care if it's perfect as long as it is finished.\"\n",
    "# Send notebook through to Vaish on Friday afternoon when finished."
   ]
  },
  {
   "cell_type": "code",
   "execution_count": 3,
   "metadata": {},
   "outputs": [
    {
     "data": {
      "text/html": [
       "<div>\n",
       "<style scoped>\n",
       "    .dataframe tbody tr th:only-of-type {\n",
       "        vertical-align: middle;\n",
       "    }\n",
       "\n",
       "    .dataframe tbody tr th {\n",
       "        vertical-align: top;\n",
       "    }\n",
       "\n",
       "    .dataframe thead th {\n",
       "        text-align: right;\n",
       "    }\n",
       "</style>\n",
       "<table border=\"1\" class=\"dataframe\">\n",
       "  <thead>\n",
       "    <tr style=\"text-align: right;\">\n",
       "      <th></th>\n",
       "      <th>PassengerId</th>\n",
       "      <th>Pclass</th>\n",
       "      <th>Name</th>\n",
       "      <th>Sex</th>\n",
       "      <th>Age</th>\n",
       "      <th>SibSp</th>\n",
       "      <th>Parch</th>\n",
       "      <th>Ticket</th>\n",
       "      <th>Fare</th>\n",
       "      <th>Cabin</th>\n",
       "      <th>Embarked</th>\n",
       "    </tr>\n",
       "  </thead>\n",
       "  <tbody>\n",
       "    <tr>\n",
       "      <th>0</th>\n",
       "      <td>892</td>\n",
       "      <td>3</td>\n",
       "      <td>Kelly, Mr. James</td>\n",
       "      <td>male</td>\n",
       "      <td>34.5</td>\n",
       "      <td>0</td>\n",
       "      <td>0</td>\n",
       "      <td>330911</td>\n",
       "      <td>7.8292</td>\n",
       "      <td>NaN</td>\n",
       "      <td>Q</td>\n",
       "    </tr>\n",
       "    <tr>\n",
       "      <th>1</th>\n",
       "      <td>893</td>\n",
       "      <td>3</td>\n",
       "      <td>Wilkes, Mrs. James (Ellen Needs)</td>\n",
       "      <td>female</td>\n",
       "      <td>47.0</td>\n",
       "      <td>1</td>\n",
       "      <td>0</td>\n",
       "      <td>363272</td>\n",
       "      <td>7.0000</td>\n",
       "      <td>NaN</td>\n",
       "      <td>S</td>\n",
       "    </tr>\n",
       "    <tr>\n",
       "      <th>2</th>\n",
       "      <td>894</td>\n",
       "      <td>2</td>\n",
       "      <td>Myles, Mr. Thomas Francis</td>\n",
       "      <td>male</td>\n",
       "      <td>62.0</td>\n",
       "      <td>0</td>\n",
       "      <td>0</td>\n",
       "      <td>240276</td>\n",
       "      <td>9.6875</td>\n",
       "      <td>NaN</td>\n",
       "      <td>Q</td>\n",
       "    </tr>\n",
       "    <tr>\n",
       "      <th>3</th>\n",
       "      <td>895</td>\n",
       "      <td>3</td>\n",
       "      <td>Wirz, Mr. Albert</td>\n",
       "      <td>male</td>\n",
       "      <td>27.0</td>\n",
       "      <td>0</td>\n",
       "      <td>0</td>\n",
       "      <td>315154</td>\n",
       "      <td>8.6625</td>\n",
       "      <td>NaN</td>\n",
       "      <td>S</td>\n",
       "    </tr>\n",
       "    <tr>\n",
       "      <th>4</th>\n",
       "      <td>896</td>\n",
       "      <td>3</td>\n",
       "      <td>Hirvonen, Mrs. Alexander (Helga E Lindqvist)</td>\n",
       "      <td>female</td>\n",
       "      <td>22.0</td>\n",
       "      <td>1</td>\n",
       "      <td>1</td>\n",
       "      <td>3101298</td>\n",
       "      <td>12.2875</td>\n",
       "      <td>NaN</td>\n",
       "      <td>S</td>\n",
       "    </tr>\n",
       "    <tr>\n",
       "      <th>5</th>\n",
       "      <td>897</td>\n",
       "      <td>3</td>\n",
       "      <td>Svensson, Mr. Johan Cervin</td>\n",
       "      <td>male</td>\n",
       "      <td>14.0</td>\n",
       "      <td>0</td>\n",
       "      <td>0</td>\n",
       "      <td>7538</td>\n",
       "      <td>9.2250</td>\n",
       "      <td>NaN</td>\n",
       "      <td>S</td>\n",
       "    </tr>\n",
       "    <tr>\n",
       "      <th>6</th>\n",
       "      <td>898</td>\n",
       "      <td>3</td>\n",
       "      <td>Connolly, Miss. Kate</td>\n",
       "      <td>female</td>\n",
       "      <td>30.0</td>\n",
       "      <td>0</td>\n",
       "      <td>0</td>\n",
       "      <td>330972</td>\n",
       "      <td>7.6292</td>\n",
       "      <td>NaN</td>\n",
       "      <td>Q</td>\n",
       "    </tr>\n",
       "    <tr>\n",
       "      <th>7</th>\n",
       "      <td>899</td>\n",
       "      <td>2</td>\n",
       "      <td>Caldwell, Mr. Albert Francis</td>\n",
       "      <td>male</td>\n",
       "      <td>26.0</td>\n",
       "      <td>1</td>\n",
       "      <td>1</td>\n",
       "      <td>248738</td>\n",
       "      <td>29.0000</td>\n",
       "      <td>NaN</td>\n",
       "      <td>S</td>\n",
       "    </tr>\n",
       "    <tr>\n",
       "      <th>8</th>\n",
       "      <td>900</td>\n",
       "      <td>3</td>\n",
       "      <td>Abrahim, Mrs. Joseph (Sophie Halaut Easu)</td>\n",
       "      <td>female</td>\n",
       "      <td>18.0</td>\n",
       "      <td>0</td>\n",
       "      <td>0</td>\n",
       "      <td>2657</td>\n",
       "      <td>7.2292</td>\n",
       "      <td>NaN</td>\n",
       "      <td>C</td>\n",
       "    </tr>\n",
       "    <tr>\n",
       "      <th>9</th>\n",
       "      <td>901</td>\n",
       "      <td>3</td>\n",
       "      <td>Davies, Mr. John Samuel</td>\n",
       "      <td>male</td>\n",
       "      <td>21.0</td>\n",
       "      <td>2</td>\n",
       "      <td>0</td>\n",
       "      <td>A/4 48871</td>\n",
       "      <td>24.1500</td>\n",
       "      <td>NaN</td>\n",
       "      <td>S</td>\n",
       "    </tr>\n",
       "  </tbody>\n",
       "</table>\n",
       "</div>"
      ],
      "text/plain": [
       "   PassengerId  Pclass                                          Name     Sex  \\\n",
       "0          892       3                              Kelly, Mr. James    male   \n",
       "1          893       3              Wilkes, Mrs. James (Ellen Needs)  female   \n",
       "2          894       2                     Myles, Mr. Thomas Francis    male   \n",
       "3          895       3                              Wirz, Mr. Albert    male   \n",
       "4          896       3  Hirvonen, Mrs. Alexander (Helga E Lindqvist)  female   \n",
       "5          897       3                    Svensson, Mr. Johan Cervin    male   \n",
       "6          898       3                          Connolly, Miss. Kate  female   \n",
       "7          899       2                  Caldwell, Mr. Albert Francis    male   \n",
       "8          900       3     Abrahim, Mrs. Joseph (Sophie Halaut Easu)  female   \n",
       "9          901       3                       Davies, Mr. John Samuel    male   \n",
       "\n",
       "    Age  SibSp  Parch     Ticket     Fare Cabin Embarked  \n",
       "0  34.5      0      0     330911   7.8292   NaN        Q  \n",
       "1  47.0      1      0     363272   7.0000   NaN        S  \n",
       "2  62.0      0      0     240276   9.6875   NaN        Q  \n",
       "3  27.0      0      0     315154   8.6625   NaN        S  \n",
       "4  22.0      1      1    3101298  12.2875   NaN        S  \n",
       "5  14.0      0      0       7538   9.2250   NaN        S  \n",
       "6  30.0      0      0     330972   7.6292   NaN        Q  \n",
       "7  26.0      1      1     248738  29.0000   NaN        S  \n",
       "8  18.0      0      0       2657   7.2292   NaN        C  \n",
       "9  21.0      2      0  A/4 48871  24.1500   NaN        S  "
      ]
     },
     "execution_count": 3,
     "metadata": {},
     "output_type": "execute_result"
    }
   ],
   "source": [
    "df_test = pd.read_csv('titanic_test.csv')\n",
    "df_train = pd.read_csv('titanic_train.csv')\n",
    "\n",
    "df_test.head(10)\n",
    "# df_train.info() also works for quick overview."
   ]
  },
  {
   "cell_type": "code",
   "execution_count": 4,
   "metadata": {},
   "outputs": [
    {
     "data": {
      "text/html": [
       "<div>\n",
       "<style scoped>\n",
       "    .dataframe tbody tr th:only-of-type {\n",
       "        vertical-align: middle;\n",
       "    }\n",
       "\n",
       "    .dataframe tbody tr th {\n",
       "        vertical-align: top;\n",
       "    }\n",
       "\n",
       "    .dataframe thead th {\n",
       "        text-align: right;\n",
       "    }\n",
       "</style>\n",
       "<table border=\"1\" class=\"dataframe\">\n",
       "  <thead>\n",
       "    <tr style=\"text-align: right;\">\n",
       "      <th></th>\n",
       "      <th>PassengerId</th>\n",
       "      <th>Survived</th>\n",
       "      <th>Pclass</th>\n",
       "      <th>Name</th>\n",
       "      <th>Sex</th>\n",
       "      <th>Age</th>\n",
       "      <th>SibSp</th>\n",
       "      <th>Parch</th>\n",
       "      <th>Ticket</th>\n",
       "      <th>Fare</th>\n",
       "      <th>Cabin</th>\n",
       "      <th>Embarked</th>\n",
       "    </tr>\n",
       "  </thead>\n",
       "  <tbody>\n",
       "    <tr>\n",
       "      <th>0</th>\n",
       "      <td>1</td>\n",
       "      <td>0</td>\n",
       "      <td>3</td>\n",
       "      <td>Braund, Mr. Owen Harris</td>\n",
       "      <td>male</td>\n",
       "      <td>22.0</td>\n",
       "      <td>1</td>\n",
       "      <td>0</td>\n",
       "      <td>A/5 21171</td>\n",
       "      <td>7.2500</td>\n",
       "      <td>NaN</td>\n",
       "      <td>S</td>\n",
       "    </tr>\n",
       "    <tr>\n",
       "      <th>1</th>\n",
       "      <td>2</td>\n",
       "      <td>1</td>\n",
       "      <td>1</td>\n",
       "      <td>Cumings, Mrs. John Bradley (Florence Briggs Th...</td>\n",
       "      <td>female</td>\n",
       "      <td>38.0</td>\n",
       "      <td>1</td>\n",
       "      <td>0</td>\n",
       "      <td>PC 17599</td>\n",
       "      <td>71.2833</td>\n",
       "      <td>C85</td>\n",
       "      <td>C</td>\n",
       "    </tr>\n",
       "    <tr>\n",
       "      <th>2</th>\n",
       "      <td>3</td>\n",
       "      <td>1</td>\n",
       "      <td>3</td>\n",
       "      <td>Heikkinen, Miss. Laina</td>\n",
       "      <td>female</td>\n",
       "      <td>26.0</td>\n",
       "      <td>0</td>\n",
       "      <td>0</td>\n",
       "      <td>STON/O2. 3101282</td>\n",
       "      <td>7.9250</td>\n",
       "      <td>NaN</td>\n",
       "      <td>S</td>\n",
       "    </tr>\n",
       "    <tr>\n",
       "      <th>3</th>\n",
       "      <td>4</td>\n",
       "      <td>1</td>\n",
       "      <td>1</td>\n",
       "      <td>Futrelle, Mrs. Jacques Heath (Lily May Peel)</td>\n",
       "      <td>female</td>\n",
       "      <td>35.0</td>\n",
       "      <td>1</td>\n",
       "      <td>0</td>\n",
       "      <td>113803</td>\n",
       "      <td>53.1000</td>\n",
       "      <td>C123</td>\n",
       "      <td>S</td>\n",
       "    </tr>\n",
       "    <tr>\n",
       "      <th>4</th>\n",
       "      <td>5</td>\n",
       "      <td>0</td>\n",
       "      <td>3</td>\n",
       "      <td>Allen, Mr. William Henry</td>\n",
       "      <td>male</td>\n",
       "      <td>35.0</td>\n",
       "      <td>0</td>\n",
       "      <td>0</td>\n",
       "      <td>373450</td>\n",
       "      <td>8.0500</td>\n",
       "      <td>NaN</td>\n",
       "      <td>S</td>\n",
       "    </tr>\n",
       "    <tr>\n",
       "      <th>5</th>\n",
       "      <td>6</td>\n",
       "      <td>0</td>\n",
       "      <td>3</td>\n",
       "      <td>Moran, Mr. James</td>\n",
       "      <td>male</td>\n",
       "      <td>NaN</td>\n",
       "      <td>0</td>\n",
       "      <td>0</td>\n",
       "      <td>330877</td>\n",
       "      <td>8.4583</td>\n",
       "      <td>NaN</td>\n",
       "      <td>Q</td>\n",
       "    </tr>\n",
       "    <tr>\n",
       "      <th>6</th>\n",
       "      <td>7</td>\n",
       "      <td>0</td>\n",
       "      <td>1</td>\n",
       "      <td>McCarthy, Mr. Timothy J</td>\n",
       "      <td>male</td>\n",
       "      <td>54.0</td>\n",
       "      <td>0</td>\n",
       "      <td>0</td>\n",
       "      <td>17463</td>\n",
       "      <td>51.8625</td>\n",
       "      <td>E46</td>\n",
       "      <td>S</td>\n",
       "    </tr>\n",
       "    <tr>\n",
       "      <th>7</th>\n",
       "      <td>8</td>\n",
       "      <td>0</td>\n",
       "      <td>3</td>\n",
       "      <td>Palsson, Master. Gosta Leonard</td>\n",
       "      <td>male</td>\n",
       "      <td>2.0</td>\n",
       "      <td>3</td>\n",
       "      <td>1</td>\n",
       "      <td>349909</td>\n",
       "      <td>21.0750</td>\n",
       "      <td>NaN</td>\n",
       "      <td>S</td>\n",
       "    </tr>\n",
       "    <tr>\n",
       "      <th>8</th>\n",
       "      <td>9</td>\n",
       "      <td>1</td>\n",
       "      <td>3</td>\n",
       "      <td>Johnson, Mrs. Oscar W (Elisabeth Vilhelmina Berg)</td>\n",
       "      <td>female</td>\n",
       "      <td>27.0</td>\n",
       "      <td>0</td>\n",
       "      <td>2</td>\n",
       "      <td>347742</td>\n",
       "      <td>11.1333</td>\n",
       "      <td>NaN</td>\n",
       "      <td>S</td>\n",
       "    </tr>\n",
       "    <tr>\n",
       "      <th>9</th>\n",
       "      <td>10</td>\n",
       "      <td>1</td>\n",
       "      <td>2</td>\n",
       "      <td>Nasser, Mrs. Nicholas (Adele Achem)</td>\n",
       "      <td>female</td>\n",
       "      <td>14.0</td>\n",
       "      <td>1</td>\n",
       "      <td>0</td>\n",
       "      <td>237736</td>\n",
       "      <td>30.0708</td>\n",
       "      <td>NaN</td>\n",
       "      <td>C</td>\n",
       "    </tr>\n",
       "  </tbody>\n",
       "</table>\n",
       "</div>"
      ],
      "text/plain": [
       "   PassengerId  Survived  Pclass  \\\n",
       "0            1         0       3   \n",
       "1            2         1       1   \n",
       "2            3         1       3   \n",
       "3            4         1       1   \n",
       "4            5         0       3   \n",
       "5            6         0       3   \n",
       "6            7         0       1   \n",
       "7            8         0       3   \n",
       "8            9         1       3   \n",
       "9           10         1       2   \n",
       "\n",
       "                                                Name     Sex   Age  SibSp  \\\n",
       "0                            Braund, Mr. Owen Harris    male  22.0      1   \n",
       "1  Cumings, Mrs. John Bradley (Florence Briggs Th...  female  38.0      1   \n",
       "2                             Heikkinen, Miss. Laina  female  26.0      0   \n",
       "3       Futrelle, Mrs. Jacques Heath (Lily May Peel)  female  35.0      1   \n",
       "4                           Allen, Mr. William Henry    male  35.0      0   \n",
       "5                                   Moran, Mr. James    male   NaN      0   \n",
       "6                            McCarthy, Mr. Timothy J    male  54.0      0   \n",
       "7                     Palsson, Master. Gosta Leonard    male   2.0      3   \n",
       "8  Johnson, Mrs. Oscar W (Elisabeth Vilhelmina Berg)  female  27.0      0   \n",
       "9                Nasser, Mrs. Nicholas (Adele Achem)  female  14.0      1   \n",
       "\n",
       "   Parch            Ticket     Fare Cabin Embarked  \n",
       "0      0         A/5 21171   7.2500   NaN        S  \n",
       "1      0          PC 17599  71.2833   C85        C  \n",
       "2      0  STON/O2. 3101282   7.9250   NaN        S  \n",
       "3      0            113803  53.1000  C123        S  \n",
       "4      0            373450   8.0500   NaN        S  \n",
       "5      0            330877   8.4583   NaN        Q  \n",
       "6      0             17463  51.8625   E46        S  \n",
       "7      1            349909  21.0750   NaN        S  \n",
       "8      2            347742  11.1333   NaN        S  \n",
       "9      0            237736  30.0708   NaN        C  "
      ]
     },
     "execution_count": 4,
     "metadata": {},
     "output_type": "execute_result"
    }
   ],
   "source": [
    "df_train.head(10)"
   ]
  },
  {
   "cell_type": "code",
   "execution_count": 5,
   "metadata": {},
   "outputs": [
    {
     "data": {
      "text/html": [
       "<div>\n",
       "<style scoped>\n",
       "    .dataframe tbody tr th:only-of-type {\n",
       "        vertical-align: middle;\n",
       "    }\n",
       "\n",
       "    .dataframe tbody tr th {\n",
       "        vertical-align: top;\n",
       "    }\n",
       "\n",
       "    .dataframe thead th {\n",
       "        text-align: right;\n",
       "    }\n",
       "</style>\n",
       "<table border=\"1\" class=\"dataframe\">\n",
       "  <thead>\n",
       "    <tr style=\"text-align: right;\">\n",
       "      <th></th>\n",
       "      <th>PassengerId</th>\n",
       "      <th>Survived</th>\n",
       "      <th>Pclass</th>\n",
       "      <th>Age</th>\n",
       "      <th>SibSp</th>\n",
       "      <th>Parch</th>\n",
       "      <th>Fare</th>\n",
       "    </tr>\n",
       "  </thead>\n",
       "  <tbody>\n",
       "    <tr>\n",
       "      <th>count</th>\n",
       "      <td>891.000000</td>\n",
       "      <td>891.000000</td>\n",
       "      <td>891.000000</td>\n",
       "      <td>714.000000</td>\n",
       "      <td>891.000000</td>\n",
       "      <td>891.000000</td>\n",
       "      <td>891.000000</td>\n",
       "    </tr>\n",
       "    <tr>\n",
       "      <th>mean</th>\n",
       "      <td>446.000000</td>\n",
       "      <td>0.383838</td>\n",
       "      <td>2.308642</td>\n",
       "      <td>29.699118</td>\n",
       "      <td>0.523008</td>\n",
       "      <td>0.381594</td>\n",
       "      <td>32.204208</td>\n",
       "    </tr>\n",
       "    <tr>\n",
       "      <th>std</th>\n",
       "      <td>257.353842</td>\n",
       "      <td>0.486592</td>\n",
       "      <td>0.836071</td>\n",
       "      <td>14.526497</td>\n",
       "      <td>1.102743</td>\n",
       "      <td>0.806057</td>\n",
       "      <td>49.693429</td>\n",
       "    </tr>\n",
       "    <tr>\n",
       "      <th>min</th>\n",
       "      <td>1.000000</td>\n",
       "      <td>0.000000</td>\n",
       "      <td>1.000000</td>\n",
       "      <td>0.420000</td>\n",
       "      <td>0.000000</td>\n",
       "      <td>0.000000</td>\n",
       "      <td>0.000000</td>\n",
       "    </tr>\n",
       "    <tr>\n",
       "      <th>25%</th>\n",
       "      <td>223.500000</td>\n",
       "      <td>0.000000</td>\n",
       "      <td>2.000000</td>\n",
       "      <td>20.125000</td>\n",
       "      <td>0.000000</td>\n",
       "      <td>0.000000</td>\n",
       "      <td>7.910400</td>\n",
       "    </tr>\n",
       "    <tr>\n",
       "      <th>50%</th>\n",
       "      <td>446.000000</td>\n",
       "      <td>0.000000</td>\n",
       "      <td>3.000000</td>\n",
       "      <td>28.000000</td>\n",
       "      <td>0.000000</td>\n",
       "      <td>0.000000</td>\n",
       "      <td>14.454200</td>\n",
       "    </tr>\n",
       "    <tr>\n",
       "      <th>75%</th>\n",
       "      <td>668.500000</td>\n",
       "      <td>1.000000</td>\n",
       "      <td>3.000000</td>\n",
       "      <td>38.000000</td>\n",
       "      <td>1.000000</td>\n",
       "      <td>0.000000</td>\n",
       "      <td>31.000000</td>\n",
       "    </tr>\n",
       "    <tr>\n",
       "      <th>max</th>\n",
       "      <td>891.000000</td>\n",
       "      <td>1.000000</td>\n",
       "      <td>3.000000</td>\n",
       "      <td>80.000000</td>\n",
       "      <td>8.000000</td>\n",
       "      <td>6.000000</td>\n",
       "      <td>512.329200</td>\n",
       "    </tr>\n",
       "  </tbody>\n",
       "</table>\n",
       "</div>"
      ],
      "text/plain": [
       "       PassengerId    Survived      Pclass         Age       SibSp  \\\n",
       "count   891.000000  891.000000  891.000000  714.000000  891.000000   \n",
       "mean    446.000000    0.383838    2.308642   29.699118    0.523008   \n",
       "std     257.353842    0.486592    0.836071   14.526497    1.102743   \n",
       "min       1.000000    0.000000    1.000000    0.420000    0.000000   \n",
       "25%     223.500000    0.000000    2.000000   20.125000    0.000000   \n",
       "50%     446.000000    0.000000    3.000000   28.000000    0.000000   \n",
       "75%     668.500000    1.000000    3.000000   38.000000    1.000000   \n",
       "max     891.000000    1.000000    3.000000   80.000000    8.000000   \n",
       "\n",
       "            Parch        Fare  \n",
       "count  891.000000  891.000000  \n",
       "mean     0.381594   32.204208  \n",
       "std      0.806057   49.693429  \n",
       "min      0.000000    0.000000  \n",
       "25%      0.000000    7.910400  \n",
       "50%      0.000000   14.454200  \n",
       "75%      0.000000   31.000000  \n",
       "max      6.000000  512.329200  "
      ]
     },
     "execution_count": 5,
     "metadata": {},
     "output_type": "execute_result"
    }
   ],
   "source": [
    "df_train.describe()"
   ]
  },
  {
   "cell_type": "code",
   "execution_count": 6,
   "metadata": {},
   "outputs": [
    {
     "data": {
      "text/plain": [
       "Survived\n",
       "0    0.616162\n",
       "1    0.383838\n",
       "Name: proportion, dtype: float64"
      ]
     },
     "execution_count": 6,
     "metadata": {},
     "output_type": "execute_result"
    }
   ],
   "source": [
    "# How many people did survive?\n",
    "df_train['Survived'].value_counts(normalize=True)"
   ]
  },
  {
   "cell_type": "code",
   "execution_count": 7,
   "metadata": {},
   "outputs": [],
   "source": [
    "# Training data contains our dependent variable which appears to be 'survived.' 38% survived. \n",
    "# I can already see some columns like 'Name' probably aren't relevant to survival chance so I will drop some columns from the training data later on."
   ]
  },
  {
   "cell_type": "code",
   "execution_count": 8,
   "metadata": {},
   "outputs": [
    {
     "data": {
      "text/plain": [
       "(891, 12)"
      ]
     },
     "execution_count": 8,
     "metadata": {},
     "output_type": "execute_result"
    }
   ],
   "source": [
    "df_train.shape "
   ]
  },
  {
   "cell_type": "code",
   "execution_count": 9,
   "metadata": {},
   "outputs": [
    {
     "data": {
      "text/html": [
       "<div>\n",
       "<style scoped>\n",
       "    .dataframe tbody tr th:only-of-type {\n",
       "        vertical-align: middle;\n",
       "    }\n",
       "\n",
       "    .dataframe tbody tr th {\n",
       "        vertical-align: top;\n",
       "    }\n",
       "\n",
       "    .dataframe thead th {\n",
       "        text-align: right;\n",
       "    }\n",
       "</style>\n",
       "<table border=\"1\" class=\"dataframe\">\n",
       "  <thead>\n",
       "    <tr style=\"text-align: right;\">\n",
       "      <th></th>\n",
       "      <th>PassengerId</th>\n",
       "      <th>Survived</th>\n",
       "      <th>Pclass</th>\n",
       "      <th>Name</th>\n",
       "      <th>Sex</th>\n",
       "      <th>Age</th>\n",
       "      <th>SibSp</th>\n",
       "      <th>Parch</th>\n",
       "      <th>Ticket</th>\n",
       "      <th>Fare</th>\n",
       "      <th>Cabin</th>\n",
       "      <th>Embarked</th>\n",
       "    </tr>\n",
       "  </thead>\n",
       "  <tbody>\n",
       "  </tbody>\n",
       "</table>\n",
       "</div>"
      ],
      "text/plain": [
       "Empty DataFrame\n",
       "Columns: [PassengerId, Survived, Pclass, Name, Sex, Age, SibSp, Parch, Ticket, Fare, Cabin, Embarked]\n",
       "Index: []"
      ]
     },
     "execution_count": 9,
     "metadata": {},
     "output_type": "execute_result"
    }
   ],
   "source": [
    "df_train.loc[df_train.duplicated()]\n",
    "# Checking no duplicated rows of data that would affect outputs.\n",
    "## Output rows are empty, so no duplicates found. "
   ]
  },
  {
   "cell_type": "markdown",
   "metadata": {},
   "source": [
    "From the above, we know we have 12 features/variables and 891 passengers with data for us to use."
   ]
  },
  {
   "cell_type": "code",
   "execution_count": 10,
   "metadata": {},
   "outputs": [
    {
     "data": {
      "text/plain": [
       "PassengerId      int64\n",
       "Survived         int64\n",
       "Pclass           int64\n",
       "Name            object\n",
       "Sex             object\n",
       "Age            float64\n",
       "SibSp            int64\n",
       "Parch            int64\n",
       "Ticket          object\n",
       "Fare           float64\n",
       "Cabin           object\n",
       "Embarked        object\n",
       "dtype: object"
      ]
     },
     "execution_count": 10,
     "metadata": {},
     "output_type": "execute_result"
    }
   ],
   "source": [
    "df_train.dtypes"
   ]
  },
  {
   "cell_type": "markdown",
   "metadata": {},
   "source": [
    "## Data Dictionary ##\n",
    "\n",
    "Passenger ID = Unique numerical identifier for each passenger.\n",
    "P-class = What class of room the passenger was staying in. \n",
    "Sex = What sex the passenger is, usually 'male' or 'female'.\n",
    "Age = What age the passenger was, in years.\n",
    "SibSp = If the passenger had any siblings on board.\n",
    "Parch = Assumed to be 'Parents' for passengers who were children.\n",
    "Ticket = Ticket ID for boarding the ship. (No ticket ID = stowaway? or just missing data?)\n",
    "Fare = The fare each passenger paid when buying a ticket.\n",
    "Cabin = the room the passenger stayed in during the journey (before it sank!)\n",
    "Embarked = the port at which the passenger came on-board the Titanic.\n"
   ]
  },
  {
   "cell_type": "code",
   "execution_count": 11,
   "metadata": {},
   "outputs": [
    {
     "name": "stdout",
     "output_type": "stream",
     "text": [
      "        Passenger Class  Passenger Sex\n",
      "3                 491.0            NaN\n",
      "1                 216.0            NaN\n",
      "2                 184.0            NaN\n",
      "male                NaN          577.0\n",
      "female              NaN          314.0\n"
     ]
    }
   ],
   "source": [
    "Pass_class = df_train['Pclass'].value_counts()\n",
    "Pass_sex = df_train['Sex'].value_counts()\n",
    "\n",
    "pass_values = pd.concat([Pass_class, Pass_sex], axis=1, keys=['Passenger Class', 'Passenger Sex']) # Displaying the value counts together in one output via pandas concatenation.\n",
    "print(pass_values)"
   ]
  },
  {
   "cell_type": "code",
   "execution_count": 12,
   "metadata": {},
   "outputs": [
    {
     "data": {
      "text/plain": [
       "count    714.0\n",
       "mean      30.0\n",
       "std       15.0\n",
       "min        0.0\n",
       "25%       20.0\n",
       "50%       28.0\n",
       "75%       38.0\n",
       "max       80.0\n",
       "Name: Age, dtype: float64"
      ]
     },
     "execution_count": 12,
     "metadata": {},
     "output_type": "execute_result"
    }
   ],
   "source": [
    "df_train['Age'].describe().round()"
   ]
  },
  {
   "cell_type": "code",
   "execution_count": 13,
   "metadata": {},
   "outputs": [
    {
     "data": {
      "image/png": "[encoded data removed]",
      "text/plain": [
       "<Figure size 1200x600 with 2 Axes>"
      ]
     },
     "metadata": {},
     "output_type": "display_data"
    }
   ],
   "source": [
    "# Age Visualization\n",
    "\n",
    "fig, ax = plt.subplots(1, 2, figsize=(12,6)) # Setting for 2 graphs and defining them.\n",
    "ax[0].set(title='Age Histogram', xlabel='Age', ylabel='Density')\n",
    "ax[1].set(title='Age Boxplot', xlabel='Age')\n",
    "\n",
    "sns.boxplot(data=df_train, x='Age', ax=ax[1])\n",
    "sns.histplot(df_train['Age'], kde=True, ax=ax[0], stat='density')\n",
    "plt.tight_layout() # Making a boxplot and histogram next to each other so I can see both."
   ]
  },
  {
   "cell_type": "code",
   "execution_count": 14,
   "metadata": {},
   "outputs": [],
   "source": [
    "# Age is positive skewed so median imputation for later. Since I'm checking nulls out, might as well do Cabin next.\n",
    "# 891 passengers but only 714 ages counted, impute median later."
   ]
  },
  {
   "cell_type": "code",
   "execution_count": 15,
   "metadata": {},
   "outputs": [
    {
     "data": {
      "text/plain": [
       "Cabin\n",
       "B96 B98        4\n",
       "G6             4\n",
       "C23 C25 C27    4\n",
       "C22 C26        3\n",
       "F33            3\n",
       "              ..\n",
       "E34            1\n",
       "C7             1\n",
       "C54            1\n",
       "E36            1\n",
       "C148           1\n",
       "Name: count, Length: 147, dtype: int64"
      ]
     },
     "execution_count": 15,
     "metadata": {},
     "output_type": "execute_result"
    }
   ],
   "source": [
    "df_train['Cabin'].value_counts() # This refers to which room the passenger stayed in on the ship, so I'm having a look. It is probably related to Pclass so I will keep it in the dataframe."
   ]
  },
  {
   "cell_type": "code",
   "execution_count": 16,
   "metadata": {},
   "outputs": [
    {
     "data": {
      "text/plain": [
       "147"
      ]
     },
     "execution_count": 16,
     "metadata": {},
     "output_type": "execute_result"
    }
   ],
   "source": [
    "df_train['Cabin'].nunique()"
   ]
  },
  {
   "cell_type": "code",
   "execution_count": 17,
   "metadata": {},
   "outputs": [
    {
     "data": {
      "text/plain": [
       "count        891\n",
       "unique       681\n",
       "top       347082\n",
       "freq           7\n",
       "Name: Ticket, dtype: object"
      ]
     },
     "execution_count": 17,
     "metadata": {},
     "output_type": "execute_result"
    }
   ],
   "source": [
    "# What about tickets? \n",
    "df_train['Ticket'].describe() \n"
   ]
  },
  {
   "cell_type": "code",
   "execution_count": 18,
   "metadata": {},
   "outputs": [
    {
     "data": {
      "text/html": [
       "<div>\n",
       "<style scoped>\n",
       "    .dataframe tbody tr th:only-of-type {\n",
       "        vertical-align: middle;\n",
       "    }\n",
       "\n",
       "    .dataframe tbody tr th {\n",
       "        vertical-align: top;\n",
       "    }\n",
       "\n",
       "    .dataframe thead th {\n",
       "        text-align: right;\n",
       "    }\n",
       "</style>\n",
       "<table border=\"1\" class=\"dataframe\">\n",
       "  <thead>\n",
       "    <tr style=\"text-align: right;\">\n",
       "      <th></th>\n",
       "      <th>PassengerId</th>\n",
       "      <th>Survived</th>\n",
       "      <th>Pclass</th>\n",
       "      <th>Sex</th>\n",
       "      <th>Age</th>\n",
       "      <th>SibSp</th>\n",
       "      <th>Parch</th>\n",
       "      <th>Fare</th>\n",
       "      <th>Cabin</th>\n",
       "      <th>Embarked</th>\n",
       "    </tr>\n",
       "  </thead>\n",
       "  <tbody>\n",
       "    <tr>\n",
       "      <th>0</th>\n",
       "      <td>1</td>\n",
       "      <td>0</td>\n",
       "      <td>3</td>\n",
       "      <td>male</td>\n",
       "      <td>22.0</td>\n",
       "      <td>1</td>\n",
       "      <td>0</td>\n",
       "      <td>7.2500</td>\n",
       "      <td>NaN</td>\n",
       "      <td>S</td>\n",
       "    </tr>\n",
       "    <tr>\n",
       "      <th>1</th>\n",
       "      <td>2</td>\n",
       "      <td>1</td>\n",
       "      <td>1</td>\n",
       "      <td>female</td>\n",
       "      <td>38.0</td>\n",
       "      <td>1</td>\n",
       "      <td>0</td>\n",
       "      <td>71.2833</td>\n",
       "      <td>C85</td>\n",
       "      <td>C</td>\n",
       "    </tr>\n",
       "    <tr>\n",
       "      <th>2</th>\n",
       "      <td>3</td>\n",
       "      <td>1</td>\n",
       "      <td>3</td>\n",
       "      <td>female</td>\n",
       "      <td>26.0</td>\n",
       "      <td>0</td>\n",
       "      <td>0</td>\n",
       "      <td>7.9250</td>\n",
       "      <td>NaN</td>\n",
       "      <td>S</td>\n",
       "    </tr>\n",
       "    <tr>\n",
       "      <th>3</th>\n",
       "      <td>4</td>\n",
       "      <td>1</td>\n",
       "      <td>1</td>\n",
       "      <td>female</td>\n",
       "      <td>35.0</td>\n",
       "      <td>1</td>\n",
       "      <td>0</td>\n",
       "      <td>53.1000</td>\n",
       "      <td>C123</td>\n",
       "      <td>S</td>\n",
       "    </tr>\n",
       "    <tr>\n",
       "      <th>4</th>\n",
       "      <td>5</td>\n",
       "      <td>0</td>\n",
       "      <td>3</td>\n",
       "      <td>male</td>\n",
       "      <td>35.0</td>\n",
       "      <td>0</td>\n",
       "      <td>0</td>\n",
       "      <td>8.0500</td>\n",
       "      <td>NaN</td>\n",
       "      <td>S</td>\n",
       "    </tr>\n",
       "  </tbody>\n",
       "</table>\n",
       "</div>"
      ],
      "text/plain": [
       "   PassengerId  Survived  Pclass     Sex   Age  SibSp  Parch     Fare Cabin  \\\n",
       "0            1         0       3    male  22.0      1      0   7.2500   NaN   \n",
       "1            2         1       1  female  38.0      1      0  71.2833   C85   \n",
       "2            3         1       3  female  26.0      0      0   7.9250   NaN   \n",
       "3            4         1       1  female  35.0      1      0  53.1000  C123   \n",
       "4            5         0       3    male  35.0      0      0   8.0500   NaN   \n",
       "\n",
       "  Embarked  \n",
       "0        S  \n",
       "1        C  \n",
       "2        S  \n",
       "3        S  \n",
       "4        S  "
      ]
     },
     "execution_count": 18,
     "metadata": {},
     "output_type": "execute_result"
    }
   ],
   "source": [
    "# Lots of unique tickets for an Object variable, not sure how useful it is for predicting survival so might drop from dataframe. I'll do name here as well now. \n",
    "df_train.drop('Ticket', axis=1, inplace=True)\n",
    "df_train.drop('Name', axis=1, inplace=True) \n",
    "\n",
    "# Check ticket vs. other inputs as part of EDA.\n",
    "\n",
    "# ['Ticket', 'Name'] also works instead of writing df_train.drop() twice.\n",
    "df_train.head(5)"
   ]
  },
  {
   "cell_type": "code",
   "execution_count": 19,
   "metadata": {},
   "outputs": [
    {
     "data": {
      "image/png": "[encoded data removed]",
      "text/plain": [
       "<Figure size 640x480 with 1 Axes>"
      ]
     },
     "metadata": {},
     "output_type": "display_data"
    }
   ],
   "source": [
    "# Let's look at the Embarked next. Who boarded where?\n",
    "\n",
    "df_train['Embarked'].value_counts()\n",
    "\n",
    "# S = Southampton (England), C = Cherbourg (France), Q = Queenstown (Ireland). Next destination was New York but Titanic sank en route. \n",
    "\n",
    "sns.countplot(x='Embarked', data=df_train)\n",
    "plt.title('Bar Chart for Ports')\n",
    "plt.xlabel('Category')\n",
    "plt.ylabel('Count')\n",
    "plt.show()"
   ]
  },
  {
   "cell_type": "code",
   "execution_count": 20,
   "metadata": {},
   "outputs": [
    {
     "data": {
      "text/plain": [
       "Survived  Embarked\n",
       "0         S           427\n",
       "          C            75\n",
       "          Q            47\n",
       "1         S           217\n",
       "          C            93\n",
       "          Q            30\n",
       "Name: count, dtype: int64"
      ]
     },
     "execution_count": 20,
     "metadata": {},
     "output_type": "execute_result"
    }
   ],
   "source": [
    "df_train.groupby('Survived')[['Embarked']].value_counts()"
   ]
  },
  {
   "cell_type": "code",
   "execution_count": 21,
   "metadata": {},
   "outputs": [
    {
     "name": "stdout",
     "output_type": "stream",
     "text": [
      "       Passenger Siblings  Passenger Parents\n",
      "count          891.000000         891.000000\n",
      "mean             0.523008           0.381594\n",
      "std              1.102743           0.806057\n",
      "min              0.000000           0.000000\n",
      "25%              0.000000           0.000000\n",
      "50%              0.000000           0.000000\n",
      "75%              1.000000           0.000000\n",
      "max              8.000000           6.000000\n"
     ]
    }
   ],
   "source": [
    "# Looking at SibSp and Parch to see how similar or different they are.\n",
    "\n",
    "Pass_sibsp = df_train['SibSp'].describe()\n",
    "Pass_parch = df_train['Parch'].describe()\n",
    "\n",
    "pass_values_2 = pd.concat([Pass_sibsp, Pass_parch], axis=1, keys=['Passenger Siblings', 'Passenger Parents']) # Displaying the value counts together in one output.\n",
    "print(pass_values_2)"
   ]
  },
  {
   "cell_type": "code",
   "execution_count": 22,
   "metadata": {},
   "outputs": [],
   "source": [
    "# Someone on Stack Overflow suggested combining Parch and SibSp into a new feature that describes whether the passenger in question traveled alone or had someone with them. So I decided to try this idea out. I don't want to say how long this took...\n",
    "\n",
    "df_train['TravelSolo'] = (df_train['SibSp'] == 0) & (df_train['Parch'] == 0) # put .astype('int8') at the end to set TravelSolo as a binary 0-1 automatically, removes the need for OHE. \n",
    "\n",
    "# The above code creates a new 'TravelSolo' column in the dataframe by checking if SibSp or Parch are giving a zero value, then displays this in the new column as 'true' if they were alone, or 'false' if they had a sibling and/or a parent with them.\n",
    "\n",
    "# Great it worked. Since I've done this, I'll drop the Parch and SibSp columns now.\n",
    "\n",
    "## Vaish advice: df_train[]"
   ]
  },
  {
   "cell_type": "code",
   "execution_count": 23,
   "metadata": {},
   "outputs": [
    {
     "data": {
      "text/plain": [
       "Index(['PassengerId', 'Survived', 'Pclass', 'Sex', 'Age', 'Fare', 'Cabin',\n",
       "       'Embarked', 'TravelSolo'],\n",
       "      dtype='object')"
      ]
     },
     "execution_count": 23,
     "metadata": {},
     "output_type": "execute_result"
    }
   ],
   "source": [
    "df_train.drop(['SibSp', 'Parch'], axis=1, inplace=True)\n",
    "df_train.columns"
   ]
  },
  {
   "cell_type": "code",
   "execution_count": 24,
   "metadata": {},
   "outputs": [
    {
     "data": {
      "text/html": [
       "<div>\n",
       "<style scoped>\n",
       "    .dataframe tbody tr th:only-of-type {\n",
       "        vertical-align: middle;\n",
       "    }\n",
       "\n",
       "    .dataframe tbody tr th {\n",
       "        vertical-align: top;\n",
       "    }\n",
       "\n",
       "    .dataframe thead th {\n",
       "        text-align: right;\n",
       "    }\n",
       "</style>\n",
       "<table border=\"1\" class=\"dataframe\">\n",
       "  <thead>\n",
       "    <tr style=\"text-align: right;\">\n",
       "      <th></th>\n",
       "      <th>PassengerId</th>\n",
       "      <th>Survived</th>\n",
       "      <th>Pclass</th>\n",
       "      <th>Sex</th>\n",
       "      <th>Age</th>\n",
       "      <th>Fare</th>\n",
       "      <th>Cabin</th>\n",
       "      <th>Embarked</th>\n",
       "      <th>TravelSolo</th>\n",
       "    </tr>\n",
       "  </thead>\n",
       "  <tbody>\n",
       "    <tr>\n",
       "      <th>0</th>\n",
       "      <td>1</td>\n",
       "      <td>0</td>\n",
       "      <td>3</td>\n",
       "      <td>male</td>\n",
       "      <td>22.0</td>\n",
       "      <td>7.2500</td>\n",
       "      <td>NaN</td>\n",
       "      <td>S</td>\n",
       "      <td>False</td>\n",
       "    </tr>\n",
       "    <tr>\n",
       "      <th>1</th>\n",
       "      <td>2</td>\n",
       "      <td>1</td>\n",
       "      <td>1</td>\n",
       "      <td>female</td>\n",
       "      <td>38.0</td>\n",
       "      <td>71.2833</td>\n",
       "      <td>C85</td>\n",
       "      <td>C</td>\n",
       "      <td>False</td>\n",
       "    </tr>\n",
       "    <tr>\n",
       "      <th>2</th>\n",
       "      <td>3</td>\n",
       "      <td>1</td>\n",
       "      <td>3</td>\n",
       "      <td>female</td>\n",
       "      <td>26.0</td>\n",
       "      <td>7.9250</td>\n",
       "      <td>NaN</td>\n",
       "      <td>S</td>\n",
       "      <td>True</td>\n",
       "    </tr>\n",
       "    <tr>\n",
       "      <th>3</th>\n",
       "      <td>4</td>\n",
       "      <td>1</td>\n",
       "      <td>1</td>\n",
       "      <td>female</td>\n",
       "      <td>35.0</td>\n",
       "      <td>53.1000</td>\n",
       "      <td>C123</td>\n",
       "      <td>S</td>\n",
       "      <td>False</td>\n",
       "    </tr>\n",
       "    <tr>\n",
       "      <th>4</th>\n",
       "      <td>5</td>\n",
       "      <td>0</td>\n",
       "      <td>3</td>\n",
       "      <td>male</td>\n",
       "      <td>35.0</td>\n",
       "      <td>8.0500</td>\n",
       "      <td>NaN</td>\n",
       "      <td>S</td>\n",
       "      <td>True</td>\n",
       "    </tr>\n",
       "  </tbody>\n",
       "</table>\n",
       "</div>"
      ],
      "text/plain": [
       "   PassengerId  Survived  Pclass     Sex   Age     Fare Cabin Embarked  \\\n",
       "0            1         0       3    male  22.0   7.2500   NaN        S   \n",
       "1            2         1       1  female  38.0  71.2833   C85        C   \n",
       "2            3         1       3  female  26.0   7.9250   NaN        S   \n",
       "3            4         1       1  female  35.0  53.1000  C123        S   \n",
       "4            5         0       3    male  35.0   8.0500   NaN        S   \n",
       "\n",
       "   TravelSolo  \n",
       "0       False  \n",
       "1       False  \n",
       "2        True  \n",
       "3       False  \n",
       "4        True  "
      ]
     },
     "execution_count": 24,
     "metadata": {},
     "output_type": "execute_result"
    }
   ],
   "source": [
    "df_train.head()"
   ]
  },
  {
   "cell_type": "code",
   "execution_count": 25,
   "metadata": {},
   "outputs": [
    {
     "data": {
      "text/plain": [
       "PassengerId      0\n",
       "Survived         0\n",
       "Pclass           0\n",
       "Sex              0\n",
       "Age            177\n",
       "Fare             0\n",
       "Cabin          687\n",
       "Embarked         2\n",
       "TravelSolo       0\n",
       "dtype: int64"
      ]
     },
     "execution_count": 25,
     "metadata": {},
     "output_type": "execute_result"
    }
   ],
   "source": [
    "df_train.isnull().sum()"
   ]
  },
  {
   "cell_type": "markdown",
   "metadata": {},
   "source": [
    "Imputation Methods for sorting out nulls:\n",
    "\n",
    "Mean imputation: Suitable for approximately normally distributed data.\n",
    "Median imputation: better for skewed datasets as more robust to skew and outliers than mean imputation. \n",
    "Mode imputation: better for categorical or non-numerical data."
   ]
  },
  {
   "cell_type": "code",
   "execution_count": 26,
   "metadata": {},
   "outputs": [
    {
     "data": {
      "text/html": [
       "<div>\n",
       "<style scoped>\n",
       "    .dataframe tbody tr th:only-of-type {\n",
       "        vertical-align: middle;\n",
       "    }\n",
       "\n",
       "    .dataframe tbody tr th {\n",
       "        vertical-align: top;\n",
       "    }\n",
       "\n",
       "    .dataframe thead th {\n",
       "        text-align: right;\n",
       "    }\n",
       "</style>\n",
       "<table border=\"1\" class=\"dataframe\">\n",
       "  <thead>\n",
       "    <tr style=\"text-align: right;\">\n",
       "      <th></th>\n",
       "      <th>PassengerId</th>\n",
       "      <th>Survived</th>\n",
       "      <th>Pclass</th>\n",
       "      <th>Sex</th>\n",
       "      <th>Age</th>\n",
       "      <th>Fare</th>\n",
       "      <th>Cabin</th>\n",
       "      <th>Embarked</th>\n",
       "      <th>TravelSolo</th>\n",
       "    </tr>\n",
       "  </thead>\n",
       "  <tbody>\n",
       "    <tr>\n",
       "      <th>0</th>\n",
       "      <td>1</td>\n",
       "      <td>0</td>\n",
       "      <td>3</td>\n",
       "      <td>male</td>\n",
       "      <td>22.0</td>\n",
       "      <td>7.2500</td>\n",
       "      <td>B96 B98</td>\n",
       "      <td>S</td>\n",
       "      <td>False</td>\n",
       "    </tr>\n",
       "    <tr>\n",
       "      <th>1</th>\n",
       "      <td>2</td>\n",
       "      <td>1</td>\n",
       "      <td>1</td>\n",
       "      <td>female</td>\n",
       "      <td>38.0</td>\n",
       "      <td>71.2833</td>\n",
       "      <td>C85</td>\n",
       "      <td>C</td>\n",
       "      <td>False</td>\n",
       "    </tr>\n",
       "    <tr>\n",
       "      <th>2</th>\n",
       "      <td>3</td>\n",
       "      <td>1</td>\n",
       "      <td>3</td>\n",
       "      <td>female</td>\n",
       "      <td>26.0</td>\n",
       "      <td>7.9250</td>\n",
       "      <td>B96 B98</td>\n",
       "      <td>S</td>\n",
       "      <td>True</td>\n",
       "    </tr>\n",
       "    <tr>\n",
       "      <th>3</th>\n",
       "      <td>4</td>\n",
       "      <td>1</td>\n",
       "      <td>1</td>\n",
       "      <td>female</td>\n",
       "      <td>35.0</td>\n",
       "      <td>53.1000</td>\n",
       "      <td>C123</td>\n",
       "      <td>S</td>\n",
       "      <td>False</td>\n",
       "    </tr>\n",
       "    <tr>\n",
       "      <th>4</th>\n",
       "      <td>5</td>\n",
       "      <td>0</td>\n",
       "      <td>3</td>\n",
       "      <td>male</td>\n",
       "      <td>35.0</td>\n",
       "      <td>8.0500</td>\n",
       "      <td>B96 B98</td>\n",
       "      <td>S</td>\n",
       "      <td>True</td>\n",
       "    </tr>\n",
       "    <tr>\n",
       "      <th>5</th>\n",
       "      <td>6</td>\n",
       "      <td>0</td>\n",
       "      <td>3</td>\n",
       "      <td>male</td>\n",
       "      <td>28.0</td>\n",
       "      <td>8.4583</td>\n",
       "      <td>B96 B98</td>\n",
       "      <td>Q</td>\n",
       "      <td>True</td>\n",
       "    </tr>\n",
       "    <tr>\n",
       "      <th>6</th>\n",
       "      <td>7</td>\n",
       "      <td>0</td>\n",
       "      <td>1</td>\n",
       "      <td>male</td>\n",
       "      <td>54.0</td>\n",
       "      <td>51.8625</td>\n",
       "      <td>E46</td>\n",
       "      <td>S</td>\n",
       "      <td>True</td>\n",
       "    </tr>\n",
       "    <tr>\n",
       "      <th>7</th>\n",
       "      <td>8</td>\n",
       "      <td>0</td>\n",
       "      <td>3</td>\n",
       "      <td>male</td>\n",
       "      <td>2.0</td>\n",
       "      <td>21.0750</td>\n",
       "      <td>B96 B98</td>\n",
       "      <td>S</td>\n",
       "      <td>False</td>\n",
       "    </tr>\n",
       "    <tr>\n",
       "      <th>8</th>\n",
       "      <td>9</td>\n",
       "      <td>1</td>\n",
       "      <td>3</td>\n",
       "      <td>female</td>\n",
       "      <td>27.0</td>\n",
       "      <td>11.1333</td>\n",
       "      <td>B96 B98</td>\n",
       "      <td>S</td>\n",
       "      <td>False</td>\n",
       "    </tr>\n",
       "    <tr>\n",
       "      <th>9</th>\n",
       "      <td>10</td>\n",
       "      <td>1</td>\n",
       "      <td>2</td>\n",
       "      <td>female</td>\n",
       "      <td>14.0</td>\n",
       "      <td>30.0708</td>\n",
       "      <td>B96 B98</td>\n",
       "      <td>C</td>\n",
       "      <td>False</td>\n",
       "    </tr>\n",
       "  </tbody>\n",
       "</table>\n",
       "</div>"
      ],
      "text/plain": [
       "   PassengerId  Survived  Pclass     Sex   Age     Fare    Cabin Embarked  \\\n",
       "0            1         0       3    male  22.0   7.2500  B96 B98        S   \n",
       "1            2         1       1  female  38.0  71.2833      C85        C   \n",
       "2            3         1       3  female  26.0   7.9250  B96 B98        S   \n",
       "3            4         1       1  female  35.0  53.1000     C123        S   \n",
       "4            5         0       3    male  35.0   8.0500  B96 B98        S   \n",
       "5            6         0       3    male  28.0   8.4583  B96 B98        Q   \n",
       "6            7         0       1    male  54.0  51.8625      E46        S   \n",
       "7            8         0       3    male   2.0  21.0750  B96 B98        S   \n",
       "8            9         1       3  female  27.0  11.1333  B96 B98        S   \n",
       "9           10         1       2  female  14.0  30.0708  B96 B98        C   \n",
       "\n",
       "   TravelSolo  \n",
       "0       False  \n",
       "1       False  \n",
       "2        True  \n",
       "3       False  \n",
       "4        True  \n",
       "5        True  \n",
       "6        True  \n",
       "7       False  \n",
       "8       False  \n",
       "9       False  "
      ]
     },
     "execution_count": 26,
     "metadata": {},
     "output_type": "execute_result"
    }
   ],
   "source": [
    "df_train['Age'].fillna(df_train['Age'].median(skipna=True), inplace=True) # imputing Age nulls with median value due to skewness.\n",
    "\n",
    "df_train['Cabin'].fillna(df_train['Cabin'].mode().iloc[0], inplace=True) # Imputing Cabin with first mode value. No skipna here because it causes error.\n",
    "\n",
    "df_train['Embarked'].fillna(df_train['Embarked'].mode().iloc[0], inplace=True)\n",
    "\n",
    "df_train.head(10)"
   ]
  },
  {
   "cell_type": "code",
   "execution_count": 27,
   "metadata": {},
   "outputs": [
    {
     "data": {
      "text/plain": [
       "PassengerId    0\n",
       "Survived       0\n",
       "Pclass         0\n",
       "Sex            0\n",
       "Age            0\n",
       "Fare           0\n",
       "Cabin          0\n",
       "Embarked       0\n",
       "TravelSolo     0\n",
       "dtype: int64"
      ]
     },
     "execution_count": 27,
     "metadata": {},
     "output_type": "execute_result"
    }
   ],
   "source": [
    "df_train.isnull().sum()\n",
    "# Nulls filled."
   ]
  },
  {
   "cell_type": "code",
   "execution_count": 28,
   "metadata": {},
   "outputs": [
    {
     "data": {
      "text/plain": [
       "Cabin\n",
       "B96 B98        691\n",
       "G6               4\n",
       "C23 C25 C27      4\n",
       "C22 C26          3\n",
       "F33              3\n",
       "              ... \n",
       "E34              1\n",
       "C7               1\n",
       "C54              1\n",
       "E36              1\n",
       "C148             1\n",
       "Name: count, Length: 147, dtype: int64"
      ]
     },
     "execution_count": 28,
     "metadata": {},
     "output_type": "execute_result"
    }
   ],
   "source": [
    "df_train['Cabin'].value_counts()"
   ]
  },
  {
   "cell_type": "markdown",
   "metadata": {},
   "source": [
    "Looks like my mode imputation has thrown most passengers into cabin B96 B98 and my advice from the Internet is to drop this variable from the dataset because of how mode imputation has worked in this case. \n",
    "\n",
    "However, I know from history knowledge that the wealthier passengers were housed in cabins that were on higher decks, meaning they had quicker access to the top deck of the ship where all the emergency equipment was, whereas poorer passengers were housed deeper in the ship where flooding was at its worst and many drowned in their rooms. So since cabin probably is a predictor of survival chance based on that, I thought about extracting the deck label and creating a new column with this but ran out of time before I could figure the code out to do it. So I will drop 'Cabin' instead but I am aware of the potential impact of this on my model. "
   ]
  },
  {
   "cell_type": "code",
   "execution_count": 29,
   "metadata": {},
   "outputs": [],
   "source": [
    "# I will also drop ID at this point because I feel I am finished with EDA and ID won't meaningfully impact survival chance.\n",
    "\n",
    "df_train.drop('PassengerId', axis=1, inplace=True)\n",
    "df_train.drop('Cabin', axis=1, inplace=True) "
   ]
  },
  {
   "cell_type": "code",
   "execution_count": 30,
   "metadata": {},
   "outputs": [
    {
     "data": {
      "text/plain": [
       "Survived        int64\n",
       "Pclass          int64\n",
       "Sex            object\n",
       "Age           float64\n",
       "Fare          float64\n",
       "Embarked       object\n",
       "TravelSolo       bool\n",
       "dtype: object"
      ]
     },
     "execution_count": 30,
     "metadata": {},
     "output_type": "execute_result"
    }
   ],
   "source": [
    "df_train.dtypes # Getting ready to do OHE on object variables. "
   ]
  },
  {
   "cell_type": "markdown",
   "metadata": {},
   "source": [
    "Explaining the OHE code below:\n",
    "\n",
    "The below code box is doing one-hot encoding on each column of the dataset that was an 'object' datatype (categorical variable), converting each entry to an integer-8 value (int8). I chose int8 for memory optimization because the numbers assigned were going to be small in scale (int8 range is -128 to 127 and uses 1 byte of memory per integer). \n",
    "\n",
    "I dropped the first level to try and avoid problems with multicollinearity which affects standard error (precision of a statistic) and makes it more difficult to judge the impact of each feature on our dependent variable. However I later noted that this stopped OHE from applying to 'Cherbourg' in 'Embarked' so I changed it to 'False.'"
   ]
  },
  {
   "cell_type": "code",
   "execution_count": 31,
   "metadata": {},
   "outputs": [
    {
     "data": {
      "text/html": [
       "<div>\n",
       "<style scoped>\n",
       "    .dataframe tbody tr th:only-of-type {\n",
       "        vertical-align: middle;\n",
       "    }\n",
       "\n",
       "    .dataframe tbody tr th {\n",
       "        vertical-align: top;\n",
       "    }\n",
       "\n",
       "    .dataframe thead th {\n",
       "        text-align: right;\n",
       "    }\n",
       "</style>\n",
       "<table border=\"1\" class=\"dataframe\">\n",
       "  <thead>\n",
       "    <tr style=\"text-align: right;\">\n",
       "      <th></th>\n",
       "      <th>Survived</th>\n",
       "      <th>Pclass</th>\n",
       "      <th>Age</th>\n",
       "      <th>Fare</th>\n",
       "      <th>OHE_female</th>\n",
       "      <th>OHE_male</th>\n",
       "      <th>OHE_C</th>\n",
       "      <th>OHE_Q</th>\n",
       "      <th>OHE_S</th>\n",
       "      <th>OHE_False</th>\n",
       "      <th>OHE_True</th>\n",
       "    </tr>\n",
       "  </thead>\n",
       "  <tbody>\n",
       "    <tr>\n",
       "      <th>0</th>\n",
       "      <td>0</td>\n",
       "      <td>3</td>\n",
       "      <td>22.0</td>\n",
       "      <td>7.2500</td>\n",
       "      <td>0</td>\n",
       "      <td>1</td>\n",
       "      <td>0</td>\n",
       "      <td>0</td>\n",
       "      <td>1</td>\n",
       "      <td>1</td>\n",
       "      <td>0</td>\n",
       "    </tr>\n",
       "    <tr>\n",
       "      <th>1</th>\n",
       "      <td>1</td>\n",
       "      <td>1</td>\n",
       "      <td>38.0</td>\n",
       "      <td>71.2833</td>\n",
       "      <td>1</td>\n",
       "      <td>0</td>\n",
       "      <td>1</td>\n",
       "      <td>0</td>\n",
       "      <td>0</td>\n",
       "      <td>1</td>\n",
       "      <td>0</td>\n",
       "    </tr>\n",
       "    <tr>\n",
       "      <th>2</th>\n",
       "      <td>1</td>\n",
       "      <td>3</td>\n",
       "      <td>26.0</td>\n",
       "      <td>7.9250</td>\n",
       "      <td>1</td>\n",
       "      <td>0</td>\n",
       "      <td>0</td>\n",
       "      <td>0</td>\n",
       "      <td>1</td>\n",
       "      <td>0</td>\n",
       "      <td>1</td>\n",
       "    </tr>\n",
       "    <tr>\n",
       "      <th>3</th>\n",
       "      <td>1</td>\n",
       "      <td>1</td>\n",
       "      <td>35.0</td>\n",
       "      <td>53.1000</td>\n",
       "      <td>1</td>\n",
       "      <td>0</td>\n",
       "      <td>0</td>\n",
       "      <td>0</td>\n",
       "      <td>1</td>\n",
       "      <td>1</td>\n",
       "      <td>0</td>\n",
       "    </tr>\n",
       "    <tr>\n",
       "      <th>4</th>\n",
       "      <td>0</td>\n",
       "      <td>3</td>\n",
       "      <td>35.0</td>\n",
       "      <td>8.0500</td>\n",
       "      <td>0</td>\n",
       "      <td>1</td>\n",
       "      <td>0</td>\n",
       "      <td>0</td>\n",
       "      <td>1</td>\n",
       "      <td>0</td>\n",
       "      <td>1</td>\n",
       "    </tr>\n",
       "    <tr>\n",
       "      <th>...</th>\n",
       "      <td>...</td>\n",
       "      <td>...</td>\n",
       "      <td>...</td>\n",
       "      <td>...</td>\n",
       "      <td>...</td>\n",
       "      <td>...</td>\n",
       "      <td>...</td>\n",
       "      <td>...</td>\n",
       "      <td>...</td>\n",
       "      <td>...</td>\n",
       "      <td>...</td>\n",
       "    </tr>\n",
       "    <tr>\n",
       "      <th>886</th>\n",
       "      <td>0</td>\n",
       "      <td>2</td>\n",
       "      <td>27.0</td>\n",
       "      <td>13.0000</td>\n",
       "      <td>0</td>\n",
       "      <td>1</td>\n",
       "      <td>0</td>\n",
       "      <td>0</td>\n",
       "      <td>1</td>\n",
       "      <td>0</td>\n",
       "      <td>1</td>\n",
       "    </tr>\n",
       "    <tr>\n",
       "      <th>887</th>\n",
       "      <td>1</td>\n",
       "      <td>1</td>\n",
       "      <td>19.0</td>\n",
       "      <td>30.0000</td>\n",
       "      <td>1</td>\n",
       "      <td>0</td>\n",
       "      <td>0</td>\n",
       "      <td>0</td>\n",
       "      <td>1</td>\n",
       "      <td>0</td>\n",
       "      <td>1</td>\n",
       "    </tr>\n",
       "    <tr>\n",
       "      <th>888</th>\n",
       "      <td>0</td>\n",
       "      <td>3</td>\n",
       "      <td>28.0</td>\n",
       "      <td>23.4500</td>\n",
       "      <td>1</td>\n",
       "      <td>0</td>\n",
       "      <td>0</td>\n",
       "      <td>0</td>\n",
       "      <td>1</td>\n",
       "      <td>1</td>\n",
       "      <td>0</td>\n",
       "    </tr>\n",
       "    <tr>\n",
       "      <th>889</th>\n",
       "      <td>1</td>\n",
       "      <td>1</td>\n",
       "      <td>26.0</td>\n",
       "      <td>30.0000</td>\n",
       "      <td>0</td>\n",
       "      <td>1</td>\n",
       "      <td>1</td>\n",
       "      <td>0</td>\n",
       "      <td>0</td>\n",
       "      <td>0</td>\n",
       "      <td>1</td>\n",
       "    </tr>\n",
       "    <tr>\n",
       "      <th>890</th>\n",
       "      <td>0</td>\n",
       "      <td>3</td>\n",
       "      <td>32.0</td>\n",
       "      <td>7.7500</td>\n",
       "      <td>0</td>\n",
       "      <td>1</td>\n",
       "      <td>0</td>\n",
       "      <td>1</td>\n",
       "      <td>0</td>\n",
       "      <td>0</td>\n",
       "      <td>1</td>\n",
       "    </tr>\n",
       "  </tbody>\n",
       "</table>\n",
       "<p>891 rows × 11 columns</p>\n",
       "</div>"
      ],
      "text/plain": [
       "     Survived  Pclass   Age     Fare  OHE_female  OHE_male  OHE_C  OHE_Q  \\\n",
       "0           0       3  22.0   7.2500           0         1      0      0   \n",
       "1           1       1  38.0  71.2833           1         0      1      0   \n",
       "2           1       3  26.0   7.9250           1         0      0      0   \n",
       "3           1       1  35.0  53.1000           1         0      0      0   \n",
       "4           0       3  35.0   8.0500           0         1      0      0   \n",
       "..        ...     ...   ...      ...         ...       ...    ...    ...   \n",
       "886         0       2  27.0  13.0000           0         1      0      0   \n",
       "887         1       1  19.0  30.0000           1         0      0      0   \n",
       "888         0       3  28.0  23.4500           1         0      0      0   \n",
       "889         1       1  26.0  30.0000           0         1      1      0   \n",
       "890         0       3  32.0   7.7500           0         1      0      1   \n",
       "\n",
       "     OHE_S  OHE_False  OHE_True  \n",
       "0        1          1         0  \n",
       "1        0          1         0  \n",
       "2        1          0         1  \n",
       "3        1          1         0  \n",
       "4        1          0         1  \n",
       "..     ...        ...       ...  \n",
       "886      1          0         1  \n",
       "887      1          0         1  \n",
       "888      1          1         0  \n",
       "889      0          0         1  \n",
       "890      0          0         1  \n",
       "\n",
       "[891 rows x 11 columns]"
      ]
     },
     "execution_count": 31,
     "metadata": {},
     "output_type": "execute_result"
    }
   ],
   "source": [
    "categorical_columns = ['Sex','Embarked', 'TravelSolo'] # Didn't need to OHE TravelSolo, can do .astype('int8') as noted earlier. \n",
    "df_encode = pd.get_dummies(data = df_train, prefix = 'OHE', prefix_sep='_',\n",
    "               columns = categorical_columns,\n",
    "               drop_first =False,\n",
    "              dtype='int8')\n",
    "\n",
    "# Can drop_first and model should work alright, but when 3+ should keep it. \n",
    "# Since most passengers were embarked at Southampton, might be able to drop the other Ports. [ Jordan's idea ]\n",
    "\n",
    "df_encode"
   ]
  },
  {
   "cell_type": "code",
   "execution_count": 32,
   "metadata": {},
   "outputs": [
    {
     "data": {
      "text/plain": [
       "Survived      0\n",
       "Pclass        0\n",
       "Age           0\n",
       "Fare          0\n",
       "OHE_female    0\n",
       "OHE_male      0\n",
       "OHE_C         0\n",
       "OHE_Q         0\n",
       "OHE_S         0\n",
       "OHE_False     0\n",
       "OHE_True      0\n",
       "dtype: int64"
      ]
     },
     "execution_count": 32,
     "metadata": {},
     "output_type": "execute_result"
    }
   ],
   "source": [
    "df_encode.isnull().sum() # Double checking that it went through."
   ]
  },
  {
   "cell_type": "code",
   "execution_count": 33,
   "metadata": {},
   "outputs": [
    {
     "name": "stdout",
     "output_type": "stream",
     "text": [
      "Columns in original data frame:\n",
      " ['Survived' 'Pclass' 'Sex' 'Age' 'Fare' 'Embarked' 'TravelSolo']\n",
      "\n",
      "Number of rows and columns in the dataset: (891, 7)\n",
      "\n",
      "Columns in data frame after encoding dummy variable:\n",
      " ['Survived' 'Pclass' 'Age' 'Fare' 'OHE_female' 'OHE_male' 'OHE_C' 'OHE_Q'\n",
      " 'OHE_S' 'OHE_False' 'OHE_True']\n",
      "\n",
      "Number of rows and columns in the dataset: (891, 11)\n"
     ]
    }
   ],
   "source": [
    "df=df_train\n",
    "print('Columns in original data frame:\\n',df_train.columns.values)\n",
    "print('\\nNumber of rows and columns in the dataset:',df_train.shape)\n",
    "print('\\nColumns in data frame after encoding dummy variable:\\n',df_encode.columns.values)\n",
    "print('\\nNumber of rows and columns in the dataset:',df_encode.shape)\n",
    "# The above code is looking to see how OHE has changed my original dataframe in terms of its dimensions. "
   ]
  },
  {
   "cell_type": "markdown",
   "metadata": {},
   "source": [
    "OHE_male = Sex of Passenger (0 = female, 1 = male)\n",
    "OHE_female = Sex of Passenger (0 = male, 1 = female)\n",
    "OHE_Q = Embarked at Queensland (0 for no, 1 for yes)\n",
    "OHE_S = Embarked at Southampton (0 for no, 1 for yes)\n",
    "OHE_C = Embarked at Cherbourg (0 for no, 1 for yes)\n",
    "OHE_True = Traveller was alone on the journey (0 for no, 1 for yes)\n",
    "OHE_False = Traveller was with someone on the journey (0 for no, 1 for yes)\n",
    "\n",
    "I think having two OHE columns for TravelSolo and Sex is unnecessary so I'll drop one?"
   ]
  },
  {
   "cell_type": "code",
   "execution_count": 34,
   "metadata": {},
   "outputs": [],
   "source": [
    "df_encode.drop(['OHE_False'], axis=1, inplace=True)\n",
    "df_encode.drop(['OHE_female'], axis=1, inplace=True)\n",
    "\n",
    "# Could we rename OHE_True as OHE_Alone?"
   ]
  },
  {
   "cell_type": "code",
   "execution_count": 35,
   "metadata": {},
   "outputs": [
    {
     "data": {
      "text/plain": [
       "Survived\n",
       "0    549\n",
       "1    342\n",
       "Name: count, dtype: int64"
      ]
     },
     "execution_count": 35,
     "metadata": {},
     "output_type": "execute_result"
    }
   ],
   "source": [
    "# Do I need to do binary encoding on 'Survived'? If it's already a binary value (0 or 1) then I assume not?\n",
    "\n",
    "df['Survived'].value_counts()"
   ]
  },
  {
   "cell_type": "code",
   "execution_count": 36,
   "metadata": {},
   "outputs": [
    {
     "name": "stdout",
     "output_type": "stream",
     "text": [
      "[1 0 0 1 0 0 0 0 0 0 0 0 1 0 0 1 0 1 1 1 0 0 0 0 0 0 0 0 0 0 0 0 0 0 0 0 0\n",
      " 1 1 0 1 0 1 0 0 0 0 0 1 0 1 1 0 1 0 1 0 1 0 0 0 1 0 0 0 0 1 1 1 1 0 0 0 1\n",
      " 1 0 1 0 1 1 0 0 0 0 0 0 1 1 1 0 0 0 1 0 0 0 1 0 0 0 1 0 0 1 1 0 0 0 1 0 0\n",
      " 0 0 0 0 0 1 1 0 0 1 0 1 0 0 0 0 1 1 0 0 1 0 0 0 1 1 0 0 0 1 1 1 1 1 0 1 0\n",
      " 1 0 1 0 0 1 0 0 0 0 1 0 0 0 0 0 0 0 0 0 0 0 0 0 1 1 0 0 1 0 1 1 0 0 0 1 0\n",
      " 0 0 0 0 0 1 0 1 1 1 0 0 0 0 0 0 0 0 1 0 0 1 0 1 0 0 0 0 0 0 0 1 0 0 1 0 0\n",
      " 1 0 1 1 0 0 0 0 0 0 0 1 0 0 1 0 0 0 0 0 1 0 1 0 0 1 1 1 0 0 1 0 0 1 1 1 0\n",
      " 0 1 0 1 0 0 0 0 1]\n"
     ]
    }
   ],
   "source": [
    "# Time to start the regression training.\n",
    "\n",
    "from sklearn.model_selection import train_test_split\n",
    "\n",
    "X = df_encode.drop('Survived', axis=1) # feature matrix/independent variables.\n",
    "y = df_encode['Survived'] # Target/dependent variable.\n",
    "X_train, X_test, y_train, y_test = train_test_split(X, y, test_size=0.3, random_state=23)\n",
    "\n",
    "# The above code prepares data for *supervised* machine learning by splitting it into features (X) and the target variable (y).\n",
    "# Test size was set at 0.3 (30%) as Google advised this test size for smaller datasets.\n",
    "# It then splits the data into training and testing sets to evaluate the model's performance.\n",
    "# The testing set is used to assess how well the model generalizes to unseen data, basically telling us how accurate our regression model is.\n",
    "# Random_state=23 does not affect anything to my knowledge, it just helps to make the output reproducible by others.\n",
    "\n",
    "from sklearn.linear_model import LogisticRegression\n",
    "\n",
    "LogReg = LogisticRegression(solver='liblinear', random_state=23) # Liblinear is a solver algorithm for small datasets\n",
    "LogReg.fit(X_train, y_train) # This line trains the logreg model on the training data.\n",
    "\n",
    "# Predictions\n",
    "\n",
    "y_pred_test = LogReg.predict(X_test) # The output of the model.\n",
    "\n",
    "print(y_pred_test) "
   ]
  },
  {
   "cell_type": "markdown",
   "metadata": {},
   "source": [
    "It's an array of binary but Google tells me this is to be expected for logistic regression.\n",
    "This is because a logistic regression model predicts the probability that an instance belongs to the positive class (class 1), and then a threshold is applied to determine the predicted class.\n",
    "\n",
    "Google - \"The default threshold in scikit-learn for binary classification is 0.5. If the predicted probability is greater than or equal to 0.5, the instance is classified as class 1; otherwise, it is classified as class 0.\""
   ]
  },
  {
   "cell_type": "code",
   "execution_count": 37,
   "metadata": {},
   "outputs": [
    {
     "data": {
      "text/plain": [
       "0.7835820895522388"
      ]
     },
     "execution_count": 37,
     "metadata": {},
     "output_type": "execute_result"
    }
   ],
   "source": [
    "from sklearn.metrics import accuracy_score\n",
    "accuracy_score(y_test, y_pred_test)\n",
    "# More scores like this to come later on."
   ]
  },
  {
   "cell_type": "markdown",
   "metadata": {},
   "source": [
    "The above value tells me that my logistic regression model correctly predicts 78.35% of 'Survived' from the input. This means that 21.65% of these predictions are not correct, suggesting other factors that are not within the inputs are influencing survival. It might be some of the inputs I dropped earlier like 'Name' or 'Cabin' or it could be something else that was never included in the original dataset, or simply random chance. "
   ]
  },
  {
   "cell_type": "code",
   "execution_count": 38,
   "metadata": {},
   "outputs": [
    {
     "name": "stdout",
     "output_type": "stream",
     "text": [
      "Optimization terminated successfully.\n",
      "         Current function value: 0.441403\n",
      "         Iterations 14\n",
      "                           Logit Regression Results                           \n",
      "==============================================================================\n",
      "Dep. Variable:               Survived   No. Observations:                  623\n",
      "Model:                          Logit   Df Residuals:                      614\n",
      "Method:                           MLE   Df Model:                            8\n",
      "Date:                Tue, 09 Jan 2024   Pseudo R-squ.:                  0.3427\n",
      "Time:                        11:33:04   Log-Likelihood:                -274.99\n",
      "converged:                       True   LL-Null:                       -418.38\n",
      "Covariance Type:            nonrobust   LLR p-value:                 2.689e-57\n",
      "==============================================================================\n",
      "                 coef    std err          z      P>|z|      [0.025      0.975]\n",
      "------------------------------------------------------------------------------\n",
      "const          4.3113   6.64e+06   6.49e-07      1.000    -1.3e+07     1.3e+07\n",
      "Pclass        -1.3662      0.176     -7.744      0.000      -1.712      -1.020\n",
      "Age           -0.0382      0.009     -4.025      0.000      -0.057      -0.020\n",
      "Fare          -0.0059      0.003     -2.156      0.031      -0.011      -0.001\n",
      "OHE_male      -2.6445      0.238    -11.100      0.000      -3.111      -2.178\n",
      "OHE_C          1.7676   6.64e+06   2.66e-07      1.000    -1.3e+07     1.3e+07\n",
      "OHE_Q          1.6484   6.64e+06   2.48e-07      1.000    -1.3e+07     1.3e+07\n",
      "OHE_S          0.8952   6.64e+06   1.35e-07      1.000    -1.3e+07     1.3e+07\n",
      "OHE_True       0.1511      0.236      0.640      0.522      -0.312       0.614\n",
      "==============================================================================\n"
     ]
    }
   ],
   "source": [
    "# Finding out P-value for LogReg..\n",
    "import statsmodels.api as sm\n",
    "\n",
    "X_train_with_intercept = sm.add_constant(X_train) # adds an intercept to the feature matrix to account for baseline probability. Baseline probability represents the probability of the dependent variable being in a particular category when all independent variables are set to a zero.\n",
    "logit_model = sm.Logit(y_train, X_train_with_intercept)\n",
    "result = logit_model.fit() # This line fits the logistic regression model to the training data.\n",
    "\n",
    "# The above codes tell statsmodel what our logistic regression model is so it knows what to do the P-value calc on. \n",
    "# sm.Logit is the logistic regression version of sm.OLS\n",
    "\n",
    "print(result.summary())\n",
    "# The below output changes 'time' and 'date' every time I have to reload this notebook. Original regression was completed on the 5th of January at 2pm."
   ]
  },
  {
   "cell_type": "markdown",
   "metadata": {},
   "source": [
    "Converged: True = optimization algorithm has reached a stable solution = model parameters have been adjusted to reduce difference between predicted and actual outcomes.\n",
    "\n",
    "Interpretations focused on model performance rather than individual effect sizes for features.\n",
    "\n",
    "# P-value interpretation #\n",
    "\n",
    "Pclass: p-value < 0.001 (highly significant)\n",
    "Age: p-value < 0.001 (highly significant)\n",
    "Fare: p-value = 0.031 (significant)\n",
    "OHE_male: p-value < 0.001 (highly significant)\n",
    "OHE_C: p-value = 1.000 (not significant)\n",
    "OHE_Q: p-value = 1.000 (not significant)\n",
    "OHE_S: p-value = 1.000 (not significant)\n",
    "OHE_True: p-value = 0.522 (not significant)\n",
    "\n",
    "Statistical significance = the probability of observing the estimated relationship between each predictor and 'Survived' by chance instead of direct effect. \n",
    "The lower the P-value, the more likely it is that this predictor contributes positively to the model's ability to predict whether a Passenger survived or not.\n",
    "\n",
    "# Other Stats Interpretation #\n",
    "\n",
    "Pseudo R^2 = 0.3427 = 34.27% of the variability in 'Survived' is explained by this LogReg model. \n",
    "\n",
    "LLR p-value = 2.689e-57 = very high statistical significance of the model (anything with e-57 after it is a very small number!). \n",
    "Note: if your model is very significant it will get tiny values like the above because it's not mathematically possible for p = 0.\n",
    "\n",
    "Log-Likelihood = -274.99 = not meaningful without another classification model here to compare it to as this allows you to compare different regression models to see which one fits your observed data the best. "
   ]
  },
  {
   "cell_type": "code",
   "execution_count": 39,
   "metadata": {},
   "outputs": [
    {
     "data": {
      "text/plain": [
       "0.7126436781609196"
      ]
     },
     "execution_count": 39,
     "metadata": {},
     "output_type": "execute_result"
    }
   ],
   "source": [
    "#Precision Score for the model \n",
    "# Remimder: Precision = True Positives / (True Positives + False Positives)\n",
    "\n",
    "# y_test = original data, y_pred_test = LogReg prediction data.\n",
    "\n",
    "from sklearn.metrics import precision_score\n",
    "precision_score(y_test, y_pred_test)\n",
    "\n",
    "# Below output shows that 71.26% of my model's positive predictions were actually positive."
   ]
  },
  {
   "cell_type": "code",
   "execution_count": 40,
   "metadata": {},
   "outputs": [
    {
     "data": {
      "text/plain": [
       "0.6526315789473685"
      ]
     },
     "execution_count": 40,
     "metadata": {},
     "output_type": "execute_result"
    }
   ],
   "source": [
    "# Recall score.\n",
    "# Reminder: Recall (Sensitivity) = True Positives / (True Positives + False Negatives)\n",
    "\n",
    "from sklearn.metrics import recall_score\n",
    "recall_score(y_test, y_pred_test)\n",
    "\n",
    "# Below output shows that the model correctly identified and classified 65.26% of the actual positive instances out of all the positive instances present in the dataset. \n",
    "# A result of 0.6526 suggests the model performs somewhat well but far from ideal result of 100%."
   ]
  },
  {
   "cell_type": "code",
   "execution_count": 41,
   "metadata": {},
   "outputs": [
    {
     "name": "stdout",
     "output_type": "stream",
     "text": [
      "Accuracy Score = 0.7835820895522388\n",
      "Recall Score = 0.6526315789473685\n",
      "Precision Score = 0.7126436781609196\n",
      "F1 Score = 0.6813186813186813\n"
     ]
    }
   ],
   "source": [
    "from sklearn.metrics import f1_score\n",
    "\n",
    "print(f\"Accuracy Score =\", accuracy_score(y_test, y_pred_test))\n",
    "print(f\"Recall Score =\", recall_score(y_test, y_pred_test))\n",
    "print(f\"Precision Score =\", precision_score(y_test, y_pred_test))\n",
    "print(f\"F1 Score =\", f1_score(y_test, y_pred_test)) \n",
    "\n",
    "# f1 = 0.6813 = moderate balance between precision and recall, closer to 1 is better and closer to 0 suggests imbalance.\n",
    "# It suggests that the model is reasonably effective in correctly identifying positive instances while minimizing false positives and false negatives.\n",
    "# Balance between recall and precision is important because an increase in one usually causes a decrease in the other, affecting your performance metric outputs accordingly. "
   ]
  },
  {
   "cell_type": "code",
   "execution_count": 42,
   "metadata": {},
   "outputs": [
    {
     "data": {
      "image/png": "[encoded data removed]",
      "text/plain": [
       "<Figure size 640x480 with 1 Axes>"
      ]
     },
     "metadata": {},
     "output_type": "display_data"
    }
   ],
   "source": [
    "# Confusion Matrix \n",
    "# Confusion Matrix = evaluates performance of a classification algorithm by showing the counts of true positive, true negative, false positive, \n",
    "# and false negative predictions made by the model on a dataset.\n",
    "\n",
    "from sklearn.metrics import confusion_matrix\n",
    "\n",
    "conf_matrix = confusion_matrix(y_test, y_pred_test) # Comparing df_train data with model's prediction data\n",
    "\n",
    "# I did print(conf_matrix) and struggled to make sense of it so I had a go at plotting it in Seaborn instead.\n",
    "\n",
    "sns.heatmap(conf_matrix, annot=True, fmt='d', cmap='Blues', cbar=False,\n",
    "            xticklabels={'Predicted 0', 'Predicted 1'},\n",
    "            yticklabels=['Actual 0', 'Actual 1'])\n",
    "plt.title('Confusion Matrix')\n",
    "plt.xlabel('Predicted')\n",
    "plt.ylabel('True')\n",
    "plt.show()\n"
   ]
  },
  {
   "cell_type": "code",
   "execution_count": 43,
   "metadata": {},
   "outputs": [
    {
     "name": "stdout",
     "output_type": "stream",
     "text": [
      "[[148  25]\n",
      " [ 33  62]]\n"
     ]
    }
   ],
   "source": [
    "print(conf_matrix)"
   ]
  },
  {
   "cell_type": "markdown",
   "metadata": {},
   "source": [
    "# Confusion Matrix Interpretation #\n",
    "\n",
    "[[True Negative (TN)   False Positive (FP)]\n",
    " [False Negative (FN)  True Positive (TP)]]\n",
    "\n",
    "True Positive: cases where the model predicted '1' (positive) and the actual class is also '1' (positive) = 62\n",
    "\n",
    "False Positive: cases where the model predicted '1' (positive) but the actual class is '0' (negative) = 25\n",
    "\n",
    "True Negative: cases where the model predicted '0' (negative) and the actual class is also '0' (negative) = 148 \n",
    "\n",
    "False Negative: cases where the model predicted '0' (negative) but the actual class is '1' (positive) = 33"
   ]
  },
  {
   "cell_type": "code",
   "execution_count": 44,
   "metadata": {},
   "outputs": [
    {
     "data": {
      "image/png": "[encoded data removed]",
      "text/plain": [
       "<Figure size 640x480 with 1 Axes>"
      ]
     },
     "metadata": {},
     "output_type": "display_data"
    }
   ],
   "source": [
    "# Precision Curve\n",
    "from sklearn.metrics import precision_recall_curve\n",
    "\n",
    "precision, recall, thresholds = precision_recall_curve(y_test, y_pred_test) \n",
    "\n",
    "# Thresholds = probability setting to determine predicted class label. Useful for optimizing for Precision vs Recall. \n",
    "# Run workbook when not presenting and look at print(thresholds)\n",
    "\n",
    "# Plotting the precision-recall curve using matplotlib, line width = 3 for readability on a large screen\n",
    "plt.plot(recall, precision, label='Precision-Recall Curve', lw=3)\n",
    "plt.xlabel('Recall')\n",
    "plt.ylabel('Precision')\n",
    "plt.title('Precision-Recall Curve for this LogReg')\n",
    "plt.legend()\n",
    "plt.show()\n",
    "\n",
    "# Rule of thumb is that the closer your PR curve gets to the top right corner of the graph, the better.\n",
    "# Line plotted corresponds to earlier Precision and Recall scores where the two lines meet at the curve. "
   ]
  },
  {
   "cell_type": "code",
   "execution_count": 45,
   "metadata": {},
   "outputs": [
    {
     "data": {
      "image/png": "[encoded data removed]",
      "text/plain": [
       "<Figure size 800x800 with 1 Axes>"
      ]
     },
     "metadata": {},
     "output_type": "display_data"
    }
   ],
   "source": [
    "# Receiver Operating Characteristic (ROC) Curve\n",
    "# Method for assessing performance of classifiers like LogReg models. Represents true positives vs. false positives.\n",
    "# A good classifier should have a curve that is closer to the top-left corner.\n",
    "from sklearn.metrics import roc_curve, auc\n",
    "\n",
    "fpr, tpr, thresholds = roc_curve(y_test, y_pred_test) # false positive rate and true positive rate plotted onto roc_curve.\n",
    "roc_auc = auc(fpr, tpr)\n",
    "\n",
    "# Plotting the ROC curve in matplotlib\n",
    "\n",
    "plt.figure(figsize=(8, 8))\n",
    "plt.plot(fpr, tpr, color='red', lw=3, label='ROC curve (area = {:.2f})'.format(roc_auc))\n",
    "# Plots the ROC curve with false positive rate (fpr) on the x-axis and true positive rate (tpr) on the y-axis. \n",
    "# The line is red, has a line width of 3, and includes the area as a 2.digit float under the curve (AUC) value in the label.\n",
    "\n",
    "plt.xlabel('False Positive Rate')\n",
    "plt.ylabel('True Positive Rate')\n",
    "plt.title('ROC Curve')\n",
    "plt.legend()\n",
    "plt.show()\n",
    "\n",
    "# using test_proba to check probability instead of binary will increase the ROC curve area. "
   ]
  },
  {
   "cell_type": "markdown",
   "metadata": {},
   "source": [
    "# Interpreting Area Under ROC Curve (AUC-ROC) #\n",
    "AUC = 0.75 according to the graph\n",
    "AUC scale = 0 - 1\n",
    "\n",
    "AUC = 0.75 = \"moderate discrimination power\" = my LogReg model has some ability to distinguish between positive and negative instances but it's far from ideal (the closer you get to 1, the better) \n",
    "\n",
    "On the ROC curve graph, the closer your curve gets to the top-left corner, the higher your AUC will be. Higher AUC-ROC = higher sensitivity \n",
    "\n",
    "\n"
   ]
  },
  {
   "cell_type": "markdown",
   "metadata": {},
   "source": [
    "# What is 'Recursive Feature Elimination'?\n",
    "\n",
    "Recursive Feature Elimination (RFE) is a feature selection technique that works by recursively removing the least important features until the desired number of features is reached. There are 5 steps:\n",
    "\n",
    "1 - Build a Model: Initially, the model is trained on all available features.\n",
    "\n",
    "2 - Feature Importance Ranking: After the model is trained, it assigns importance scores to each feature. Features with the lowest importance scores are considered the least important.\n",
    "\n",
    "3 - Remove Least Important Feature(s): The least important feature(s) are removed from the dataset.\n",
    "\n",
    "4 - Repeat: Steps 1-3 are repeated on the reduced dataset until the desired number of features is reached.\n",
    "\n",
    "5 - Performance Evaluation: The final set of features is used to train the model, and its performance is evaluated.\n",
    "\n",
    "Machine learning algorithms such as Support Vector Machines (SVM) or Random Forest as well as logistic regression can be used with RFE due to their ability to provide feature importance scores.\n",
    "\n",
    "RFE is beneficial for:\n",
    "\n",
    "Reduce Overfitting: Removing irrelevant features can reduce overfitting, especially when dealing with high-dimensional data.\n",
    "\n",
    "Computational Efficiency: By focusing on a subset of features, it can reduce computational costs.\n",
    "\n",
    "Improved Model Performance: In some cases, removing irrelevant features can lead to a model that generalizes better to new, unseen data."
   ]
  },
  {
   "cell_type": "markdown",
   "metadata": {},
   "source": [
    "# What is cross validation? #\n",
    "\n",
    "Cross-validation is a statistical technique to assess the performance and generalizability of a predictive model by evaluating how well a model will perform on an independent dataset that was not used during the model training process, to detect potential issues like overfitting or poor generalization.\n",
    "\n",
    "Here's a basic overview of how cross-validation works:\n",
    "\n",
    "Data Splitting: The original dataset is divided into two subsets: a training set and a test set.\n",
    "\n",
    "Model Training: The model is trained on the training set.\n",
    "\n",
    "Model Evaluation: The performance of the model is evaluated on the validation set using metrics like accuracy, precision, recall, etc.\n",
    "\n",
    "Repeat Steps 1-3: Steps 1-3 are repeated multiple times, each time with a different random split of the data. This results in multiple performance metrics.\n",
    "\n",
    "Aggregate Results: The performance metrics from each iteration are averaged or otherwise aggregated to obtain a more robust estimate of the model's performance.\n",
    "\n",
    "Common types of cross-validation include:\n",
    "\n",
    "K-Fold Cross-Validation: The dataset is divided into K equally sized folds. The model is trained on K-1 folds and validated on the remaining fold. This process is repeated K times, with each fold serving as the validation set exactly once.\n",
    "\n",
    "Stratified K-Fold Cross-Validation: Similar to K-Fold, but it ensures that each fold has a similar distribution of the target variable as the original dataset. This is particularly useful for imbalanced datasets.\n",
    "\n",
    "Leave-One-Out Cross-Validation (LOOCV): Each data point is used as a validation set, while the rest of the data is used for training. This process is repeated for each data point."
   ]
  },
  {
   "cell_type": "markdown",
   "metadata": {},
   "source": [
    "# What is a Grid Search algorithm? #\n",
    "Grid Search is a hyperparameter tuning technique for finding the optimal combination of hyperparameter values for a given model. \n",
    "\n",
    "Hyperparameters are external configuration settings for a model that need to be set before training, eg. the learning rate in a gradient boosting algorithm or the test size in a regression.\n",
    "\n",
    "The Grid Search algorithm works by exhaustively searching through a manually specified subset of hyperparameter values. For each combination, the model is trained and evaluated using a cross-validation strategy, and the performance metrics are recorded.\n",
    "\n",
    "Here's a step-by-step breakdown of the Grid Search process:\n",
    "\n",
    "1- Specify a set of hyperparameter values or a range for each hyperparameter you want to tune. For example, you might define a grid for the learning rate and regularization parameter.\n",
    "\n",
    "2- Generate all possible combinations of hyperparameter values from the specified grid.\n",
    "\n",
    "3- For each combination, train the model using the training data and evaluate its performance using cross-validation.\n",
    "\n",
    "4- Identify the combination of hyperparameters that resulted in the best performance according to the chosen metric.\n",
    "\n",
    "5- Train the final model using the best hyperparameter values on the entire dataset.\n",
    "\n",
    "Grid Search helps automate the process of hyperparameter tuning and ensures that you explore a reasonable set of hyperparameter combinations. However it can be taxing on your computer and use a lot of memory and processing power. "
   ]
  },
  {
   "cell_type": "markdown",
   "metadata": {},
   "source": [
    "## Hyperparameters ##\n",
    "\n",
    "Some hyperparameters of a logistic regression:\n",
    "\n",
    "# Penalty:\n",
    "Specifies the type of regularization to be applied.\n",
    "Options: 'l1' (L1 regularization), 'l2' (L2 regularization), 'elasticnet' (both L1 and L2 regularization), or 'none' (no regularization).\n",
    "\n",
    "# C:\n",
    "Inverse of regularization strength.\n",
    "Smaller values of C result in stronger regularization.\n",
    "Positive float; smaller values indicate stronger regularization.\n",
    "\n",
    "# fit_intercept:\n",
    "Specifies whether to calculate the intercept for the model.\n",
    "If False, the model is assumed to have no intercept.\n",
    "\n",
    "# solver:\n",
    "Specifies the algorithm to use for optimization.\n",
    "Options: 'newton-cg', 'lbfgs', 'liblinear', 'sag', 'saga'.\n",
    "The choice of solver can impact the speed and efficiency of the optimization process.\n",
    "\n",
    "# max_iter:\n",
    "\n",
    "Maximum number of iterations for the solver to converge.\n",
    "Default value is usually set, but it can be adjusted based on the convergence behavior.\n",
    "\n",
    "# multi_class:\n",
    "Determines the strategy to use for multiclass classification.\n",
    "Options: 'ovr' (one-vs-rest) or 'multinomial' (softmax regression).\n",
    "'ovr' is suitable for binary and multiclass classification, while 'multinomial' is suitable for multiclass problems.\n",
    "\n",
    "# class_weight:\n",
    "Specifies weights associated with classes. This can be used to handle class imbalance.\n",
    "Default is None, but you can provide a dictionary or 'balanced' option to automatically adjust weights.\n",
    "\n",
    "# random_state:\n",
    "Seed for random number generation to ensure reproducibility.\n",
    "\n",
    "When tweaking hyperparameters, what do you want to optimise your model for? Accuracy or recall? Precision or F1? This is something to think about when doing cross-validation. \n"
   ]
  },
  {
   "cell_type": "markdown",
   "metadata": {},
   "source": [
    "# Different Sklearn logistic regression solvers include: #\n",
    "\n",
    "# Liblinear (default):\n",
    "solver='liblinear'\n",
    "Suitable for small to medium-sized datasets.\n",
    "Performs well when the number of features is much greater than the number of samples.\n",
    "Uses a coordinate descent method to minimize the logistic regression objective.\n",
    "\n",
    "# Newton-CG:\n",
    "solver='newton-cg'\n",
    "Uses the Newton Conjugate Gradient optimization method.\n",
    "Suitable for small datasets with fewer features.\n",
    "May be computationally expensive for large datasets.\n",
    "\n",
    "# LBFGS (Limited-memory Broyden–Fletcher–Goldfarb–Shanno):\n",
    "solver='lbfgs'\n",
    "Uses a limited-memory quasi-Newton optimization method.\n",
    "Suitable for small to medium-sized datasets.\n",
    "It is often a good choice for high-dimensional datasets.\n",
    "\n",
    "# Sag (Stochastic Average Gradient):\n",
    "solver='sag'\n",
    "Uses a stochastic gradient descent optimization.\n",
    "Efficient for large datasets.\n",
    "Particularly useful when the number of samples is significantly larger than the number of features.\n",
    "\n",
    "# Saga (SAG with L1 regularization):\n",
    "solver='saga'\n",
    "An extension of the SAG solver that includes support for L1 regularization.\n",
    "Suitable for large datasets with a high degree of sparsity in the data.\n",
    "Handles both L1 and L2 regularization."
   ]
  },
  {
   "cell_type": "markdown",
   "metadata": {},
   "source": [
    "1. Research different logistic regression solvers, what do they do and why are they useful\n",
    "2. Experiment with different hyper parameters\n",
    "3. What is L1 and L2 regulization?\n",
    "4. What is cross validation? \n",
    "5. Implement cross validation in your logistic regression models\n",
    "6. Implement grid search into your classification model \n",
    "7. Find the optimal models hyper parameters for optimising for recall, accuracy and precision, which makes most sense?"
   ]
  },
  {
   "cell_type": "markdown",
   "metadata": {},
   "source": [
    "# L1 Regularization #\n",
    "\n",
    "L1 Regularization = technique to prevent overfitting and improve generalization of your ML model.\n",
    "\n",
    "In L1, a penalty term is added to the cost function that is proportional to the _absolute_ values of the coefficients of the features, adding the sum of the absolute values of the coefficients multiplied by a regularization parameter to the cost function. \n",
    "\n",
    "This regularization technique tends to produce sparse weight vectors, meaning that it encourages some of the feature weights to become exactly zero. As a result, L1 regularization can be useful for feature selection: deciding which variables to throw out of your model and which ones to retain.\n"
   ]
  },
  {
   "cell_type": "markdown",
   "metadata": {},
   "source": [
    "# L2 Regularization # \n",
    "\n",
    "In L2 regularization, a penalty term is added to the cost function that is proportional to the _square of the coefficients_ of the features, adding the sum of the squared values of the coefficients multiplied by a regularization parameter to the cost function.\n",
    "\n",
    "L2 regularization penalizes large coefficients, encouraging a more balanced distribution of feature importance. This can be beneficial when you want all features to contribute to the prediction rather than relying heavily on a subset.\n",
    "\n",
    "L2 is also used to mitigate overfitting and prevent issues with multicollinearity .\n",
    "\n",
    "NOTE: In many machine learning libraries, algorithms like linear regression and logistic regression often use L2 regularization by default unless specified otherwise in your hyperparameters."
   ]
  },
  {
   "cell_type": "code",
   "execution_count": 48,
   "metadata": {},
   "outputs": [
    {
     "name": "stdout",
     "output_type": "stream",
     "text": [
      "F1 scores for each fold: [0.74226804 0.70103093 0.7032967  0.77894737 0.75268817]\n",
      "Mean F1 score overall: 0.7356462425665863\n"
     ]
    }
   ],
   "source": [
    "# K-Fold validation on the earlier LogReg model.\n",
    "\n",
    "from sklearn.model_selection import StratifiedKFold, cross_val_score\n",
    "from sklearn.metrics import make_scorer\n",
    "\n",
    "k_folds = 5 # 20% of the LogReg data in each k fold\n",
    "\n",
    "stratified_kfold = StratifiedKFold(n_splits=k_folds, shuffle=True, random_state=23)\n",
    "\n",
    "f1_scores = cross_val_score(LogReg, X_train, y_train, cv=stratified_kfold, scoring=make_scorer(f1_score))\n",
    "\n",
    "print(\"F1 scores for each fold:\", f1_scores)\n",
    "print(\"Mean F1 score overall:\", np.mean(f1_scores))"
   ]
  },
  {
   "cell_type": "markdown",
   "metadata": {},
   "source": [
    "These are my F1 scores computed for each individual fold of the k-fold cross-validation:\n",
    "Fold 1: 0.74226804\n",
    "Fold 2: 0.70103093\n",
    "Fold 3: 0.7032967\n",
    "Fold 4: 0.77894737\n",
    "Fold 5: 0.75268817\n",
    "Each F1 score represents the model's performance on a different subset of the data.\n",
    "\n",
    "The mean F1 score is the average of the F1 scores across all folds. In this case, 0.7356.\n",
    "\n",
    "The mean F1 score of 0.7356 indicates the average performance of the model across all folds. \n",
    "Generally, an F1 score closer to 1 is desirable, and 0.7356 suggests a reasonably good balance between precision and recall. Please review earlier notes for why this balance is important."
   ]
  },
  {
   "cell_type": "code",
   "execution_count": 54,
   "metadata": {},
   "outputs": [
    {
     "name": "stdout",
     "output_type": "stream",
     "text": [
      "Best hyperparameters (Accuracy): {'C': 1, 'penalty': 'l2', 'solver': 'liblinear'}\n",
      "Best Score (Accuracy): 0.786761659657272\n",
      "Best hyperparameters (Recall): {'C': 1, 'penalty': 'l2', 'solver': 'liblinear'}\n",
      "Best Score (Recall): 0.7690345784032873\n",
      "Best hyperparameters (Precision): {'C': 1, 'penalty': 'l2', 'solver': 'liblinear'}\n",
      "Best Score (Precision): 0.7766237816257615\n",
      "Best hyperparameters (F1): {'C': 1, 'penalty': 'l2', 'solver': 'liblinear'}\n",
      "Best Score (F1): 0.713181517472503\n"
     ]
    }
   ],
   "source": [
    "# Having a go at Grid Search on our LogReg #\n",
    "from sklearn.model_selection import GridSearchCV\n",
    "\n",
    "param_grid = {\n",
    "    'C': [0.001, 0.01, 0.01, 1, 10, 100],  # Regularization Parameter (the smaller C is, the stronger the regularization effect will be)\n",
    "    'penalty': ['l1', 'l2'], # Which regularization, this time doing both L1 and L2\n",
    "    'solver': ['liblinear'] # Specifying which solver to use. \n",
    "}\n",
    "\n",
    "grid_search = GridSearchCV(LogReg, param_grid, cv=5, scoring='accuracy') # cv = number of folds, works like k_folds\n",
    "grid_search_recall = GridSearchCV(LogReg, param_grid, cv=5, scoring='recall_macro')\n",
    "grid_search_precision = GridSearchCV(LogReg, param_grid, cv=5, scoring='precision_macro')\n",
    "grid_search_F1 = GridSearchCV(LogReg, param_grid, cv=5, scoring='f1')\n",
    "\n",
    "# Executing the above codes on our test vs training dataset.\n",
    "\n",
    "grid_search.fit(X, y)\n",
    "grid_search_recall.fit(X,y)\n",
    "grid_search_precision.fit(X,y)\n",
    "grid_search_F1.fit(X,y)\n",
    "\n",
    "# Printing our outputs\n",
    "print(f\"Best hyperparameters (Accuracy):\", grid_search.best_params_) # Accuracy Optimization\n",
    "print(f\"Best Score (Accuracy):\", grid_search.best_score_)\n",
    "\n",
    "print(f\"Best hyperparameters (Recall):\", grid_search_recall.best_params_) # Recall\n",
    "print(f\"Best Score (Recall):\", grid_search_recall.best_score_)\n",
    "\n",
    "print(f\"Best hyperparameters (Precision):\", grid_search_precision.best_params_) # Precision\n",
    "print(f\"Best Score (Precision):\", grid_search_precision.best_score_)\n",
    "\n",
    "print(f\"Best hyperparameters (F1):\", grid_search_F1.best_params_) # F1-score\n",
    "print(f\"Best Score (F1):\", grid_search_F1.best_score_)"
   ]
  },
  {
   "cell_type": "markdown",
   "metadata": {},
   "source": [
    "# Making sense of the above output #\n",
    "\n",
    "Best hyperparameters to optimise for accuracy = C:'1', L2 regularization, liblinear solver.\n",
    "\n",
    "Best HP to optimise for Recall = same as accuracy\n",
    "\n",
    "Best HP to optimise for Precision = same as accuracy and recall.\n",
    "\n",
    "Best HP to optimise for F1 = same as others.\n",
    "\n",
    "The best accuracy, recall, and precision scores are reasonably close, indicating a model that is \"relatively well-balanced across different performance aspects.\""
   ]
  },
  {
   "cell_type": "code",
   "execution_count": 57,
   "metadata": {},
   "outputs": [
    {
     "name": "stdout",
     "output_type": "stream",
     "text": [
      "[1 0 0 1 0 0 0 0 0 0 0 0 1 0 0 1 0 1 1 1 0 0 0 0 0 0 0 0 0 0 0 0 0 0 0 0 0\n",
      " 1 1 0 1 0 1 0 0 0 0 0 1 0 1 1 0 1 0 1 0 1 0 0 0 1 0 0 0 0 1 1 1 1 0 0 0 1\n",
      " 1 0 1 0 1 1 0 0 0 0 0 0 1 1 1 0 0 0 1 0 0 0 1 0 0 0 1 0 0 1 1 0 0 0 1 0 0\n",
      " 0 0 0 0 0 1 1 0 0 1 0 1 0 0 0 0 1 1 0 0 1 0 0 0 1 1 0 0 0 1 1 1 1 1 0 1 0\n",
      " 1 0 1 0 0 1 0 0 0 0 1 0 0 0 0 0 0 0 0 0 0 0 0 0 1 1 0 0 1 0 1 1 0 0 0 1 0\n",
      " 0 0 0 0 0 1 0 1 1 1 0 0 0 0 0 0 0 0 1 0 0 1 0 1 0 0 0 0 0 0 0 1 0 0 1 0 0\n",
      " 1 0 1 1 0 0 0 0 0 0 0 1 0 0 1 0 0 0 0 0 1 0 1 0 0 1 1 1 0 0 1 0 0 1 1 1 0\n",
      " 0 1 0 1 0 0 0 0 1]\n"
     ]
    }
   ],
   "source": [
    "# Repeating Logistic Regression, but adding the Grid Search hyperparameters to see how it affects outputs. #\n",
    "\n",
    "LogReg_2 = LogisticRegression(C=1, penalty='l2', solver='liblinear')\n",
    "\n",
    "LogReg_2.fit(X_train, y_train)\n",
    "\n",
    "y_pred_test_2 = LogReg_2.predict(X_test)\n",
    "print(y_pred_test_2)"
   ]
  },
  {
   "cell_type": "code",
   "execution_count": 58,
   "metadata": {},
   "outputs": [
    {
     "name": "stdout",
     "output_type": "stream",
     "text": [
      "Accuracy Score = 0.7835820895522388\n",
      "Recall Score = 0.6526315789473685\n",
      "Precision Score = 0.7126436781609196\n",
      "F1 Score = 0.6813186813186813\n"
     ]
    }
   ],
   "source": [
    "# Optimised Model\n",
    "print(f\"Accuracy Score =\", accuracy_score(y_test, y_pred_test_2))\n",
    "print(f\"Recall Score =\", recall_score(y_test, y_pred_test_2))\n",
    "print(f\"Precision Score =\", precision_score(y_test, y_pred_test_2))\n",
    "print(f\"F1 Score =\", f1_score(y_test, y_pred_test_2)) "
   ]
  },
  {
   "cell_type": "code",
   "execution_count": 59,
   "metadata": {},
   "outputs": [
    {
     "name": "stdout",
     "output_type": "stream",
     "text": [
      "Accuracy Score = 0.7835820895522388\n",
      "Recall Score = 0.6526315789473685\n",
      "Precision Score = 0.7126436781609196\n",
      "F1 Score = 0.6813186813186813\n"
     ]
    }
   ],
   "source": [
    "# Original Model\n",
    "print(f\"Accuracy Score =\", accuracy_score(y_test, y_pred_test))\n",
    "print(f\"Recall Score =\", recall_score(y_test, y_pred_test))\n",
    "print(f\"Precision Score =\", precision_score(y_test, y_pred_test))\n",
    "print(f\"F1 Score =\", f1_score(y_test, y_pred_test)) "
   ]
  },
  {
   "cell_type": "markdown",
   "metadata": {},
   "source": [
    "# The two outputs are identical, what does this mean? #\n",
    "\n",
    "It might mean that the default hyperparameters set by Sklearn for LogisticRegression were the optimal ones I inputted.\n",
    "\n",
    "It might mean this dataset just didn't benefit from hyperparameter tuning: when a model already performs well on the training data as mine did earlier, hyperparameter tuning may not lead to significant improvements in performance metrics.\n",
    "\n",
    "(Or I made a coding error that I can't spot!)\n",
    "\n",
    "Let's compare AUC-ROC to double-check. "
   ]
  },
  {
   "cell_type": "code",
   "execution_count": 67,
   "metadata": {},
   "outputs": [
    {
     "data": {
      "image/png": "[encoded data removed]",
      "text/plain": [
       "<Figure size 1200x500 with 2 Axes>"
      ]
     },
     "metadata": {},
     "output_type": "display_data"
    }
   ],
   "source": [
    "# Putting two AUC-ROCs together for comparison\n",
    "\n",
    "# Produce the ROC curve and ROC area for both LogRegs\n",
    "fpr, tpr, _ = roc_curve(y_test, y_pred_test) # Original\n",
    "roc_auc = auc(fpr, tpr)\n",
    "\n",
    "fpr_2, tpr_2, _ = roc_curve(y_test, y_pred_test_2) # Optimised\n",
    "roc_auc_2 = auc(fpr_2, tpr_2)\n",
    "\n",
    "# Create a figure with two subplots\n",
    "fig, axes = plt.subplots(1, 2, figsize=(12, 5))\n",
    "\n",
    "axes[0].plot(fpr, tpr, label='Original Model, AUC = {:.2f}'.format(roc_auc))\n",
    "axes[0].set_title('ROC Curve - LogReg Model 1')\n",
    "axes[0].set_xlabel('False Positive Rate')\n",
    "axes[0].set_ylabel('True Positive Rate')\n",
    "axes[0].legend()\n",
    "\n",
    "axes[1].plot(fpr_2, tpr_2, label='Optimised Model, AUC = {:.2f}'.format(roc_auc_2))\n",
    "axes[1].set_title('ROC Curve - LogReg Model 2')\n",
    "axes[1].set_xlabel('False Positive Rate')\n",
    "axes[1].set_ylabel('True Positive Rate')\n",
    "axes[1].legend()\n",
    "\n",
    "plt.tight_layout()\n",
    "plt.show()"
   ]
  },
  {
   "cell_type": "code",
   "execution_count": null,
   "metadata": {},
   "outputs": [],
   "source": [
    "# AUC = 0.75 for both. "
   ]
  }
 ],
 "metadata": {
  "kernelspec": {
   "display_name": "Python 3",
   "language": "python",
   "name": "python3"
  },
  "language_info": {
   "codemirror_mode": {
    "name": "ipython",
    "version": 3
   },
   "file_extension": ".py",
   "mimetype": "text/x-python",
   "name": "python",
   "nbconvert_exporter": "python",
   "pygments_lexer": "ipython3",
   "version": "3.12.1"
  }
 },
 "nbformat": 4,
 "nbformat_minor": 2
}
