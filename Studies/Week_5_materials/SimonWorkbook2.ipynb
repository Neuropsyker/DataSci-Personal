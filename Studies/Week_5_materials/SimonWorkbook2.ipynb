{
 "cells": [
  {
   "cell_type": "code",
   "execution_count": null,
   "metadata": {},
   "outputs": [],
   "source": [
    "# Notebook for Simon's session 09:30 - 12:30. #"
   ]
  },
  {
   "cell_type": "code",
   "execution_count": 1,
   "metadata": {},
   "outputs": [],
   "source": [
    "import numpy as np\n",
    "import pandas as pd \n",
    "import seaborn as sns \n",
    "import matplotlib.pyplot as plt\n",
    "from sklearn import preprocessing \n"
   ]
  },
  {
   "cell_type": "code",
   "execution_count": null,
   "metadata": {},
   "outputs": [],
   "source": [
    "# Tip from Simon: look into iter_tools, func_tools, and collections. (these are libraries for you to explore when you start moving from beginner to intermediate programming)"
   ]
  },
  {
   "cell_type": "markdown",
   "metadata": {},
   "source": [
    "# Today's Session: Ethics in Data Science with Simon #"
   ]
  },
  {
   "cell_type": "markdown",
   "metadata": {},
   "source": [
    "Key components of ethics include:\n",
    "\n",
    "Moral Principles: These are fundamental truths or rules that guide ethical behavior. Common examples include honesty, integrity, fairness, and respect for others.\n",
    "\n",
    "Values: Values are deeply held beliefs that individuals or societies consider important. They influence ethical decision-making and behavior. Cultural, religious, and personal values play a significant role in shaping ethical frameworks.\n",
    "\n",
    "Moral Dilemmas: Ethics often involves navigating situations where different moral principles or values come into conflict, leading to moral dilemmas. Resolving such dilemmas requires careful consideration and prioritization of ethical principles.\n",
    "\n",
    "Norms and Standards: Societies often establish norms and standards that reflect their ethical expectations. These can be formalized through laws, codes of conduct, and professional ethics.\n",
    "\n",
    "Consequences and Intentions: Ethical analysis often considers both the consequences of an action and the intentions behind it. This perspective is known as consequentialism and deontology, respectively.\n",
    "\n",
    "Cultural and Relativistic Perspectives: Ethical standards can vary across cultures and societies. Ethical relativism acknowledges that what is considered morally acceptable may differ between cultures, and ethical judgments should be made within the context of a particular culture.\n",
    "\n",
    "Virtue Ethics: This approach focuses on developing virtuous character traits, such as courage, wisdom, and compassion, as the foundation for ethical behavior. It emphasizes the importance of cultivating good character rather than adhering strictly to rules.\n",
    "\n",
    "Applied Ethics: This branch of ethics addresses specific issues within various fields, such as business ethics, medical ethics, environmental ethics, and bioethics. It involves the application of ethical principles to real-world situations.\n",
    "\n",
    "Praxis: actions you take according to your morals and ethics, to enact ethics in practice. "
   ]
  },
  {
   "cell_type": "markdown",
   "metadata": {},
   "source": [
    "# Life Cycle of Data #\n",
    "\n",
    "1: Generation: Data is created through various processes, such as manual entry, automated systems, sensors, or other data collection methods. Assumes that objective is set. \n",
    "\n",
    "2: Collection, Sampling: Data is gathered from different sources, including surveys, transactions, sensors, social media, etc.\n",
    "\n",
    "3: Organization: Data is inputted, structured and organized for efficient storage and retrieval.\n",
    "\n",
    "4: Storage: Data is stored in databases, data warehouses, or other storage systems. This stage involves decisions about where and how to store data based on factors like accessibility, security, and performance requirements.\n",
    "\n",
    "5: Processing/Analysis:\n",
    "\n",
    "Transformation: Data may undergo preprocessing or transformation to ensure quality and consistency.\n",
    "Analysis: Data is analyzed for insights, patterns, trends, or to derive meaningful information. This stage often involves the use of analytics tools, machine learning algorithms, and statistical methods.\n",
    "\n",
    "6: Usage:\n",
    "\n",
    "Decision-making: Insights from data are used to make informed decisions in various domains, such as business, science, healthcare, etc.\n",
    "Reporting: Data is presented in a meaningful format through reports, dashboards, or visualizations to facilitate understanding.\n",
    "Distribution: Relevant data may be shared within an organization or with external entities.\n",
    "Communication: Data-driven insights are communicated to stakeholders through various channels.\n",
    "Implications: explore the insights of the data in terms of what it tells us. \n",
    "\n",
    "7: Archiving:\n",
    "\n",
    "Retention: Some data is retained for historical or compliance purposes, even if it is no longer actively used.\n",
    "Archival: Data is moved to archival storage to free up resources in the primary storage systems.\n",
    "\n",
    "8: Deletion/Disposal:\n",
    "End of Life: Data that is no longer needed or has reached the end of its useful life is securely deleted or disposed of.\n",
    "Data Privacy Compliance: Considerations for data privacy regulations may influence how and when data is deleted."
   ]
  },
  {
   "cell_type": "markdown",
   "metadata": {},
   "source": [
    "# Ethics of Data Collection # \n",
    "\n",
    "\n",
    "When collecting and using data, there are several ethical considerations that individuals and organizations should take into account to ensure responsible and fair practices. Some key ethical issues include:\n",
    "\n",
    "Privacy:\n",
    "\n",
    "Informed Consent: Ensure individuals are aware of how their data will be collected, used, and shared, and obtain their explicit consent.\n",
    "Anonymity and Confidentiality: Protect the identity of individuals by anonymizing data whenever possible and maintaining confidentiality.\n",
    "Transparency:\n",
    "\n",
    "Openness: Be transparent about data collection methods, purposes, and intended uses. Provide clear explanations to users about how their data will be handled.\n",
    "Data Accuracy and Quality:\n",
    "\n",
    "Accuracy: Strive to collect accurate and reliable data, and take steps to validate and verify the quality of the data.\n",
    "Integrity: Avoid intentional manipulation or distortion of data that could lead to biased results or misinterpretation.\n",
    "Fairness and Equity:\n",
    "\n",
    "Bias Mitigation: Be aware of and address potential biases in data collection, analysis, and interpretation to ensure fair and unbiased outcomes.\n",
    "Equitable Access: Ensure that data-driven benefits are distributed fairly and that the collection process does not disproportionately affect certain groups.\n",
    "Security:\n",
    "\n",
    "Data Security: Implement measures to protect data from unauthorized access, breaches, and cyber threats.\n",
    "Data Retention: Establish policies for the appropriate retention and disposal of data to minimize security risks.\n",
    "Ownership and Control:\n",
    "\n",
    "Data Ownership: Clarify who owns the data and under what conditions it can be shared or used by third parties.\n",
    "User Control: Empower individuals to control their data by providing options for opting in or out of data collection and sharing.\n",
    "\n",
    "Consent and Voluntariness:\n",
    "Coercion: Ensure that individuals are not coerced into providing their data and that participation is voluntary.\n",
    "Withdrawal: Allow individuals the right to withdraw their consent and have their data removed if desired.\n",
    "\n",
    "Accountability:\n",
    "\n",
    "Responsibility: Clearly define roles and responsibilities for data handling and ensure accountability for ethical lapses.\n",
    "Compliance: Adhere to relevant laws, regulations, and industry standards governing data collection and usage.\n",
    "\n",
    "Community and Social Impact:\n",
    "\n",
    "Community Involvement: Engage with communities affected by data collection and use to understand their concerns and needs.\n",
    "Social Responsibility: Consider the broader societal implications of data use and strive to contribute positively to societal well-being.\n",
    "\n",
    "Emerging Technologies:\n",
    "\n",
    "Ethical AI: Ensure that the use of artificial intelligence and machine learning is guided by ethical principles, addressing issues such as bias, fairness, and accountability.\n",
    "\n",
    "Data Minimization: only collecting personal data that you need, nothing extra. "
   ]
  },
  {
   "cell_type": "markdown",
   "metadata": {},
   "source": [
    "\n",
    "Ethical issues in data analysis can arise at various stages of the data analysis process. Here are some key ethical considerations related to data analysis:\n",
    "\n",
    "Bias and Fairness:\n",
    "Algorithmic Bias: Data analysis methods, particularly machine learning algorithms, can perpetuate or amplify existing biases present in the data. This can lead to unfair or discriminatory outcomes.\n",
    "\n",
    "Privacy Concerns:\n",
    "Re-identification Risk: Aggregated and anonymized data can sometimes be re-identified, posing a risk to individuals' privacy. Analysts must consider the potential for unintended disclosure.\n",
    "\n",
    "Data Manipulation and Integrity:\n",
    "Data Falsification: Intentional manipulation of data to achieve specific outcomes or to mislead stakeholders is unethical. Analysts should maintain the integrity of the data throughout the analysis process.\n",
    "\n",
    "Transparency:\n",
    "Opaque Models: Lack of transparency in complex models can make it difficult to understand how decisions are made. Transparency is crucial for accountability and user trust.\n",
    "\n",
    "Informed Consent:\n",
    "Lack of Informed Consent: If the data used in the analysis were originally collected without informed consent, or if the analysis involves unexpected uses of the data, ethical concerns may arise.\n",
    "\n",
    "Ownership and Intellectual Property:\n",
    "Data Ownership: Clarifying who owns the data and respecting intellectual property rights is important to ensure ethical data analysis practices.\n",
    "Stakeholder Communication:\n",
    "\n",
    "Miscommunication of Results: Presenting analysis results in a way that misrepresents findings or exaggerates their significance can be misleading and unethical.\n",
    "\n",
    "Security:\n",
    "Inadequate Data Security: Failure to secure data during the analysis process can lead to data breaches, putting individuals at risk and violating ethical standards.\n",
    "\n",
    "Impact on Vulnerable Populations:\n",
    "Disproportionate Effects: Analyzing data that disproportionately affects vulnerable or marginalized populations requires extra care to avoid exacerbating existing inequalities.\n",
    "\n",
    "Long-Term Consequences:\n",
    "Unintended Consequences: Analysts should consider the potential long-term consequences of their analyses, including social, economic, and environmental impacts.\n",
    "\n",
    "Responsible Use of Predictive Analytics:\n",
    "\n",
    "Predictive Analytics Risks: Ethical concerns can arise when using predictive analytics to make decisions about individuals' behavior, particularly when those predictions impact people's lives (e.g., credit scoring, hiring decisions).\n",
    "\n",
    "Data Stewardship:\n",
    "Responsible Data Handling: Ethical data analysts adhere to responsible data stewardship practices, respecting data usage policies and guidelines.\n",
    "\n",
    "Also consider things like content validity, ecological validity, construct validity. "
   ]
  }
 ],
 "metadata": {
  "kernelspec": {
   "display_name": "Python 3",
   "language": "python",
   "name": "python3"
  },
  "language_info": {
   "codemirror_mode": {
    "name": "ipython",
    "version": 3
   },
   "file_extension": ".py",
   "mimetype": "text/x-python",
   "name": "python",
   "nbconvert_exporter": "python",
   "pygments_lexer": "ipython3",
   "version": "3.12.1"
  }
 },
 "nbformat": 4,
 "nbformat_minor": 2
}
