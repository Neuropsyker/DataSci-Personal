{
 "cells": [
  {
   "cell_type": "markdown",
   "metadata": {},
   "source": [
    "- Review notebook with titanic solutions\n",
    "- How can we include feature scaling (age and fare)?\n",
    "\n",
    "1. Research different logistic regression solvers, what do they do and why are they useful\n",
    "2. Experiment with different hyper parameters\n",
    "3. What is L1 and L2 regulization?\n",
    "4. What is cross validation? \n",
    "5. Implement cross validation in your logistic regression models\n",
    "6. Implement grid search into your classification model \n",
    "7. Find the optimal models hyper parameters for optimising for recall, accuracy and precision, which makes most sense?\n"
   ]
  },
  {
   "cell_type": "markdown",
   "metadata": {},
   "source": []
  }
 ],
 "metadata": {
  "language_info": {
   "name": "python"
  }
 },
 "nbformat": 4,
 "nbformat_minor": 2
}
