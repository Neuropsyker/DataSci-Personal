{
 "cells": [
  {
   "cell_type": "markdown",
   "metadata": {},
   "source": [
    "1. Read through the unsupervised learning notes \n",
    "2. Explore other unsupervised learning techniques \n",
    "3. Explore scaling the data \n",
    "4. Review the data set around happiness scores\n",
    "- Send through a skeleton of how you are going to approach the task at hand \n",
    "5. Build a model to predict the happiness score of a country using the features available (feel free to include additional features)"
   ]
  }
 ],
 "metadata": {
  "language_info": {
   "name": "python"
  }
 },
 "nbformat": 4,
 "nbformat_minor": 2
}
