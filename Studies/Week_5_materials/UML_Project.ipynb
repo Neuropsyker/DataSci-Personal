{
 "cells": [
  {
   "cell_type": "code",
   "execution_count": 2,
   "metadata": {},
   "outputs": [],
   "source": [
    "import numpy as np\n",
    "import pandas as pd\n",
    "import seaborn as sns\n",
    "import matplotlib.pyplot as plt\n",
    "from sklearn import preprocessing\n",
    "pd.set_option('display.max_rows', 100)\n",
    "pd.set_option('display.max_columns', 100)"
   ]
  },
  {
   "cell_type": "code",
   "execution_count": 3,
   "metadata": {},
   "outputs": [],
   "source": [
    "df_2015 = pd.read_csv('2015.csv')\n",
    "df_2016 = pd.read_csv('2016.csv')\n",
    "df_2017 = pd.read_csv('2017.csv')\n",
    "df_2018 = pd.read_csv('2018.csv')\n",
    "df_2019 = pd.read_csv('2019.csv')"
   ]
  },
  {
   "cell_type": "code",
   "execution_count": 4,
   "metadata": {},
   "outputs": [
    {
     "data": {
      "text/html": [
       "<div>\n",
       "<style scoped>\n",
       "    .dataframe tbody tr th:only-of-type {\n",
       "        vertical-align: middle;\n",
       "    }\n",
       "\n",
       "    .dataframe tbody tr th {\n",
       "        vertical-align: top;\n",
       "    }\n",
       "\n",
       "    .dataframe thead th {\n",
       "        text-align: right;\n",
       "    }\n",
       "</style>\n",
       "<table border=\"1\" class=\"dataframe\">\n",
       "  <thead>\n",
       "    <tr style=\"text-align: right;\">\n",
       "      <th></th>\n",
       "      <th>Country</th>\n",
       "      <th>Region</th>\n",
       "      <th>Happiness Rank</th>\n",
       "      <th>Happiness Score</th>\n",
       "      <th>Standard Error</th>\n",
       "      <th>Economy (GDP per Capita)</th>\n",
       "      <th>Family</th>\n",
       "      <th>Health (Life Expectancy)</th>\n",
       "      <th>Freedom</th>\n",
       "      <th>Trust (Government Corruption)</th>\n",
       "      <th>Generosity</th>\n",
       "      <th>Dystopia Residual</th>\n",
       "    </tr>\n",
       "  </thead>\n",
       "  <tbody>\n",
       "    <tr>\n",
       "      <th>0</th>\n",
       "      <td>Switzerland</td>\n",
       "      <td>Western Europe</td>\n",
       "      <td>1</td>\n",
       "      <td>7.587</td>\n",
       "      <td>0.03411</td>\n",
       "      <td>1.39651</td>\n",
       "      <td>1.34951</td>\n",
       "      <td>0.94143</td>\n",
       "      <td>0.66557</td>\n",
       "      <td>0.41978</td>\n",
       "      <td>0.29678</td>\n",
       "      <td>2.51738</td>\n",
       "    </tr>\n",
       "  </tbody>\n",
       "</table>\n",
       "</div>"
      ],
      "text/plain": [
       "       Country          Region  Happiness Rank  Happiness Score  \\\n",
       "0  Switzerland  Western Europe               1            7.587   \n",
       "\n",
       "   Standard Error  Economy (GDP per Capita)   Family  \\\n",
       "0         0.03411                   1.39651  1.34951   \n",
       "\n",
       "   Health (Life Expectancy)  Freedom  Trust (Government Corruption)  \\\n",
       "0                   0.94143  0.66557                        0.41978   \n",
       "\n",
       "   Generosity  Dystopia Residual  \n",
       "0     0.29678            2.51738  "
      ]
     },
     "execution_count": 4,
     "metadata": {},
     "output_type": "execute_result"
    }
   ],
   "source": [
    "df_2015.head(1)"
   ]
  },
  {
   "cell_type": "code",
   "execution_count": 5,
   "metadata": {},
   "outputs": [
    {
     "data": {
      "text/html": [
       "<div>\n",
       "<style scoped>\n",
       "    .dataframe tbody tr th:only-of-type {\n",
       "        vertical-align: middle;\n",
       "    }\n",
       "\n",
       "    .dataframe tbody tr th {\n",
       "        vertical-align: top;\n",
       "    }\n",
       "\n",
       "    .dataframe thead th {\n",
       "        text-align: right;\n",
       "    }\n",
       "</style>\n",
       "<table border=\"1\" class=\"dataframe\">\n",
       "  <thead>\n",
       "    <tr style=\"text-align: right;\">\n",
       "      <th></th>\n",
       "      <th>Country</th>\n",
       "      <th>Region</th>\n",
       "      <th>Happiness Rank</th>\n",
       "      <th>Happiness Score</th>\n",
       "      <th>Lower Confidence Interval</th>\n",
       "      <th>Upper Confidence Interval</th>\n",
       "      <th>Economy (GDP per Capita)</th>\n",
       "      <th>Family</th>\n",
       "      <th>Health (Life Expectancy)</th>\n",
       "      <th>Freedom</th>\n",
       "      <th>Trust (Government Corruption)</th>\n",
       "      <th>Generosity</th>\n",
       "      <th>Dystopia Residual</th>\n",
       "    </tr>\n",
       "  </thead>\n",
       "  <tbody>\n",
       "    <tr>\n",
       "      <th>0</th>\n",
       "      <td>Denmark</td>\n",
       "      <td>Western Europe</td>\n",
       "      <td>1</td>\n",
       "      <td>7.526</td>\n",
       "      <td>7.46</td>\n",
       "      <td>7.592</td>\n",
       "      <td>1.44178</td>\n",
       "      <td>1.16374</td>\n",
       "      <td>0.79504</td>\n",
       "      <td>0.57941</td>\n",
       "      <td>0.44453</td>\n",
       "      <td>0.36171</td>\n",
       "      <td>2.73939</td>\n",
       "    </tr>\n",
       "  </tbody>\n",
       "</table>\n",
       "</div>"
      ],
      "text/plain": [
       "   Country          Region  Happiness Rank  Happiness Score  \\\n",
       "0  Denmark  Western Europe               1            7.526   \n",
       "\n",
       "   Lower Confidence Interval  Upper Confidence Interval  \\\n",
       "0                       7.46                      7.592   \n",
       "\n",
       "   Economy (GDP per Capita)   Family  Health (Life Expectancy)  Freedom  \\\n",
       "0                   1.44178  1.16374                   0.79504  0.57941   \n",
       "\n",
       "   Trust (Government Corruption)  Generosity  Dystopia Residual  \n",
       "0                        0.44453     0.36171            2.73939  "
      ]
     },
     "execution_count": 5,
     "metadata": {},
     "output_type": "execute_result"
    }
   ],
   "source": [
    "df_2016.head(1)"
   ]
  },
  {
   "cell_type": "code",
   "execution_count": 6,
   "metadata": {},
   "outputs": [
    {
     "data": {
      "text/html": [
       "<div>\n",
       "<style scoped>\n",
       "    .dataframe tbody tr th:only-of-type {\n",
       "        vertical-align: middle;\n",
       "    }\n",
       "\n",
       "    .dataframe tbody tr th {\n",
       "        vertical-align: top;\n",
       "    }\n",
       "\n",
       "    .dataframe thead th {\n",
       "        text-align: right;\n",
       "    }\n",
       "</style>\n",
       "<table border=\"1\" class=\"dataframe\">\n",
       "  <thead>\n",
       "    <tr style=\"text-align: right;\">\n",
       "      <th></th>\n",
       "      <th>Country</th>\n",
       "      <th>Happiness.Rank</th>\n",
       "      <th>Happiness.Score</th>\n",
       "      <th>Whisker.high</th>\n",
       "      <th>Whisker.low</th>\n",
       "      <th>Economy..GDP.per.Capita.</th>\n",
       "      <th>Family</th>\n",
       "      <th>Health..Life.Expectancy.</th>\n",
       "      <th>Freedom</th>\n",
       "      <th>Generosity</th>\n",
       "      <th>Trust..Government.Corruption.</th>\n",
       "      <th>Dystopia.Residual</th>\n",
       "    </tr>\n",
       "  </thead>\n",
       "  <tbody>\n",
       "    <tr>\n",
       "      <th>0</th>\n",
       "      <td>Norway</td>\n",
       "      <td>1</td>\n",
       "      <td>7.537</td>\n",
       "      <td>7.594445</td>\n",
       "      <td>7.479556</td>\n",
       "      <td>1.616463</td>\n",
       "      <td>1.533524</td>\n",
       "      <td>0.796667</td>\n",
       "      <td>0.635423</td>\n",
       "      <td>0.362012</td>\n",
       "      <td>0.315964</td>\n",
       "      <td>2.277027</td>\n",
       "    </tr>\n",
       "  </tbody>\n",
       "</table>\n",
       "</div>"
      ],
      "text/plain": [
       "  Country  Happiness.Rank  Happiness.Score  Whisker.high  Whisker.low  \\\n",
       "0  Norway               1            7.537      7.594445     7.479556   \n",
       "\n",
       "   Economy..GDP.per.Capita.    Family  Health..Life.Expectancy.   Freedom  \\\n",
       "0                  1.616463  1.533524                  0.796667  0.635423   \n",
       "\n",
       "   Generosity  Trust..Government.Corruption.  Dystopia.Residual  \n",
       "0    0.362012                       0.315964           2.277027  "
      ]
     },
     "execution_count": 6,
     "metadata": {},
     "output_type": "execute_result"
    }
   ],
   "source": [
    "df_2017.head(1)"
   ]
  },
  {
   "cell_type": "code",
   "execution_count": 7,
   "metadata": {},
   "outputs": [
    {
     "data": {
      "text/html": [
       "<div>\n",
       "<style scoped>\n",
       "    .dataframe tbody tr th:only-of-type {\n",
       "        vertical-align: middle;\n",
       "    }\n",
       "\n",
       "    .dataframe tbody tr th {\n",
       "        vertical-align: top;\n",
       "    }\n",
       "\n",
       "    .dataframe thead th {\n",
       "        text-align: right;\n",
       "    }\n",
       "</style>\n",
       "<table border=\"1\" class=\"dataframe\">\n",
       "  <thead>\n",
       "    <tr style=\"text-align: right;\">\n",
       "      <th></th>\n",
       "      <th>Overall rank</th>\n",
       "      <th>Country or region</th>\n",
       "      <th>Score</th>\n",
       "      <th>GDP per capita</th>\n",
       "      <th>Social support</th>\n",
       "      <th>Healthy life expectancy</th>\n",
       "      <th>Freedom to make life choices</th>\n",
       "      <th>Generosity</th>\n",
       "      <th>Perceptions of corruption</th>\n",
       "    </tr>\n",
       "  </thead>\n",
       "  <tbody>\n",
       "    <tr>\n",
       "      <th>0</th>\n",
       "      <td>1</td>\n",
       "      <td>Finland</td>\n",
       "      <td>7.632</td>\n",
       "      <td>1.305</td>\n",
       "      <td>1.592</td>\n",
       "      <td>0.874</td>\n",
       "      <td>0.681</td>\n",
       "      <td>0.202</td>\n",
       "      <td>0.393</td>\n",
       "    </tr>\n",
       "  </tbody>\n",
       "</table>\n",
       "</div>"
      ],
      "text/plain": [
       "   Overall rank Country or region  Score  GDP per capita  Social support  \\\n",
       "0             1           Finland  7.632           1.305           1.592   \n",
       "\n",
       "   Healthy life expectancy  Freedom to make life choices  Generosity  \\\n",
       "0                    0.874                         0.681       0.202   \n",
       "\n",
       "   Perceptions of corruption  \n",
       "0                      0.393  "
      ]
     },
     "execution_count": 7,
     "metadata": {},
     "output_type": "execute_result"
    }
   ],
   "source": [
    "df_2018.head(1)"
   ]
  },
  {
   "cell_type": "code",
   "execution_count": 8,
   "metadata": {},
   "outputs": [
    {
     "data": {
      "text/html": [
       "<div>\n",
       "<style scoped>\n",
       "    .dataframe tbody tr th:only-of-type {\n",
       "        vertical-align: middle;\n",
       "    }\n",
       "\n",
       "    .dataframe tbody tr th {\n",
       "        vertical-align: top;\n",
       "    }\n",
       "\n",
       "    .dataframe thead th {\n",
       "        text-align: right;\n",
       "    }\n",
       "</style>\n",
       "<table border=\"1\" class=\"dataframe\">\n",
       "  <thead>\n",
       "    <tr style=\"text-align: right;\">\n",
       "      <th></th>\n",
       "      <th>Overall rank</th>\n",
       "      <th>Country or region</th>\n",
       "      <th>Score</th>\n",
       "      <th>GDP per capita</th>\n",
       "      <th>Social support</th>\n",
       "      <th>Healthy life expectancy</th>\n",
       "      <th>Freedom to make life choices</th>\n",
       "      <th>Generosity</th>\n",
       "      <th>Perceptions of corruption</th>\n",
       "    </tr>\n",
       "  </thead>\n",
       "  <tbody>\n",
       "    <tr>\n",
       "      <th>0</th>\n",
       "      <td>1</td>\n",
       "      <td>Finland</td>\n",
       "      <td>7.769</td>\n",
       "      <td>1.34</td>\n",
       "      <td>1.587</td>\n",
       "      <td>0.986</td>\n",
       "      <td>0.596</td>\n",
       "      <td>0.153</td>\n",
       "      <td>0.393</td>\n",
       "    </tr>\n",
       "  </tbody>\n",
       "</table>\n",
       "</div>"
      ],
      "text/plain": [
       "   Overall rank Country or region  Score  GDP per capita  Social support  \\\n",
       "0             1           Finland  7.769            1.34           1.587   \n",
       "\n",
       "   Healthy life expectancy  Freedom to make life choices  Generosity  \\\n",
       "0                    0.986                         0.596       0.153   \n",
       "\n",
       "   Perceptions of corruption  \n",
       "0                      0.393  "
      ]
     },
     "execution_count": 8,
     "metadata": {},
     "output_type": "execute_result"
    }
   ],
   "source": [
    "df_2019.head(1)"
   ]
  },
  {
   "cell_type": "markdown",
   "metadata": {},
   "source": [
    "# Data Dictionary #\n",
    "Happiness Rank: A country's rank based on their happiness score.\n",
    "\n",
    "Happiness Score: A score given to a country based on adding up the rankings that a population has given to each category (normalized)\n",
    "\n",
    "Country: The country itself.\n",
    "\n",
    "Region: The region that the country belongs to. \n",
    "\n",
    "Social support: self-perceived social support, e.g. the presence of a community or an individual someone like a friend or relative to count on in times of trouble. (I discerned this based on precedent from other happiness research)\n",
    "\n",
    "Economy: GDP per capita of the country - individuals rank quality of life based on earnings so wealth does influence happiness.\n",
    "\n",
    "Family: quality of family life, based on social support within family, quality of inter-familial relationships, stability, and overall family life.\n",
    "\n",
    "Health: ranking healthcare availability and average life expectancy in the country?\n",
    "\n",
    "Healthy life expectancy: the average number of years a person can expect to live in good health, normalized as a decimal to represent percentage. (e.g. 0.826 = 82.6% of life in good health)\n",
    "\n",
    "Freedom/Freedom to make life choices: how much an individual is able to enact their own free will where they live.\n",
    "\n",
    "Trust: respondents' trust in the government's institutions to mitigate or prevent corruption. \n",
    "\n",
    "Perception of Corruption: how corrupt the respondents perceived their nation to be.\n",
    "\n",
    "Generosity: how much their country's population appears to spend on charitable things like foreign aid. (Charitable behaviours are linked to higher happiness in psych literature)\n",
    "\n",
    "Dystopia Residual: this refers to the score of a hypothetical country called 'Dystopia' that has a lower rank in every metric than the lowest ranking country on the report. A positive Dystopia residual suggests that a country's happiness level is higher than the hypothetical Dystopia benchmark, while a negative residual suggests the opposite."
   ]
  },
  {
   "cell_type": "code",
   "execution_count": 9,
   "metadata": {},
   "outputs": [
    {
     "data": {
      "text/plain": [
       "Index(['Country', 'Region', 'Happiness Rank', 'Happiness Score',\n",
       "       'Standard Error', 'Economy (GDP per Capita)', 'Family',\n",
       "       'Health (Life Expectancy)', 'Freedom', 'Trust (Government Corruption)',\n",
       "       'Generosity', 'Dystopia Residual'],\n",
       "      dtype='object')"
      ]
     },
     "execution_count": 9,
     "metadata": {},
     "output_type": "execute_result"
    }
   ],
   "source": [
    "# Checking columns and considering drops before proceeding with other EDA tasks #\n",
    "\n",
    "df_2015.columns"
   ]
  },
  {
   "cell_type": "code",
   "execution_count": 10,
   "metadata": {},
   "outputs": [
    {
     "data": {
      "text/plain": [
       "Index(['Country', 'Happiness Score', 'Economy (GDP per Capita)', 'Family',\n",
       "       'Health (Life Expectancy)', 'Freedom', 'Trust (Government Corruption)',\n",
       "       'Generosity', 'Dystopia Residual'],\n",
       "      dtype='object')"
      ]
     },
     "execution_count": 10,
     "metadata": {},
     "output_type": "execute_result"
    }
   ],
   "source": [
    "df_2015.drop(['Region', 'Standard Error', 'Happiness Rank'], axis=1, inplace=True) \n",
    "# I couldn't think of why 'region' would add insight that 'Country' does not, and Standard Error probably won't add any predictive power to our model.\n",
    "# I also suspect 'happiness rank' does not give us anything useful either because we want to predict happiness score, with which rank will probably have collinearity. \n",
    "\n",
    "df_2015.columns"
   ]
  },
  {
   "cell_type": "code",
   "execution_count": 11,
   "metadata": {},
   "outputs": [
    {
     "data": {
      "text/plain": [
       "Index(['Country', 'Region', 'Happiness Rank', 'Happiness Score',\n",
       "       'Lower Confidence Interval', 'Upper Confidence Interval',\n",
       "       'Economy (GDP per Capita)', 'Family', 'Health (Life Expectancy)',\n",
       "       'Freedom', 'Trust (Government Corruption)', 'Generosity',\n",
       "       'Dystopia Residual'],\n",
       "      dtype='object')"
      ]
     },
     "execution_count": 11,
     "metadata": {},
     "output_type": "execute_result"
    }
   ],
   "source": [
    "df_2016.columns\n",
    "# I see confidence intervals and region in there again. I don't see how confidence interval would influence predictive ability so I will drop that along with Region.\n"
   ]
  },
  {
   "cell_type": "code",
   "execution_count": 12,
   "metadata": {},
   "outputs": [
    {
     "data": {
      "text/plain": [
       "Index(['Country', 'Happiness Score', 'Economy (GDP per Capita)', 'Family',\n",
       "       'Health (Life Expectancy)', 'Freedom', 'Trust (Government Corruption)',\n",
       "       'Generosity', 'Dystopia Residual'],\n",
       "      dtype='object')"
      ]
     },
     "execution_count": 12,
     "metadata": {},
     "output_type": "execute_result"
    }
   ],
   "source": [
    "df_2016.drop(['Region', 'Lower Confidence Interval', 'Upper Confidence Interval', 'Happiness Rank'], axis=1, inplace=True)\n",
    "\n",
    "df_2016.columns"
   ]
  },
  {
   "cell_type": "code",
   "execution_count": 13,
   "metadata": {},
   "outputs": [
    {
     "data": {
      "text/plain": [
       "Index(['Country', 'Happiness.Rank', 'Happiness.Score', 'Whisker.high',\n",
       "       'Whisker.low', 'Economy..GDP.per.Capita.', 'Family',\n",
       "       'Health..Life.Expectancy.', 'Freedom', 'Generosity',\n",
       "       'Trust..Government.Corruption.', 'Dystopia.Residual'],\n",
       "      dtype='object')"
      ]
     },
     "execution_count": 13,
     "metadata": {},
     "output_type": "execute_result"
    }
   ],
   "source": [
    "df_2017.columns\n",
    "# I can see whisker.high and whisker.low but I'm not at all sure what they add to this dataset or our upcoming model, so I will drop these too. Again, statistical indicators like SE probably\n",
    "# has zero relevance to happiness scores. Same goes for happiness.rank."
   ]
  },
  {
   "cell_type": "code",
   "execution_count": 14,
   "metadata": {},
   "outputs": [
    {
     "data": {
      "text/plain": [
       "Index(['Country', 'Happiness.Score', 'Economy..GDP.per.Capita.', 'Family',\n",
       "       'Health..Life.Expectancy.', 'Freedom', 'Generosity',\n",
       "       'Trust..Government.Corruption.', 'Dystopia.Residual'],\n",
       "      dtype='object')"
      ]
     },
     "execution_count": 14,
     "metadata": {},
     "output_type": "execute_result"
    }
   ],
   "source": [
    "df_2017.drop(['Whisker.low', 'Whisker.high', 'Happiness.Rank'], axis=1, inplace=True)\n",
    "df_2017.columns"
   ]
  },
  {
   "cell_type": "code",
   "execution_count": 15,
   "metadata": {},
   "outputs": [
    {
     "name": "stdout",
     "output_type": "stream",
     "text": [
      "2015 dataframe columns:  Index(['Country', 'Happiness Score', 'Economy (GDP per Capita)', 'Family',\n",
      "       'Health (Life Expectancy)', 'Freedom', 'Trust (Government Corruption)',\n",
      "       'Generosity', 'Dystopia Residual'],\n",
      "      dtype='object')\n",
      "2016 dataframe columns:  Index(['Country', 'Happiness Score', 'Economy (GDP per Capita)', 'Family',\n",
      "       'Health (Life Expectancy)', 'Freedom', 'Trust (Government Corruption)',\n",
      "       'Generosity', 'Dystopia Residual'],\n",
      "      dtype='object')\n",
      "2017 dataframe columns:  Index(['Country', 'Happiness.Score', 'Economy..GDP.per.Capita.', 'Family',\n",
      "       'Health..Life.Expectancy.', 'Freedom', 'Generosity',\n",
      "       'Trust..Government.Corruption.', 'Dystopia.Residual'],\n",
      "      dtype='object')\n",
      "2018 dataframe columns:  Index(['Overall rank', 'Country or region', 'Score', 'GDP per capita',\n",
      "       'Social support', 'Healthy life expectancy',\n",
      "       'Freedom to make life choices', 'Generosity',\n",
      "       'Perceptions of corruption'],\n",
      "      dtype='object')\n",
      "2019 dataframe columns:  Index(['Overall rank', 'Country or region', 'Score', 'GDP per capita',\n",
      "       'Social support', 'Healthy life expectancy',\n",
      "       'Freedom to make life choices', 'Generosity',\n",
      "       'Perceptions of corruption'],\n",
      "      dtype='object')\n"
     ]
    }
   ],
   "source": [
    "print(f'2015 dataframe columns: ', df_2015.columns)\n",
    "\n",
    "print(f'2016 dataframe columns: ', df_2016.columns)\n",
    "\n",
    "print(f'2017 dataframe columns: ', df_2017.columns)\n",
    "\n",
    "print(f'2018 dataframe columns: ', df_2018.columns)\n",
    "\n",
    "print(f'2019 dataframe columns: ', df_2019.columns)"
   ]
  },
  {
   "cell_type": "code",
   "execution_count": 16,
   "metadata": {},
   "outputs": [
    {
     "data": {
      "text/html": [
       "<div>\n",
       "<style scoped>\n",
       "    .dataframe tbody tr th:only-of-type {\n",
       "        vertical-align: middle;\n",
       "    }\n",
       "\n",
       "    .dataframe tbody tr th {\n",
       "        vertical-align: top;\n",
       "    }\n",
       "\n",
       "    .dataframe thead th {\n",
       "        text-align: right;\n",
       "    }\n",
       "</style>\n",
       "<table border=\"1\" class=\"dataframe\">\n",
       "  <thead>\n",
       "    <tr style=\"text-align: right;\">\n",
       "      <th></th>\n",
       "      <th>Country</th>\n",
       "      <th>Happiness Score</th>\n",
       "      <th>Economy</th>\n",
       "      <th>Family</th>\n",
       "      <th>Health</th>\n",
       "      <th>Freedom</th>\n",
       "      <th>Trust</th>\n",
       "      <th>Generosity</th>\n",
       "      <th>Dystopia Residual</th>\n",
       "    </tr>\n",
       "  </thead>\n",
       "  <tbody>\n",
       "    <tr>\n",
       "      <th>0</th>\n",
       "      <td>Switzerland</td>\n",
       "      <td>7.587</td>\n",
       "      <td>1.39651</td>\n",
       "      <td>1.34951</td>\n",
       "      <td>0.94143</td>\n",
       "      <td>0.66557</td>\n",
       "      <td>0.41978</td>\n",
       "      <td>0.29678</td>\n",
       "      <td>2.51738</td>\n",
       "    </tr>\n",
       "    <tr>\n",
       "      <th>1</th>\n",
       "      <td>Iceland</td>\n",
       "      <td>7.561</td>\n",
       "      <td>1.30232</td>\n",
       "      <td>1.40223</td>\n",
       "      <td>0.94784</td>\n",
       "      <td>0.62877</td>\n",
       "      <td>0.14145</td>\n",
       "      <td>0.43630</td>\n",
       "      <td>2.70201</td>\n",
       "    </tr>\n",
       "    <tr>\n",
       "      <th>2</th>\n",
       "      <td>Denmark</td>\n",
       "      <td>7.527</td>\n",
       "      <td>1.32548</td>\n",
       "      <td>1.36058</td>\n",
       "      <td>0.87464</td>\n",
       "      <td>0.64938</td>\n",
       "      <td>0.48357</td>\n",
       "      <td>0.34139</td>\n",
       "      <td>2.49204</td>\n",
       "    </tr>\n",
       "    <tr>\n",
       "      <th>3</th>\n",
       "      <td>Norway</td>\n",
       "      <td>7.522</td>\n",
       "      <td>1.45900</td>\n",
       "      <td>1.33095</td>\n",
       "      <td>0.88521</td>\n",
       "      <td>0.66973</td>\n",
       "      <td>0.36503</td>\n",
       "      <td>0.34699</td>\n",
       "      <td>2.46531</td>\n",
       "    </tr>\n",
       "    <tr>\n",
       "      <th>4</th>\n",
       "      <td>Canada</td>\n",
       "      <td>7.427</td>\n",
       "      <td>1.32629</td>\n",
       "      <td>1.32261</td>\n",
       "      <td>0.90563</td>\n",
       "      <td>0.63297</td>\n",
       "      <td>0.32957</td>\n",
       "      <td>0.45811</td>\n",
       "      <td>2.45176</td>\n",
       "    </tr>\n",
       "  </tbody>\n",
       "</table>\n",
       "</div>"
      ],
      "text/plain": [
       "       Country  Happiness Score  Economy   Family   Health  Freedom    Trust  \\\n",
       "0  Switzerland            7.587  1.39651  1.34951  0.94143  0.66557  0.41978   \n",
       "1      Iceland            7.561  1.30232  1.40223  0.94784  0.62877  0.14145   \n",
       "2      Denmark            7.527  1.32548  1.36058  0.87464  0.64938  0.48357   \n",
       "3       Norway            7.522  1.45900  1.33095  0.88521  0.66973  0.36503   \n",
       "4       Canada            7.427  1.32629  1.32261  0.90563  0.63297  0.32957   \n",
       "\n",
       "   Generosity  Dystopia Residual  \n",
       "0     0.29678            2.51738  \n",
       "1     0.43630            2.70201  \n",
       "2     0.34139            2.49204  \n",
       "3     0.34699            2.46531  \n",
       "4     0.45811            2.45176  "
      ]
     },
     "execution_count": 16,
     "metadata": {},
     "output_type": "execute_result"
    }
   ],
   "source": [
    "# 2018 and 2019 both have identical columns so I think they don't need any tidying aside from dropping the ranks. \n",
    "\n",
    "df_2018.drop(['Overall rank'], axis=1, inplace=True)\n",
    "df_2019.drop(['Overall rank'], axis=1, inplace=True)\n",
    "# I also don't see any columns that stick out as needing removing. Time to join the 2015-2017 tidied dataframes into one. \n",
    "\n",
    "df_2015.columns = ['Country', 'Happiness Score', 'Economy', 'Family', 'Health', 'Freedom', 'Trust', 'Generosity', 'Dystopia Residual']\n",
    "df_2016.columns = ['Country', 'Happiness Score', 'Economy', 'Family', 'Health', 'Freedom', 'Trust', 'Generosity', 'Dystopia Residual']\n",
    "df_2017.columns = ['Country', 'Happiness Score', 'Economy', 'Family', 'Health', 'Freedom', 'Trust', 'Generosity', 'Dystopia Residual']\n",
    "\n",
    "df_combined = pd.concat([df_2015, df_2016, df_2017], ignore_index=True) # Not doing 2018 and 2019 yet because their columns are different which might mess with the concatenation.\n",
    "\n",
    "df_combined.drop_duplicates(inplace=True)\n",
    "df_combined.head(5)"
   ]
  },
  {
   "cell_type": "code",
   "execution_count": 17,
   "metadata": {},
   "outputs": [
    {
     "data": {
      "text/plain": [
       "(470, 9)"
      ]
     },
     "execution_count": 17,
     "metadata": {},
     "output_type": "execute_result"
    }
   ],
   "source": [
    "df_combined.shape"
   ]
  },
  {
   "cell_type": "code",
   "execution_count": 18,
   "metadata": {},
   "outputs": [],
   "source": [
    "# Going to save this combined dataframe for my own peace of mind.\n",
    "df_combined.to_csv('C:\\\\Users\\\\olive\\\\Documents\\\\analytics\\\\week 6\\\\combined_happiness.csv')"
   ]
  },
  {
   "cell_type": "code",
   "execution_count": 19,
   "metadata": {},
   "outputs": [
    {
     "data": {
      "text/html": [
       "<div>\n",
       "<style scoped>\n",
       "    .dataframe tbody tr th:only-of-type {\n",
       "        vertical-align: middle;\n",
       "    }\n",
       "\n",
       "    .dataframe tbody tr th {\n",
       "        vertical-align: top;\n",
       "    }\n",
       "\n",
       "    .dataframe thead th {\n",
       "        text-align: right;\n",
       "    }\n",
       "</style>\n",
       "<table border=\"1\" class=\"dataframe\">\n",
       "  <thead>\n",
       "    <tr style=\"text-align: right;\">\n",
       "      <th></th>\n",
       "      <th>Happiness Score</th>\n",
       "      <th>Economy</th>\n",
       "      <th>Family</th>\n",
       "      <th>Health</th>\n",
       "      <th>Freedom</th>\n",
       "      <th>Trust</th>\n",
       "      <th>Generosity</th>\n",
       "      <th>Dystopia Residual</th>\n",
       "    </tr>\n",
       "  </thead>\n",
       "  <tbody>\n",
       "    <tr>\n",
       "      <th>count</th>\n",
       "      <td>470.000000</td>\n",
       "      <td>470.000000</td>\n",
       "      <td>470.000000</td>\n",
       "      <td>470.000000</td>\n",
       "      <td>470.000000</td>\n",
       "      <td>470.000000</td>\n",
       "      <td>470.000000</td>\n",
       "      <td>470.000000</td>\n",
       "    </tr>\n",
       "    <tr>\n",
       "      <th>mean</th>\n",
       "      <td>5.370728</td>\n",
       "      <td>0.927830</td>\n",
       "      <td>0.990347</td>\n",
       "      <td>0.579968</td>\n",
       "      <td>0.402828</td>\n",
       "      <td>0.175605</td>\n",
       "      <td>0.201426</td>\n",
       "      <td>2.092717</td>\n",
       "    </tr>\n",
       "    <tr>\n",
       "      <th>std</th>\n",
       "      <td>1.136998</td>\n",
       "      <td>0.415584</td>\n",
       "      <td>0.318707</td>\n",
       "      <td>0.240161</td>\n",
       "      <td>0.150356</td>\n",
       "      <td>0.131909</td>\n",
       "      <td>0.133211</td>\n",
       "      <td>0.565772</td>\n",
       "    </tr>\n",
       "    <tr>\n",
       "      <th>min</th>\n",
       "      <td>2.693000</td>\n",
       "      <td>0.000000</td>\n",
       "      <td>0.000000</td>\n",
       "      <td>0.000000</td>\n",
       "      <td>0.000000</td>\n",
       "      <td>0.000000</td>\n",
       "      <td>0.000000</td>\n",
       "      <td>0.328580</td>\n",
       "    </tr>\n",
       "    <tr>\n",
       "      <th>25%</th>\n",
       "      <td>4.509000</td>\n",
       "      <td>0.605292</td>\n",
       "      <td>0.793000</td>\n",
       "      <td>0.402301</td>\n",
       "      <td>0.297615</td>\n",
       "      <td>0.075792</td>\n",
       "      <td>0.098303</td>\n",
       "      <td>1.737975</td>\n",
       "    </tr>\n",
       "    <tr>\n",
       "      <th>50%</th>\n",
       "      <td>5.282500</td>\n",
       "      <td>0.995439</td>\n",
       "      <td>1.025665</td>\n",
       "      <td>0.630053</td>\n",
       "      <td>0.418347</td>\n",
       "      <td>0.139081</td>\n",
       "      <td>0.181624</td>\n",
       "      <td>2.094640</td>\n",
       "    </tr>\n",
       "    <tr>\n",
       "      <th>75%</th>\n",
       "      <td>6.233750</td>\n",
       "      <td>1.252443</td>\n",
       "      <td>1.228745</td>\n",
       "      <td>0.768298</td>\n",
       "      <td>0.516850</td>\n",
       "      <td>0.249839</td>\n",
       "      <td>0.275505</td>\n",
       "      <td>2.455575</td>\n",
       "    </tr>\n",
       "    <tr>\n",
       "      <th>max</th>\n",
       "      <td>7.587000</td>\n",
       "      <td>1.870766</td>\n",
       "      <td>1.610574</td>\n",
       "      <td>1.025250</td>\n",
       "      <td>0.669730</td>\n",
       "      <td>0.838075</td>\n",
       "      <td>0.819710</td>\n",
       "      <td>3.837720</td>\n",
       "    </tr>\n",
       "  </tbody>\n",
       "</table>\n",
       "</div>"
      ],
      "text/plain": [
       "       Happiness Score     Economy      Family      Health     Freedom  \\\n",
       "count       470.000000  470.000000  470.000000  470.000000  470.000000   \n",
       "mean          5.370728    0.927830    0.990347    0.579968    0.402828   \n",
       "std           1.136998    0.415584    0.318707    0.240161    0.150356   \n",
       "min           2.693000    0.000000    0.000000    0.000000    0.000000   \n",
       "25%           4.509000    0.605292    0.793000    0.402301    0.297615   \n",
       "50%           5.282500    0.995439    1.025665    0.630053    0.418347   \n",
       "75%           6.233750    1.252443    1.228745    0.768298    0.516850   \n",
       "max           7.587000    1.870766    1.610574    1.025250    0.669730   \n",
       "\n",
       "            Trust  Generosity  Dystopia Residual  \n",
       "count  470.000000  470.000000         470.000000  \n",
       "mean     0.175605    0.201426           2.092717  \n",
       "std      0.131909    0.133211           0.565772  \n",
       "min      0.000000    0.000000           0.328580  \n",
       "25%      0.075792    0.098303           1.737975  \n",
       "50%      0.139081    0.181624           2.094640  \n",
       "75%      0.249839    0.275505           2.455575  \n",
       "max      0.838075    0.819710           3.837720  "
      ]
     },
     "execution_count": 19,
     "metadata": {},
     "output_type": "execute_result"
    }
   ],
   "source": [
    "df_combined.describe()"
   ]
  },
  {
   "cell_type": "code",
   "execution_count": 20,
   "metadata": {},
   "outputs": [
    {
     "name": "stdout",
     "output_type": "stream",
     "text": [
      "Happiness Dataframe Data Types:  Country               object\n",
      "Happiness Score      float64\n",
      "Economy              float64\n",
      "Family               float64\n",
      "Health               float64\n",
      "Freedom              float64\n",
      "Trust                float64\n",
      "Generosity           float64\n",
      "Dystopia Residual    float64\n",
      "dtype: object\n",
      "Happiness Dataframe DT Count:  float64    8\n",
      "object     1\n",
      "Name: count, dtype: int64\n"
     ]
    }
   ],
   "source": [
    "print(f\"Happiness Dataframe Data Types: \", df_combined.dtypes)\n",
    "print(f\"Happiness Dataframe DT Count: \", df_combined.dtypes.value_counts())\n",
    "\n",
    "# 8 floats, 1 object.\n"
   ]
  },
  {
   "cell_type": "code",
   "execution_count": 21,
   "metadata": {},
   "outputs": [
    {
     "data": {
      "text/plain": [
       "Index(['Country', 'Happiness Score', 'Economy', 'Family', 'Health', 'Freedom',\n",
       "       'Trust', 'Generosity', 'Dystopia Residual'],\n",
       "      dtype='object')"
      ]
     },
     "execution_count": 21,
     "metadata": {},
     "output_type": "execute_result"
    }
   ],
   "source": [
    "df_combined.columns"
   ]
  },
  {
   "cell_type": "code",
   "execution_count": 22,
   "metadata": {},
   "outputs": [
    {
     "data": {
      "text/plain": [
       "Country              0\n",
       "Happiness Score      0\n",
       "Economy              0\n",
       "Family               0\n",
       "Health               0\n",
       "Freedom              0\n",
       "Trust                0\n",
       "Generosity           0\n",
       "Dystopia Residual    0\n",
       "dtype: int64"
      ]
     },
     "execution_count": 22,
     "metadata": {},
     "output_type": "execute_result"
    }
   ],
   "source": [
    "df_combined.isnull().sum()\n",
    "# Looking at nulls first. "
   ]
  },
  {
   "cell_type": "code",
   "execution_count": 23,
   "metadata": {},
   "outputs": [
    {
     "name": "stdout",
     "output_type": "stream",
     "text": [
      "2018 dataframe columns:  Index(['Country or region', 'Score', 'GDP per capita', 'Social support',\n",
      "       'Healthy life expectancy', 'Freedom to make life choices', 'Generosity',\n",
      "       'Perceptions of corruption'],\n",
      "      dtype='object')\n",
      "2019 dataframe columns:  Index(['Country or region', 'Score', 'GDP per capita', 'Social support',\n",
      "       'Healthy life expectancy', 'Freedom to make life choices', 'Generosity',\n",
      "       'Perceptions of corruption'],\n",
      "      dtype='object')\n"
     ]
    }
   ],
   "source": [
    "# Okay it looks like I have successfully concatenated the 2015 to 2017 dataframes together... now how on Earth do I do 2018 and 2019? \n",
    "\n",
    "print(f'2018 dataframe columns: ', df_2018.columns)\n",
    "\n",
    "print(f'2019 dataframe columns: ', df_2019.columns)"
   ]
  },
  {
   "cell_type": "code",
   "execution_count": 24,
   "metadata": {},
   "outputs": [
    {
     "data": {
      "text/plain": [
       "Index(['Country', 'Happiness Score', 'Economy', 'Family', 'Health', 'Freedom',\n",
       "       'Trust', 'Generosity', 'Dystopia Residual'],\n",
       "      dtype='object')"
      ]
     },
     "execution_count": 24,
     "metadata": {},
     "output_type": "execute_result"
    }
   ],
   "source": [
    "df_combined.columns"
   ]
  },
  {
   "cell_type": "code",
   "execution_count": 25,
   "metadata": {},
   "outputs": [
    {
     "name": "stdout",
     "output_type": "stream",
     "text": [
      "       Country  Happiness Score  Economy   Family   Health  Freedom    Trust  \\\n",
      "0  Switzerland            7.587  1.39651  1.34951  0.94143  0.66557  0.41978   \n",
      "1      Iceland            7.561  1.30232  1.40223  0.94784  0.62877  0.14145   \n",
      "2      Denmark            7.527  1.32548  1.36058  0.87464  0.64938  0.48357   \n",
      "3       Norway            7.522  1.45900  1.33095  0.88521  0.66973  0.36503   \n",
      "4       Canada            7.427  1.32629  1.32261  0.90563  0.63297  0.32957   \n",
      "\n",
      "   Generosity  Dystopia Residual  \n",
      "0     0.29678            2.51738  \n",
      "1     0.43630            2.70201  \n",
      "2     0.34139            2.49204  \n",
      "3     0.34699            2.46531  \n",
      "4     0.45811            2.45176  \n"
     ]
    },
    {
     "name": "stderr",
     "output_type": "stream",
     "text": [
      "C:\\Users\\olive\\AppData\\Local\\Temp\\ipykernel_2688\\1033277859.py:44: FutureWarning: The behavior of DataFrame concatenation with empty or all-NA entries is deprecated. In a future version, this will no longer exclude empty or all-NA columns when determining the result dtypes. To retain the old behavior, exclude the relevant entries before the concat operation.\n",
      "  df_combined = pd.concat([df_combined, df_2018_common, df_2019_common], ignore_index=True, join='inner') # updating the df_combined I already made earlier.\n"
     ]
    }
   ],
   "source": [
    "# Check and adjust column names for each DataFrame if necessary\n",
    "# List of common columns from the datasets we already concatenated\n",
    "common_columns = ['Country', 'Happiness Score', 'Economy', 'Family', 'Health', 'Freedom', 'Trust', 'Generosity', 'Dystopia Residual']\n",
    "\n",
    "# Rename columns in 2018 DataFrame\n",
    "df_2018_common = df_2018.rename(columns={\n",
    "    'Country or region': 'Country', # Country or Region data merges into 'Country' column\n",
    "    'Score': 'Happiness Score', # 'Score data merged into 'Happiness Score' column\n",
    "    'GDP per capita': 'Economy', # 'GDP per capita' merged into 'economy' column.\n",
    "    'Social support': 'Family', # Social support merged into family column.\n",
    "    'Healthy life expectancy': 'Health', # HLE data merged with Health\n",
    "    'Freedom to make life choices': 'Freedom', # FTMLC merged with 'Freedom'\n",
    "    'Generosity': 'Generosity', \n",
    "    'Perceptions of corruption': 'Trust'})\n",
    "\n",
    "# Handle the case where 'Dystopia Residual' is missing in the 2018 DataFrame\n",
    "if 'Dystopia Residual' not in df_2018_common.columns:\n",
    "    df_2018_common['Dystopia Residual'] = None\n",
    "\n",
    "# Select only the common columns\n",
    "df_2018_common = df_2018_common[common_columns]\n",
    "\n",
    "# Rename columns in 2019 DataFrame\n",
    "df_2019_common = df_2019.rename(columns={\n",
    "    'Country or region': 'Country',\n",
    "    'Score': 'Happiness Score',\n",
    "    'GDP per capita': 'Economy',\n",
    "    'Social support': 'Family',\n",
    "    'Healthy life expectancy': 'Health',\n",
    "    'Freedom to make life choices': 'Freedom',\n",
    "    'Generosity': 'Generosity',\n",
    "    'Perceptions of corruption': 'Trust'})\n",
    "\n",
    "# This ^ code renames the columns in the 2018 and 2019 dataframes to match the common columns in the concatenated dataframe before selecting only the common columns. \n",
    "\n",
    "# Handle the case where 'Dystopia Residual' is missing in the 2019 DataFrame\n",
    "if 'Dystopia Residual' not in df_2019_common.columns:\n",
    "    df_2019_common['Dystopia Residual'] = None\n",
    "\n",
    "# Select only the common columns\n",
    "df_2019_common = df_2019_common[common_columns]\n",
    "\n",
    "# Concatenate DataFrames excluding empty or all-NA columns\n",
    "df_combined = pd.concat([df_combined, df_2018_common, df_2019_common], ignore_index=True, join='inner') # updating the df_combined I already made earlier.\n",
    "\n",
    "# Drop any duplicated columns\n",
    "df_combined.drop_duplicates(subset=['Country', 'Happiness Score'], inplace=True)\n",
    "\n",
    "# Display the resulting combined DataFrame to check if all this has worked...\n",
    "print(df_combined.head())"
   ]
  },
  {
   "cell_type": "code",
   "execution_count": 26,
   "metadata": {},
   "outputs": [
    {
     "data": {
      "text/plain": [
       "(766, 9)"
      ]
     },
     "execution_count": 26,
     "metadata": {},
     "output_type": "execute_result"
    }
   ],
   "source": [
    "df_combined.shape"
   ]
  },
  {
   "cell_type": "code",
   "execution_count": 27,
   "metadata": {},
   "outputs": [
    {
     "data": {
      "text/plain": [
       "Country                0\n",
       "Happiness Score        0\n",
       "Economy                0\n",
       "Family                 0\n",
       "Health                 0\n",
       "Freedom                0\n",
       "Trust                  1\n",
       "Generosity             0\n",
       "Dystopia Residual    302\n",
       "dtype: int64"
      ]
     },
     "execution_count": 27,
     "metadata": {},
     "output_type": "execute_result"
    }
   ],
   "source": [
    "df_combined.isnull().sum()"
   ]
  },
  {
   "cell_type": "code",
   "execution_count": 28,
   "metadata": {},
   "outputs": [
    {
     "data": {
      "text/plain": [
       "count    464.000000\n",
       "mean       2.091384\n",
       "std        0.565516\n",
       "min        0.328580\n",
       "25%        1.737153\n",
       "50%        2.092625\n",
       "75%        2.454345\n",
       "max        3.837720\n",
       "Name: Dystopia Residual, dtype: float64"
      ]
     },
     "execution_count": 28,
     "metadata": {},
     "output_type": "execute_result"
    }
   ],
   "source": [
    "# Dystopia Residual has a lot of nulls because it was missing from 2018 and 2019 if I recall correctly.\n",
    "\n",
    "df_combined['Dystopia Residual'].describe()"
   ]
  },
  {
   "cell_type": "code",
   "execution_count": 29,
   "metadata": {},
   "outputs": [
    {
     "data": {
      "image/png": "[encoded data removed]",
      "text/plain": [
       "<Figure size 640x480 with 1 Axes>"
      ]
     },
     "metadata": {},
     "output_type": "display_data"
    }
   ],
   "source": [
    "sns.histplot(df_combined['Dystopia Residual'], kde=True, stat='density')\n",
    "plt.title('Histogram for Dystopia Residual')\n",
    "plt.show()\n",
    "\n",
    "# Normal distribution means that Mean imputation can solve our null problem since I would prefer to not drop it yet. "
   ]
  },
  {
   "cell_type": "markdown",
   "metadata": {},
   "source": [
    "Reminder: what is 'Dystopia Residual'?\n",
    "\n",
    "In the context of the World Happiness Report, \"Dystopia Residual\" is a hypothetical country used as a benchmark to which all other countries are compared when calculating the Happiness Score.\n",
    "It represents the lowest possible happiness score a country could achieve, and it serves as a reference point for measuring the relative happiness levels of other countries.\n",
    "\n",
    "The Dystopia Residual is determined by considering various factors that contribute to unhappiness, and it helps to standardize the happiness scores across different countries. \n",
    "Essentially, it provides a baseline against which the happiness of real countries is evaluated in the report. \n",
    "The lower a country's Happiness Score compared to the Dystopia Residual, the higher its relative happiness level.\n",
    "\n",
    "For now, I've decided to keep it in even though I an skeptical of what value DR has in our model. Our unsupervised ML work later might answer this."
   ]
  },
  {
   "cell_type": "code",
   "execution_count": 30,
   "metadata": {},
   "outputs": [
    {
     "data": {
      "text/plain": [
       "count    765.000000\n",
       "mean       0.150442\n",
       "std        0.123287\n",
       "min        0.000000\n",
       "25%        0.061000\n",
       "50%        0.109000\n",
       "75%        0.206460\n",
       "max        0.838075\n",
       "Name: Trust, dtype: float64"
      ]
     },
     "execution_count": 30,
     "metadata": {},
     "output_type": "execute_result"
    }
   ],
   "source": [
    "df_combined['Dystopia Residual'] = df_combined['Dystopia Residual'].fillna(df_combined['Dystopia Residual'].mean(skipna=True))\n",
    "\n",
    "# Trust only has one null but I'll check it anyways.\n",
    "df_combined['Trust'].describe()"
   ]
  },
  {
   "cell_type": "code",
   "execution_count": 31,
   "metadata": {},
   "outputs": [
    {
     "data": {
      "image/png": "[encoded data removed]",
      "text/plain": [
       "<Figure size 640x480 with 1 Axes>"
      ]
     },
     "metadata": {},
     "output_type": "display_data"
    }
   ],
   "source": [
    "sns.histplot(df_combined['Trust'], kde=True, stat='density')\n",
    "plt.title('Histogram for Trust')\n",
    "plt.show()"
   ]
  },
  {
   "cell_type": "code",
   "execution_count": 32,
   "metadata": {},
   "outputs": [
    {
     "data": {
      "text/plain": [
       "Country              0\n",
       "Happiness Score      0\n",
       "Economy              0\n",
       "Family               0\n",
       "Health               0\n",
       "Freedom              0\n",
       "Trust                0\n",
       "Generosity           0\n",
       "Dystopia Residual    0\n",
       "dtype: int64"
      ]
     },
     "execution_count": 32,
     "metadata": {},
     "output_type": "execute_result"
    }
   ],
   "source": [
    "# Positive skew so median imputation for trust. \n",
    "df_combined['Trust'] = df_combined['Trust'].fillna(df_combined['Trust'].median(skipna=True))\n",
    "\n",
    "df_combined.isnull().sum()"
   ]
  },
  {
   "cell_type": "code",
   "execution_count": 33,
   "metadata": {},
   "outputs": [
    {
     "data": {
      "text/plain": [
       "Country               object\n",
       "Happiness Score      float64\n",
       "Economy              float64\n",
       "Family               float64\n",
       "Health               float64\n",
       "Freedom              float64\n",
       "Trust                float64\n",
       "Generosity           float64\n",
       "Dystopia Residual    float64\n",
       "dtype: object"
      ]
     },
     "execution_count": 33,
     "metadata": {},
     "output_type": "execute_result"
    }
   ],
   "source": [
    "# Nulls sorted. Now I can proceed with other EDA activities.\n",
    "\n",
    "df_combined.dtypes"
   ]
  },
  {
   "cell_type": "code",
   "execution_count": 34,
   "metadata": {},
   "outputs": [
    {
     "data": {
      "text/plain": [
       "Index(['Happiness Score', 'Economy', 'Family', 'Health', 'Freedom', 'Trust',\n",
       "       'Generosity', 'Dystopia Residual'],\n",
       "      dtype='object')"
      ]
     },
     "execution_count": 34,
     "metadata": {},
     "output_type": "execute_result"
    }
   ],
   "source": [
    "# Just had a thought, our objective is to create an optimal model to predict happiness score, not happiness score by country \n",
    "# so I don't see why we should keep 'country' as an input feature.\n",
    "\n",
    "df_combined.drop(['Country'], axis=1, inplace=True)\n",
    "df_combined.columns"
   ]
  },
  {
   "cell_type": "code",
   "execution_count": 35,
   "metadata": {},
   "outputs": [
    {
     "data": {
      "image/png": "[encoded data removed]",
      "text/plain": [
       "<Figure size 1200x600 with 2 Axes>"
      ]
     },
     "metadata": {},
     "output_type": "display_data"
    }
   ],
   "source": [
    "float_cols = df_combined.select_dtypes(include=[\"float64\"])\n",
    "corr_matrix = float_cols.corr()\n",
    "fig, ax = plt.subplots(figsize=(12,6))\n",
    "sns.heatmap(corr_matrix, annot=True, annot_kws={'fontsize': 12})\n",
    "plt.show()"
   ]
  },
  {
   "cell_type": "markdown",
   "metadata": {},
   "source": [
    "Noted some high correlations, can try Ridge Regression (L2) later to see if this significantly affects model performance. "
   ]
  },
  {
   "cell_type": "code",
   "execution_count": 36,
   "metadata": {},
   "outputs": [
    {
     "data": {
      "text/plain": [
       "array([1.96111501, 1.18722402, 0.82273113, 1.32313353, 1.67840716,\n",
       "       2.18777911, 0.86244879, 0.96891284])"
      ]
     },
     "execution_count": 36,
     "metadata": {},
     "output_type": "execute_result"
    }
   ],
   "source": [
    "# Vaish kept mentioning clustering so I think I'm supposed to do K-means clustering as my unsupervised ML component here instead of my original plan to do PCA. \n",
    "\n",
    "from sklearn.preprocessing import StandardScaler\n",
    "\n",
    "scaler = StandardScaler()\n",
    "df_scaled = scaler.fit_transform(df_combined) # Standardizing the data in the current dataframe.\n",
    "df_scaled[0] # Shows me the first row of standardized data"
   ]
  },
  {
   "cell_type": "code",
   "execution_count": 37,
   "metadata": {},
   "outputs": [
    {
     "name": "stderr",
     "output_type": "stream",
     "text": [
      "C:\\Users\\olive\\AppData\\Local\\Packages\\PythonSoftwareFoundation.Python.3.12_qbz5n2kfra8p0\\LocalCache\\local-packages\\Python312\\site-packages\\sklearn\\cluster\\_kmeans.py:1416: FutureWarning: The default value of `n_init` will change from 10 to 'auto' in 1.4. Set the value of `n_init` explicitly to suppress the warning\n",
      "  super()._check_params_vs_input(X, default_n_init=10)\n"
     ]
    },
    {
     "data": {
      "text/plain": [
       "array([0, 0, 0, 0, 0, 0, 0, 0, 0, 0, 0, 0, 0, 0, 0, 0, 0, 0, 0, 0, 0, 0,\n",
       "       0, 0, 0, 0, 0, 0, 0, 0, 0, 0, 0, 0, 0, 0, 0, 0, 0, 0, 0, 0, 0, 0,\n",
       "       0, 0, 0, 0, 0, 0, 0, 1, 0, 0, 0, 0, 0, 0, 0, 0, 0, 0, 0, 0, 0, 0,\n",
       "       0, 0, 1, 0, 0, 0, 0, 0, 0, 0, 1, 1, 0, 1, 1, 0, 1, 0, 1, 1, 1, 0,\n",
       "       0, 1, 1, 1, 1, 1, 1, 1, 1, 0, 1, 1, 1, 1, 1, 0, 1, 1, 1, 1, 1, 1,\n",
       "       1, 1, 1, 1, 1, 1, 1, 1, 1, 1, 1, 1, 1, 1, 1, 1, 1, 1, 1, 1, 1, 1,\n",
       "       1, 1, 1, 1, 1, 1, 1, 1, 1, 1, 1, 1, 1, 1, 1, 1, 1, 1, 1, 1, 1, 1,\n",
       "       1, 1, 1, 1, 0, 0, 0, 0, 0, 0, 0, 0, 0, 0, 0, 0, 0, 0, 0, 0, 0, 0,\n",
       "       0, 0, 0, 0, 0, 0, 0, 0, 0, 0, 0, 0, 0, 0, 0, 0, 0, 0, 0, 0, 0, 0,\n",
       "       0, 0, 0, 0, 0, 0, 0, 0, 0, 1, 0, 0, 1, 0, 0, 0, 1, 0, 0, 0, 0, 0,\n",
       "       0, 0, 0, 0, 0, 0, 0, 0, 0, 1, 0, 1, 1, 1, 1, 1, 1, 1, 0, 1, 1, 1,\n",
       "       1, 1, 0, 1, 1, 1, 1, 0, 1, 1, 1, 1, 1, 1, 1, 1, 1, 1, 1, 1, 1, 1,\n",
       "       1, 1, 1, 1, 1, 1, 1, 1, 1, 1, 1, 1, 1, 1, 1, 1, 1, 1, 1, 1, 1, 1,\n",
       "       1, 1, 1, 1, 1, 1, 1, 1, 1, 1, 1, 1, 1, 1, 1, 1, 1, 1, 1, 1, 1, 1,\n",
       "       1, 1, 0, 0, 0, 0, 0, 0, 0, 0, 0, 0, 0, 0, 0, 0, 0, 0, 0, 0, 0, 0,\n",
       "       0, 0, 0, 0, 0, 0, 0, 0, 0, 0, 0, 0, 0, 0, 0, 0, 0, 0, 0, 0, 0, 0,\n",
       "       0, 0, 0, 0, 0, 0, 0, 0, 0, 0, 0, 0, 0, 0, 0, 0, 0, 0, 0, 0, 0, 0,\n",
       "       0, 0, 0, 0, 0, 0, 0, 0, 0, 0, 0, 0, 1, 0, 1, 0, 0, 0, 1, 0, 0, 0,\n",
       "       0, 0, 0, 1, 0, 1, 0, 1, 1, 0, 0, 1, 0, 1, 1, 1, 1, 0, 1, 1, 1, 1,\n",
       "       1, 1, 1, 1, 1, 1, 1, 1, 1, 1, 0, 1, 1, 1, 1, 1, 1, 1, 1, 1, 1, 1,\n",
       "       1, 1, 1, 1, 1, 1, 1, 1, 1, 1, 1, 1, 1, 1, 1, 1, 1, 1, 1, 1, 1, 1,\n",
       "       1, 1, 0, 0, 0, 0, 0, 0, 0, 0, 0, 0, 0, 0, 0, 0, 0, 0, 0, 0, 0, 0,\n",
       "       0, 0, 0, 0, 0, 0, 0, 0, 0, 0, 0, 0, 0, 0, 0, 0, 0, 0, 0, 0, 0, 0,\n",
       "       0, 0, 0, 0, 0, 0, 0, 0, 0, 0, 0, 0, 0, 0, 0, 0, 0, 0, 0, 0, 0, 0,\n",
       "       0, 1, 0, 0, 0, 0, 0, 0, 0, 1, 0, 0, 0, 0, 0, 0, 0, 0, 1, 1, 0, 0,\n",
       "       1, 0, 0, 1, 0, 1, 0, 0, 0, 0, 1, 1, 0, 1, 1, 1, 1, 1, 1, 1, 1, 1,\n",
       "       1, 1, 1, 1, 1, 1, 0, 1, 1, 1, 1, 1, 1, 1, 1, 1, 1, 1, 1, 1, 1, 1,\n",
       "       1, 1, 1, 1, 1, 1, 1, 1, 1, 1, 1, 1, 1, 1, 1, 1, 1, 1, 1, 1, 1, 1,\n",
       "       1, 0, 0, 0, 0, 0, 0, 0, 0, 0, 0, 0, 0, 0, 0, 0, 0, 0, 0, 0, 0, 0,\n",
       "       0, 0, 0, 0, 0, 0, 0, 0, 0, 0, 0, 0, 0, 0, 0, 0, 0, 0, 0, 0, 0, 0,\n",
       "       0, 0, 0, 0, 0, 0, 0, 0, 0, 0, 0, 0, 0, 0, 0, 0, 0, 0, 0, 0, 1, 0,\n",
       "       0, 0, 0, 0, 0, 1, 0, 0, 0, 0, 0, 0, 0, 0, 0, 1, 0, 0, 1, 1, 0, 0,\n",
       "       0, 0, 0, 1, 0, 1, 1, 1, 0, 1, 1, 1, 1, 1, 1, 0, 1, 1, 1, 1, 1, 1,\n",
       "       1, 1, 1, 1, 1, 1, 1, 1, 1, 1, 1, 1, 1, 1, 1, 0, 1, 1, 1, 1, 1, 1,\n",
       "       1, 1, 1, 1, 1, 1, 1, 1, 1, 1, 1, 1, 1, 1, 1, 1, 1, 1])"
      ]
     },
     "execution_count": 37,
     "metadata": {},
     "output_type": "execute_result"
    }
   ],
   "source": [
    "from sklearn.cluster import KMeans\n",
    "\n",
    "k_means_model = KMeans(n_clusters=2) # Data split into two clusters, following from Vaish' example. Elbow plot later on confirms 2 or 3 as optimal.\n",
    "k_means_model.fit(df_scaled) # fit the k-means model to the standardized data \n",
    "\n",
    "cluster_labels = k_means_model.predict(df_scaled) # the predict method is applied to the standardized dataframe which assigns each data point to a cluster. \n",
    "cluster_labels"
   ]
  },
  {
   "cell_type": "code",
   "execution_count": 38,
   "metadata": {},
   "outputs": [],
   "source": [
    "# Adding the clusters to dataframe as new column\n",
    "df_scaled = pd.DataFrame(df_scaled, columns=['Happiness Score', 'Economy', 'Family', 'Health', 'Freedom', 'Trust','Generosity', 'Dystopia Residual'])\n",
    "df_scaled['Cluster'] = cluster_labels"
   ]
  },
  {
   "cell_type": "code",
   "execution_count": 39,
   "metadata": {},
   "outputs": [
    {
     "data": {
      "text/html": [
       "<div>\n",
       "<style scoped>\n",
       "    .dataframe tbody tr th:only-of-type {\n",
       "        vertical-align: middle;\n",
       "    }\n",
       "\n",
       "    .dataframe tbody tr th {\n",
       "        vertical-align: top;\n",
       "    }\n",
       "\n",
       "    .dataframe thead th {\n",
       "        text-align: right;\n",
       "    }\n",
       "</style>\n",
       "<table border=\"1\" class=\"dataframe\">\n",
       "  <thead>\n",
       "    <tr style=\"text-align: right;\">\n",
       "      <th></th>\n",
       "      <th>Happiness Score</th>\n",
       "      <th>Economy</th>\n",
       "      <th>Family</th>\n",
       "      <th>Health</th>\n",
       "      <th>Freedom</th>\n",
       "      <th>Trust</th>\n",
       "      <th>Generosity</th>\n",
       "      <th>Dystopia Residual</th>\n",
       "      <th>Cluster</th>\n",
       "    </tr>\n",
       "  </thead>\n",
       "  <tbody>\n",
       "    <tr>\n",
       "      <th>count</th>\n",
       "      <td>766.00</td>\n",
       "      <td>766.00</td>\n",
       "      <td>766.00</td>\n",
       "      <td>766.00</td>\n",
       "      <td>766.00</td>\n",
       "      <td>766.00</td>\n",
       "      <td>766.00</td>\n",
       "      <td>766.00</td>\n",
       "      <td>766.00</td>\n",
       "    </tr>\n",
       "    <tr>\n",
       "      <th>mean</th>\n",
       "      <td>-0.00</td>\n",
       "      <td>-0.00</td>\n",
       "      <td>-0.00</td>\n",
       "      <td>-0.00</td>\n",
       "      <td>0.00</td>\n",
       "      <td>0.00</td>\n",
       "      <td>-0.00</td>\n",
       "      <td>0.00</td>\n",
       "      <td>0.44</td>\n",
       "    </tr>\n",
       "    <tr>\n",
       "      <th>std</th>\n",
       "      <td>1.00</td>\n",
       "      <td>1.00</td>\n",
       "      <td>1.00</td>\n",
       "      <td>1.00</td>\n",
       "      <td>1.00</td>\n",
       "      <td>1.00</td>\n",
       "      <td>1.00</td>\n",
       "      <td>1.00</td>\n",
       "      <td>0.50</td>\n",
       "    </tr>\n",
       "    <tr>\n",
       "      <th>min</th>\n",
       "      <td>-2.40</td>\n",
       "      <td>-2.27</td>\n",
       "      <td>-3.32</td>\n",
       "      <td>-2.49</td>\n",
       "      <td>-2.73</td>\n",
       "      <td>-1.22</td>\n",
       "      <td>-1.60</td>\n",
       "      <td>-4.01</td>\n",
       "      <td>0.00</td>\n",
       "    </tr>\n",
       "    <tr>\n",
       "      <th>25%</th>\n",
       "      <td>-0.78</td>\n",
       "      <td>-0.76</td>\n",
       "      <td>-0.65</td>\n",
       "      <td>-0.69</td>\n",
       "      <td>-0.67</td>\n",
       "      <td>-0.73</td>\n",
       "      <td>-0.77</td>\n",
       "      <td>-0.28</td>\n",
       "      <td>0.00</td>\n",
       "    </tr>\n",
       "    <tr>\n",
       "      <th>50%</th>\n",
       "      <td>-0.06</td>\n",
       "      <td>0.16</td>\n",
       "      <td>0.13</td>\n",
       "      <td>0.14</td>\n",
       "      <td>0.12</td>\n",
       "      <td>-0.34</td>\n",
       "      <td>-0.13</td>\n",
       "      <td>0.00</td>\n",
       "      <td>0.00</td>\n",
       "    </tr>\n",
       "    <tr>\n",
       "      <th>75%</th>\n",
       "      <td>0.71</td>\n",
       "      <td>0.79</td>\n",
       "      <td>0.76</td>\n",
       "      <td>0.79</td>\n",
       "      <td>0.79</td>\n",
       "      <td>0.45</td>\n",
       "      <td>0.55</td>\n",
       "      <td>0.26</td>\n",
       "      <td>1.00</td>\n",
       "    </tr>\n",
       "    <tr>\n",
       "      <th>max</th>\n",
       "      <td>2.12</td>\n",
       "      <td>2.92</td>\n",
       "      <td>1.73</td>\n",
       "      <td>2.13</td>\n",
       "      <td>2.07</td>\n",
       "      <td>5.58</td>\n",
       "      <td>5.21</td>\n",
       "      <td>3.97</td>\n",
       "      <td>1.00</td>\n",
       "    </tr>\n",
       "  </tbody>\n",
       "</table>\n",
       "</div>"
      ],
      "text/plain": [
       "       Happiness Score  Economy  Family  Health  Freedom   Trust  Generosity  \\\n",
       "count           766.00   766.00  766.00  766.00   766.00  766.00      766.00   \n",
       "mean             -0.00    -0.00   -0.00   -0.00     0.00    0.00       -0.00   \n",
       "std               1.00     1.00    1.00    1.00     1.00    1.00        1.00   \n",
       "min              -2.40    -2.27   -3.32   -2.49    -2.73   -1.22       -1.60   \n",
       "25%              -0.78    -0.76   -0.65   -0.69    -0.67   -0.73       -0.77   \n",
       "50%              -0.06     0.16    0.13    0.14     0.12   -0.34       -0.13   \n",
       "75%               0.71     0.79    0.76    0.79     0.79    0.45        0.55   \n",
       "max               2.12     2.92    1.73    2.13     2.07    5.58        5.21   \n",
       "\n",
       "       Dystopia Residual  Cluster  \n",
       "count             766.00   766.00  \n",
       "mean                0.00     0.44  \n",
       "std                 1.00     0.50  \n",
       "min                -4.01     0.00  \n",
       "25%                -0.28     0.00  \n",
       "50%                 0.00     0.00  \n",
       "75%                 0.26     1.00  \n",
       "max                 3.97     1.00  "
      ]
     },
     "execution_count": 39,
     "metadata": {},
     "output_type": "execute_result"
    }
   ],
   "source": [
    "df_scaled.describe().round(2)"
   ]
  },
  {
   "cell_type": "code",
   "execution_count": 40,
   "metadata": {},
   "outputs": [
    {
     "data": {
      "image/png": "[encoded data removed]",
      "text/plain": [
       "<Figure size 1600x600 with 1 Axes>"
      ]
     },
     "metadata": {},
     "output_type": "display_data"
    }
   ],
   "source": [
    "# Using Seaborn to plot correlations between features and clusters.\n",
    "plt.figure(figsize=(16, 6))\n",
    "sns.barplot(x=df_scaled.corr()['Cluster'].index[:-1], y=df_scaled.corr()['Cluster'].iloc[:-1])\n",
    "plt.xticks(rotation=45)\n",
    "plt.show()"
   ]
  },
  {
   "cell_type": "markdown",
   "metadata": {},
   "source": [
    "Might be worth removing Generosity. Everything else except DR strongly correlated with 'Cluster'."
   ]
  },
  {
   "cell_type": "code",
   "execution_count": 41,
   "metadata": {},
   "outputs": [
    {
     "data": {
      "image/png": "[encoded data removed]",
      "text/plain": [
       "<Figure size 640x480 with 1 Axes>"
      ]
     },
     "metadata": {},
     "output_type": "display_data"
    }
   ],
   "source": [
    "# Elbow method for optimal number of clusters. Should have done this before, but oh well! \n",
    "ssd = [] # sum of squared distances \n",
    "\n",
    "for k in range(2,12):\n",
    "    model = KMeans(n_clusters=k, n_init=10)\n",
    "    model.fit(df_scaled)\n",
    "    ssd.append(model.inertia_) # cluster center\n",
    "    \n",
    "\n",
    "# ssd.append = appends the sum of squared distances for the fitted model to the ssd list. \n",
    "# The inertia_ attribute of the k-means model represents the sum of squared distances of samples to their closest cluster center.\n",
    "\n",
    "plt.plot(range(2,12), ssd, \"o--\") # chose 2 clusters to 12 clusters as range because clusters = 2, 12 was arbitrary.\n",
    "# The \"o--\" format specifies that the points will be marked with circles and connected with a dashed line.\n",
    "plt.title(\"Elbow range\")\n",
    "plt.show()\n"
   ]
  },
  {
   "cell_type": "code",
   "execution_count": 42,
   "metadata": {},
   "outputs": [],
   "source": [
    "# Okay, so 2 or 3 K-clusters is optimal so could change to 3. I retested the cluster/feature correlation with 3 clusters but the results were almost identical so will stay at 2 for time's sake."
   ]
  },
  {
   "cell_type": "code",
   "execution_count": 62,
   "metadata": {},
   "outputs": [
    {
     "name": "stdout",
     "output_type": "stream",
     "text": [
      "Mean Squared Error: 0.08658275096334787\n",
      "R-squared: 0.9174449648183611\n"
     ]
    }
   ],
   "source": [
    "# Scaled data MLR to compare scaled vs raw data for predicting happiness scores to assess impact of scaling on predictability \n",
    "from sklearn.linear_model import LinearRegression\n",
    "from sklearn.model_selection import train_test_split\n",
    "from sklearn.metrics import mean_squared_error, r2_score\n",
    "\n",
    "X = df_scaled.drop(['Happiness Score'], axis=1) \n",
    "y = df_scaled['Happiness Score'] \n",
    "X_train, X_test, y_train, y_test = train_test_split(X, y, test_size=0.3, random_state=23)\n",
    "\n",
    "model_1 = LinearRegression()\n",
    "model_1.fit(X_train, y_train)\n",
    "y_pred_test = model_1.predict(X_test)\n",
    "\n",
    "mse = mean_squared_error(y_test, y_pred_test)\n",
    "r2 = r2_score(y_test, y_pred_test)\n",
    "\n",
    "print(f\"Mean Squared Error: {mse}\")\n",
    "print(f\"R-squared: {r2}\")"
   ]
  },
  {
   "cell_type": "markdown",
   "metadata": {},
   "source": [
    "91.74% of the variance in the target variable is explained by the model, indicating a good fit.\n",
    "\n",
    "In this case, the MSE is approximately 0.1088, indicating a relatively small average squared difference between actual and predicted values.\n",
    "\n",
    "# Reminder for Me #\n",
    "\n",
    "R-squared (R^2): R-squared is a measure of how well the regression model explains the variability in the dependent variable. It represents the proportion of variance in the dependent variable that is predictable from the independent variables, with higher values (closer to 1) indicating a better fit.\n",
    "\n",
    "Mean Squared Error (MSE): Mean Squared Error measures the average squared difference between the actual and predicted values in a regression model. A lower MSE indicates that the model's predictions are closer to the actual values, reflecting better accuracy in prediction.\n",
    "\n"
   ]
  },
  {
   "cell_type": "code",
   "execution_count": 44,
   "metadata": {},
   "outputs": [
    {
     "name": "stdout",
     "output_type": "stream",
     "text": [
      "Mean Squared Error: 0.11203859924693778\n",
      "R-squared: 0.9150235786707359\n"
     ]
    }
   ],
   "source": [
    "# RAW DATASET # \n",
    "X = df_combined.drop(['Happiness Score'], axis=1) \n",
    "y = df_combined['Happiness Score'] \n",
    "X_train, X_test, y_train, y_test = train_test_split(X, y, test_size=0.3, random_state=23)\n",
    "\n",
    "model_2 = LinearRegression()\n",
    "model_2.fit(X_train, y_train)\n",
    "y_pred_test_2 = model_2.predict(X_test)\n",
    "\n",
    "mse_2 = mean_squared_error(y_test, y_pred_test_2)\n",
    "r2_2 = r2_score(y_test, y_pred_test_2)\n",
    "\n",
    "print(f\"Mean Squared Error: {mse_2}\")\n",
    "print(f\"R-squared: {r2_2}\")"
   ]
  },
  {
   "cell_type": "markdown",
   "metadata": {},
   "source": [
    "mse = 0.1137 = significantly higher, so although the model is technically less accurate, overfitting isn't as much of a concern now.\n",
    "\n",
    "R^2 = 0.9137 = 91.37% of variance in 'Happiness Score' explained by my input features, meaning it's a very good model. \n",
    "\n",
    "If I want to improve it further, I may drop 'Generosity' since it seemed to be the weakest input feature. Then 'Dystopia Residual' after that.  \n",
    "\n",
    "In summary, the new results are more in line with typical expectations for a linear regression model, suggesting a strong fit without the anomalies observed in the previous model that used the scaled data.\n",
    "\n",
    "I suppose what I could do next is redo my model by only using the 2015-2017 dataframes, then see if a model based only on those can accurately predict the happiness scores in the other 2018 and 2019 dataframes? I presume this would be possible by reimporting the original datasets, concatenating 2015-2017, then doing the same EDA as before, then writing a model that tests its predictions against the scores in 2018 and 2019 because from the model's perspective, this would be predicting new data that it hasn't seen before. \n",
    "I was going to have a crack at this but then ran out of time for the day (EOD Friday at time of writing)."
   ]
  },
  {
   "cell_type": "code",
   "execution_count": 45,
   "metadata": {},
   "outputs": [
    {
     "name": "stdout",
     "output_type": "stream",
     "text": [
      "2015 dataframe columns:  Index(['Happiness Score', 'Economy (GDP per Capita)', 'Family',\n",
      "       'Health (Life Expectancy)', 'Freedom', 'Trust (Government Corruption)',\n",
      "       'Generosity', 'Dystopia Residual'],\n",
      "      dtype='object')\n",
      "2016 dataframe columns:  Index(['Happiness Score', 'Economy (GDP per Capita)', 'Family',\n",
      "       'Health (Life Expectancy)', 'Freedom', 'Trust (Government Corruption)',\n",
      "       'Generosity', 'Dystopia Residual'],\n",
      "      dtype='object')\n",
      "2017 dataframe columns:  Index(['Happiness.Score', 'Economy..GDP.per.Capita.', 'Family',\n",
      "       'Health..Life.Expectancy.', 'Freedom', 'Generosity',\n",
      "       'Trust..Government.Corruption.', 'Dystopia.Residual'],\n",
      "      dtype='object')\n"
     ]
    }
   ],
   "source": [
    "# Start of Day 15/01/2024 # Let's do what I suggested above. # \n",
    "df_2015_2 = pd.read_csv('2015.csv')\n",
    "df_2016_2 = pd.read_csv('2016.csv')\n",
    "df_2017_2 = pd.read_csv('2017.csv')\n",
    "\n",
    "df_2015_2.drop(['Region', 'Standard Error', 'Happiness Rank', 'Country'], axis=1, inplace=True)\n",
    "df_2016_2.drop(['Region', 'Lower Confidence Interval', 'Upper Confidence Interval', 'Happiness Rank', 'Country'], axis=1, inplace=True)\n",
    "df_2017_2.drop(['Whisker.low', 'Whisker.high', 'Happiness.Rank', 'Country'], axis=1, inplace=True)\n",
    "\n",
    "print(f'2015 dataframe columns: ', df_2015_2.columns)\n",
    "print(f'2016 dataframe columns: ', df_2016_2.columns)\n",
    "print(f'2017 dataframe columns: ', df_2017_2.columns)"
   ]
  },
  {
   "cell_type": "code",
   "execution_count": 46,
   "metadata": {},
   "outputs": [
    {
     "data": {
      "text/html": [
       "<div>\n",
       "<style scoped>\n",
       "    .dataframe tbody tr th:only-of-type {\n",
       "        vertical-align: middle;\n",
       "    }\n",
       "\n",
       "    .dataframe tbody tr th {\n",
       "        vertical-align: top;\n",
       "    }\n",
       "\n",
       "    .dataframe thead th {\n",
       "        text-align: right;\n",
       "    }\n",
       "</style>\n",
       "<table border=\"1\" class=\"dataframe\">\n",
       "  <thead>\n",
       "    <tr style=\"text-align: right;\">\n",
       "      <th></th>\n",
       "      <th>Happiness Score</th>\n",
       "      <th>Economy</th>\n",
       "      <th>Family</th>\n",
       "      <th>Health</th>\n",
       "      <th>Freedom</th>\n",
       "      <th>Trust</th>\n",
       "      <th>Generosity</th>\n",
       "      <th>Dystopia Residual</th>\n",
       "    </tr>\n",
       "  </thead>\n",
       "  <tbody>\n",
       "    <tr>\n",
       "      <th>0</th>\n",
       "      <td>7.587</td>\n",
       "      <td>1.39651</td>\n",
       "      <td>1.34951</td>\n",
       "      <td>0.94143</td>\n",
       "      <td>0.66557</td>\n",
       "      <td>0.41978</td>\n",
       "      <td>0.29678</td>\n",
       "      <td>2.51738</td>\n",
       "    </tr>\n",
       "    <tr>\n",
       "      <th>1</th>\n",
       "      <td>7.561</td>\n",
       "      <td>1.30232</td>\n",
       "      <td>1.40223</td>\n",
       "      <td>0.94784</td>\n",
       "      <td>0.62877</td>\n",
       "      <td>0.14145</td>\n",
       "      <td>0.43630</td>\n",
       "      <td>2.70201</td>\n",
       "    </tr>\n",
       "    <tr>\n",
       "      <th>2</th>\n",
       "      <td>7.527</td>\n",
       "      <td>1.32548</td>\n",
       "      <td>1.36058</td>\n",
       "      <td>0.87464</td>\n",
       "      <td>0.64938</td>\n",
       "      <td>0.48357</td>\n",
       "      <td>0.34139</td>\n",
       "      <td>2.49204</td>\n",
       "    </tr>\n",
       "    <tr>\n",
       "      <th>3</th>\n",
       "      <td>7.522</td>\n",
       "      <td>1.45900</td>\n",
       "      <td>1.33095</td>\n",
       "      <td>0.88521</td>\n",
       "      <td>0.66973</td>\n",
       "      <td>0.36503</td>\n",
       "      <td>0.34699</td>\n",
       "      <td>2.46531</td>\n",
       "    </tr>\n",
       "    <tr>\n",
       "      <th>4</th>\n",
       "      <td>7.427</td>\n",
       "      <td>1.32629</td>\n",
       "      <td>1.32261</td>\n",
       "      <td>0.90563</td>\n",
       "      <td>0.63297</td>\n",
       "      <td>0.32957</td>\n",
       "      <td>0.45811</td>\n",
       "      <td>2.45176</td>\n",
       "    </tr>\n",
       "  </tbody>\n",
       "</table>\n",
       "</div>"
      ],
      "text/plain": [
       "   Happiness Score  Economy   Family   Health  Freedom    Trust  Generosity  \\\n",
       "0            7.587  1.39651  1.34951  0.94143  0.66557  0.41978     0.29678   \n",
       "1            7.561  1.30232  1.40223  0.94784  0.62877  0.14145     0.43630   \n",
       "2            7.527  1.32548  1.36058  0.87464  0.64938  0.48357     0.34139   \n",
       "3            7.522  1.45900  1.33095  0.88521  0.66973  0.36503     0.34699   \n",
       "4            7.427  1.32629  1.32261  0.90563  0.63297  0.32957     0.45811   \n",
       "\n",
       "   Dystopia Residual  \n",
       "0            2.51738  \n",
       "1            2.70201  \n",
       "2            2.49204  \n",
       "3            2.46531  \n",
       "4            2.45176  "
      ]
     },
     "execution_count": 46,
     "metadata": {},
     "output_type": "execute_result"
    }
   ],
   "source": [
    "df_2015_2.columns = ['Happiness Score', 'Economy', 'Family', 'Health', 'Freedom', 'Trust', 'Generosity', 'Dystopia Residual']\n",
    "df_2016_2.columns = ['Happiness Score', 'Economy', 'Family', 'Health', 'Freedom', 'Trust', 'Generosity', 'Dystopia Residual']\n",
    "df_2017_2.columns = ['Happiness Score', 'Economy', 'Family', 'Health', 'Freedom', 'Trust', 'Generosity', 'Dystopia Residual']\n",
    "\n",
    "df_combined_2 = pd.concat([df_2015_2, df_2016_2, df_2017_2], ignore_index=True) \n",
    "\n",
    "df_combined_2.drop_duplicates(inplace=True)\n",
    "df_combined_2.head(5)"
   ]
  },
  {
   "cell_type": "code",
   "execution_count": 47,
   "metadata": {},
   "outputs": [
    {
     "data": {
      "text/plain": [
       "Happiness Score      0\n",
       "Economy              0\n",
       "Family               0\n",
       "Health               0\n",
       "Freedom              0\n",
       "Trust                0\n",
       "Generosity           0\n",
       "Dystopia Residual    0\n",
       "dtype: int64"
      ]
     },
     "execution_count": 47,
     "metadata": {},
     "output_type": "execute_result"
    }
   ],
   "source": [
    "df_combined_2.isnull().sum()"
   ]
  },
  {
   "cell_type": "code",
   "execution_count": 48,
   "metadata": {},
   "outputs": [
    {
     "data": {
      "text/plain": [
       "(470, 8)"
      ]
     },
     "execution_count": 48,
     "metadata": {},
     "output_type": "execute_result"
    }
   ],
   "source": [
    "df_combined_2.shape"
   ]
  },
  {
   "cell_type": "code",
   "execution_count": 61,
   "metadata": {},
   "outputs": [],
   "source": [
    "# Right, so Python's telling me that I can't complete my proposed plan because 2015-2017 and 2018-2019 have a different number of samples (rows of data) so it's refusing to do the regression.\n",
    "# I had a look at if there was a way to override this, but Google tells me this is a very bad idea because it'll result in a crap predictive model.  "
   ]
  },
  {
   "cell_type": "code",
   "execution_count": 50,
   "metadata": {},
   "outputs": [],
   "source": [
    "# Can't do AUC-ROC or Confusion Matrix on Continuous data without data conversion, so moving onto other regression models to have a look at how they do. "
   ]
  },
  {
   "cell_type": "markdown",
   "metadata": {},
   "source": [
    "Now I'm going to try a Ridge (L2) and then Lasso Regression (L1) \n",
    "\n",
    "# Reminder to self #\n",
    "\n",
    "\"Lasso regression, with L1 regularization, encourages sparsity in the model by driving some coefficients to precisely zero, facilitating automatic feature selection and simpler model interpretation. \n",
    "Ridge regression, employing L2 regularization, mitigates multicollinearity by shrinking all coefficients (but not to zero), providing a balance between fitting the data and preventing overfitting.\""
   ]
  },
  {
   "cell_type": "code",
   "execution_count": 51,
   "metadata": {},
   "outputs": [
    {
     "name": "stdout",
     "output_type": "stream",
     "text": [
      "Mean Squared Error (Ridge): 0.08658146868855725\n",
      "R-squared (Ridge): 0.9174461874434138\n"
     ]
    }
   ],
   "source": [
    "from sklearn.linear_model import Ridge\n",
    "from sklearn.model_selection import train_test_split\n",
    "from sklearn.metrics import mean_squared_error, r2_score\n",
    "\n",
    "X = df_scaled.drop(['Happiness Score'], axis=1)\n",
    "y = df_scaled['Happiness Score'] # Scaled data should always be compared to scaled data, remember this for next time. \n",
    "X_train, X_test, y_train, y_test = train_test_split(X, y, test_size=0.3, random_state=23) \n",
    "\n",
    "# Create the Ridge regression model\n",
    "model_ridge = Ridge(alpha=0.05) # I chose 0.05 because this is the alpha level I'm used to from psych work where alpha = 0.05 is the default.\n",
    "\n",
    "# Training the Ridge model on the training set\n",
    "model_ridge.fit(X_train, y_train)\n",
    "\n",
    "# Make predictions on the test set\n",
    "y_pred_test_ridge = model_ridge.predict(X_test)\n",
    "\n",
    "# Evaluate the Ridge model performance\n",
    "mse_ridge = mean_squared_error(y_test, y_pred_test_ridge)\n",
    "r2_ridge = r2_score(y_test, y_pred_test_ridge)\n",
    "\n",
    "print(f\"Mean Squared Error (Ridge): {mse_ridge}\")\n",
    "print(f\"R-squared (Ridge): {r2_ridge}\")"
   ]
  },
  {
   "cell_type": "markdown",
   "metadata": {},
   "source": [
    "As far as I can tell, doing L2 Reg did not change much for our model's performance. Let's try Lasso (L1) instead. "
   ]
  },
  {
   "cell_type": "code",
   "execution_count": 52,
   "metadata": {},
   "outputs": [
    {
     "name": "stdout",
     "output_type": "stream",
     "text": [
      "Mean Squared Error (Lasso): 0.10108987698994354\n",
      "R-squared (Lasso): 0.9036126912282432\n"
     ]
    }
   ],
   "source": [
    "from sklearn.linear_model import Lasso\n",
    "\n",
    "X = df_scaled.drop(['Happiness Score'], axis=1)\n",
    "y = df_scaled['Happiness Score'] \n",
    "X_train, X_test, y_train, y_test = train_test_split(X, y, test_size=0.3, random_state=23)\n",
    "\n",
    "alpha = 0.05\n",
    "model_lasso = Lasso(alpha=alpha)\n",
    "\n",
    "# Training the Lasso model on the training set\n",
    "model_lasso.fit(X_train, y_train)\n",
    "\n",
    "# Make predictions on the test set\n",
    "y_pred_test_lasso = model_lasso.predict(X_test)\n",
    "\n",
    "# Evaluate the Lasso model performance\n",
    "mse_lasso = mean_squared_error(y_test, y_pred_test_lasso)\n",
    "r2_lasso = r2_score(y_test, y_pred_test_lasso)\n",
    "\n",
    "print(f\"Mean Squared Error (Lasso): {mse_lasso}\")\n",
    "print(f\"R-squared (Lasso): {r2_lasso}\")"
   ]
  },
  {
   "cell_type": "markdown",
   "metadata": {},
   "source": [
    "A lasso regression slightly increases MSE and decreases R^2 so it technically decreases model performance but not by much. "
   ]
  },
  {
   "cell_type": "code",
   "execution_count": 53,
   "metadata": {},
   "outputs": [
    {
     "name": "stdout",
     "output_type": "stream",
     "text": [
      "Mean Squared Error (Gradient Boosting): 0.10164087809235164\n",
      "R-squared (Gradient Boosting): 0.9030873219729549\n"
     ]
    }
   ],
   "source": [
    "# Gonna try a Gradient Booster Regression because why not? #\n",
    "\n",
    "from sklearn.ensemble import GradientBoostingRegressor\n",
    "\n",
    "X = df_scaled.drop(['Happiness Score'], axis=1)\n",
    "y = df_scaled['Happiness Score'] \n",
    "X_train, X_test, y_train, y_test = train_test_split(X, y, test_size=0.3, random_state=23)\n",
    "\n",
    "# How to make the Gradient Boosting regression model\n",
    "model_gradient_boosting = GradientBoostingRegressor(n_estimators=100, learning_rate=0.1, random_state=23) # Sane ones I used in the Housing ML dataset.\n",
    "\n",
    "# Train the Gradient Boosting model on the training set\n",
    "model_gradient_boosting.fit(X_train, y_train)\n",
    "\n",
    "# Make predictions on the test set\n",
    "y_pred_test_gradient_boosting = model_gradient_boosting.predict(X_test)\n",
    "\n",
    "# Evaluate the Gradient Boosting model performance\n",
    "mse_gradient_boosting = mean_squared_error(y_test, y_pred_test_gradient_boosting)\n",
    "r2_gradient_boosting = r2_score(y_test, y_pred_test_gradient_boosting)\n",
    "\n",
    "print(f\"Mean Squared Error (Gradient Boosting): {mse_gradient_boosting}\")\n",
    "print(f\"R-squared (Gradient Boosting): {r2_gradient_boosting}\")"
   ]
  },
  {
   "cell_type": "markdown",
   "metadata": {},
   "source": [
    "# Again, not much better. What if I throw Grid Search at it to see if I can do gradient boosting better? # "
   ]
  },
  {
   "cell_type": "code",
   "execution_count": 54,
   "metadata": {},
   "outputs": [
    {
     "name": "stdout",
     "output_type": "stream",
     "text": [
      "Best Hyperparameters: {'learning_rate': 0.1, 'max_depth': 3, 'n_estimators': 100}\n",
      "Mean Squared Error (Gradient Boosting): 0.10164087809235164\n",
      "R-squared (Gradient Boosting): 0.9030873219729549\n"
     ]
    }
   ],
   "source": [
    "from sklearn.model_selection import GridSearchCV\n",
    "\n",
    "X = df_scaled.drop(['Happiness Score'], axis=1)\n",
    "y = df_scaled['Happiness Score'] \n",
    "X_train, X_test, y_train, y_test = train_test_split(X, y, test_size=0.3, random_state=23)\n",
    "\n",
    "# Defining the parameters for grid search\n",
    "param_grid = {\n",
    "    'n_estimators': [50, 100, 150],\n",
    "    'learning_rate': [0.01, 0.1, 0.2],\n",
    "    'max_depth': [3, 4, 5]\n",
    "} # I chose these because they're the commonly-done ones but I can probably think of my own when I'm more experienced. \n",
    "\n",
    "# Create Gradient Boosting regression model with 5 splits/folds:\n",
    "model_gradient_boosting = GradientBoostingRegressor(random_state=23)\n",
    "grid_search = GridSearchCV(model_gradient_boosting, param_grid, cv=5, scoring='neg_mean_squared_error', n_jobs=-1) # optimizes for lowest mean standard error. \n",
    "# n_jobs=-1 means this programme can use all my CPU cores for faster execution.\n",
    "\n",
    "grid_search.fit(X_train, y_train)\n",
    "\n",
    "# Get the best parameters from the grid search\n",
    "best_params = grid_search.best_params_\n",
    "\n",
    "# Use the best model to make predictions on the test set\n",
    "best_model = grid_search.best_estimator_\n",
    "y_pred_test_gradient_boosting = best_model.predict(X_test)\n",
    "\n",
    "# Evaluate the best model's performance\n",
    "mse_gradient_boosting = mean_squared_error(y_test, y_pred_test_gradient_boosting)\n",
    "r2_gradient_boosting = r2_score(y_test, y_pred_test_gradient_boosting)\n",
    "\n",
    "print(\"Best Hyperparameters:\", best_params)\n",
    "print(f\"Mean Squared Error (Gradient Boosting): {mse_gradient_boosting}\")\n",
    "print(f\"R-squared (Gradient Boosting): {r2_gradient_boosting}\")"
   ]
  },
  {
   "cell_type": "code",
   "execution_count": 55,
   "metadata": {},
   "outputs": [
    {
     "name": "stdout",
     "output_type": "stream",
     "text": [
      "Mean Squared Error (Gradient Boosting): 0.09904194531118614\n",
      "R-squared (Gradient Boosting): 0.9055653558168398\n"
     ]
    }
   ],
   "source": [
    "# Rerunning the GBR with the recommended HPs #\n",
    "X = df_scaled.drop(['Happiness Score'], axis=1)\n",
    "y = df_scaled['Happiness Score'] \n",
    "X_train, X_test, y_train, y_test = train_test_split(X, y, test_size=0.3, random_state=23)\n",
    "\n",
    "# How to make the Gradient Boosting regression model\n",
    "model_gradient_boosting = GradientBoostingRegressor(n_estimators=150, learning_rate=0.1, max_depth=3, random_state=23)\n",
    "\n",
    "# Train the Gradient Boosting model on the training set\n",
    "model_gradient_boosting.fit(X_train, y_train)\n",
    "\n",
    "# Make predictions on the test set\n",
    "y_pred_test_gradient_boosting = model_gradient_boosting.predict(X_test)\n",
    "\n",
    "# Evaluate the Gradient Boosting model performance\n",
    "mse_gradient_boosting = mean_squared_error(y_test, y_pred_test_gradient_boosting)\n",
    "r2_gradient_boosting = r2_score(y_test, y_pred_test_gradient_boosting)\n",
    "\n",
    "print(f\"Mean Squared Error (Gradient Boosting): {mse_gradient_boosting}\")\n",
    "print(f\"R-squared (Gradient Boosting): {r2_gradient_boosting}\")"
   ]
  },
  {
   "cell_type": "markdown",
   "metadata": {},
   "source": [
    "Again, very small difference made. Gonna try Random Forest next because I've gone mad with regression. "
   ]
  },
  {
   "cell_type": "code",
   "execution_count": 56,
   "metadata": {},
   "outputs": [
    {
     "name": "stdout",
     "output_type": "stream",
     "text": [
      "Mean Squared Error (Random Forest): 0.11270282677751056\n",
      "R-squared (Random Forest): 0.8925399606022432\n"
     ]
    }
   ],
   "source": [
    "from sklearn.ensemble import RandomForestRegressor\n",
    "X = df_scaled.drop(['Happiness Score'], axis=1)\n",
    "y = df_scaled['Happiness Score'] \n",
    "X_train, X_test, y_train, y_test = train_test_split(X, y, test_size=0.3, random_state=23)\n",
    "\n",
    "# Creating the Random Forest regression model\n",
    "model_random_forest = RandomForestRegressor(n_estimators=100, random_state=23)\n",
    "\n",
    "# Train the Random Forest model on the training set\n",
    "model_random_forest.fit(X_train, y_train)\n",
    "\n",
    "# Make predictions on the test set\n",
    "y_pred_test_random_forest = model_random_forest.predict(X_test)\n",
    "\n",
    "# Evaluate the Random Forest model performance\n",
    "mse_random_forest = mean_squared_error(y_test, y_pred_test_random_forest)\n",
    "r2_random_forest = r2_score(y_test, y_pred_test_random_forest)\n",
    "\n",
    "print(f\"Mean Squared Error (Random Forest): {mse_random_forest}\")\n",
    "print(f\"R-squared (Random Forest): {r2_random_forest}\")"
   ]
  },
  {
   "cell_type": "markdown",
   "metadata": {},
   "source": [
    "Random Forest gives a small increase in MSE and small decrease in R^2, so not our best tool. I thought about Support Vector Regression but Google tells me that's meant for non-linear relationships... oh sod it let's do it anyway and see if Python hates me for it or not. "
   ]
  },
  {
   "cell_type": "code",
   "execution_count": 57,
   "metadata": {},
   "outputs": [
    {
     "name": "stdout",
     "output_type": "stream",
     "text": [
      "Mean Squared Error (SVR): 0.08670064165221165\n",
      "R-squared (SVR): 0.9173325582494031\n",
      "Raw Mean Squared Error: 0.11203859924693778\n",
      "Raw R-squared: 0.9150235786707359\n",
      "Scaled Mean Squared Error: 0.10884608174652796\n",
      "Scaled R-squared: 0.9174449648183611\n",
      "Mean Squared Error (Random Forest): 0.11270282677751056\n",
      "R-squared (Random Forest): 0.8925399606022432\n",
      "Mean Squared Error (Gradient Boosting): 0.09904194531118614\n",
      "R-squared (Gradient Boosting): 0.9055653558168398\n"
     ]
    }
   ],
   "source": [
    "from sklearn.svm import SVR\n",
    "\n",
    "# Assuming X is your feature matrix and y is your target variable\n",
    "X = df_scaled.drop(['Happiness Score'], axis=1)\n",
    "y = df_scaled['Happiness Score'] \n",
    "\n",
    "# Split the data into training and testing sets\n",
    "X_train, X_test, y_train, y_test = train_test_split(X, y, test_size=0.3, random_state=23)\n",
    "\n",
    "# You then need to standardize the X_test and X_train features using a scaler which is needed for SVR, but I don't because I already scaled X earlier. \n",
    "\n",
    "# Create Support Vector Regression model\n",
    "model_svr = SVR(kernel='linear') # I chose linear \n",
    "model_svr.fit(X_train, y_train)\n",
    "y_pred_test_svr = model_svr.predict(X_test)\n",
    "\n",
    "\n",
    "mse_svr = mean_squared_error(y_test, y_pred_test_svr)\n",
    "r2_svr = r2_score(y_test, y_pred_test_svr)\n",
    "\n",
    "print(f\"Mean Squared Error (SVR): {mse_svr}\")\n",
    "print(f\"R-squared (SVR): {r2_svr}\")\n",
    "\n",
    "print(f\"Raw Mean Squared Error: {mse_2}\")\n",
    "print(f\"Raw R-squared: {r2_2}\")\n",
    "\n",
    "print(f\"Scaled Mean Squared Error: {mse}\")\n",
    "print(f\"Scaled R-squared: {r2}\")\n",
    "\n",
    "print(f\"Mean Squared Error (Random Forest): {mse_random_forest}\")\n",
    "print(f\"R-squared (Random Forest): {r2_random_forest}\")\n",
    "\n",
    "print(f\"Mean Squared Error (Gradient Boosting): {mse_gradient_boosting}\")\n",
    "print(f\"R-squared (Gradient Boosting): {r2_gradient_boosting}\")"
   ]
  },
  {
   "cell_type": "markdown",
   "metadata": {},
   "source": [
    "Huh, SVR actually has the lowest MSE and the highest R^2 out of the new regressions, but the original Scaled linear regression still reigns supreme in terms of accuracy. \n",
    "\n",
    "This means that doing clustering and adding it to my scaled dataframe as a feature did improve my regression model albeit only by a small margin but depending on the nature of the project, a small improvement might still be a huge success depending on how precise and accurate the model needs to be for its intended purpose. "
   ]
  },
  {
   "cell_type": "code",
   "execution_count": 58,
   "metadata": {},
   "outputs": [
    {
     "data": {
      "text/html": [
       "<div>\n",
       "<style scoped>\n",
       "    .dataframe tbody tr th:only-of-type {\n",
       "        vertical-align: middle;\n",
       "    }\n",
       "\n",
       "    .dataframe tbody tr th {\n",
       "        vertical-align: top;\n",
       "    }\n",
       "\n",
       "    .dataframe thead th {\n",
       "        text-align: right;\n",
       "    }\n",
       "</style>\n",
       "<table border=\"1\" class=\"dataframe\">\n",
       "  <thead>\n",
       "    <tr style=\"text-align: right;\">\n",
       "      <th></th>\n",
       "      <th>Happiness Score</th>\n",
       "      <th>Economy</th>\n",
       "      <th>Family</th>\n",
       "      <th>Health</th>\n",
       "      <th>Freedom</th>\n",
       "      <th>Trust</th>\n",
       "      <th>Dystopia Residual</th>\n",
       "      <th>Cluster</th>\n",
       "    </tr>\n",
       "  </thead>\n",
       "  <tbody>\n",
       "    <tr>\n",
       "      <th>0</th>\n",
       "      <td>1.961115</td>\n",
       "      <td>1.187224</td>\n",
       "      <td>0.822731</td>\n",
       "      <td>1.323134</td>\n",
       "      <td>1.678407</td>\n",
       "      <td>2.187779</td>\n",
       "      <td>0.968913</td>\n",
       "      <td>0</td>\n",
       "    </tr>\n",
       "    <tr>\n",
       "      <th>1</th>\n",
       "      <td>1.937926</td>\n",
       "      <td>0.953722</td>\n",
       "      <td>0.984756</td>\n",
       "      <td>1.349076</td>\n",
       "      <td>1.434563</td>\n",
       "      <td>-0.072584</td>\n",
       "      <td>1.388847</td>\n",
       "      <td>0</td>\n",
       "    </tr>\n",
       "    <tr>\n",
       "      <th>2</th>\n",
       "      <td>1.907602</td>\n",
       "      <td>1.011137</td>\n",
       "      <td>0.856753</td>\n",
       "      <td>1.052825</td>\n",
       "      <td>1.571129</td>\n",
       "      <td>2.705828</td>\n",
       "      <td>0.911278</td>\n",
       "      <td>0</td>\n",
       "    </tr>\n",
       "    <tr>\n",
       "      <th>3</th>\n",
       "      <td>1.903142</td>\n",
       "      <td>1.342140</td>\n",
       "      <td>0.765691</td>\n",
       "      <td>1.095604</td>\n",
       "      <td>1.705972</td>\n",
       "      <td>1.743145</td>\n",
       "      <td>0.850481</td>\n",
       "      <td>0</td>\n",
       "    </tr>\n",
       "    <tr>\n",
       "      <th>4</th>\n",
       "      <td>1.818413</td>\n",
       "      <td>1.013145</td>\n",
       "      <td>0.740059</td>\n",
       "      <td>1.178246</td>\n",
       "      <td>1.462393</td>\n",
       "      <td>1.455169</td>\n",
       "      <td>0.819662</td>\n",
       "      <td>0</td>\n",
       "    </tr>\n",
       "    <tr>\n",
       "      <th>...</th>\n",
       "      <td>...</td>\n",
       "      <td>...</td>\n",
       "      <td>...</td>\n",
       "      <td>...</td>\n",
       "      <td>...</td>\n",
       "      <td>...</td>\n",
       "      <td>...</td>\n",
       "      <td>...</td>\n",
       "    </tr>\n",
       "    <tr>\n",
       "      <th>761</th>\n",
       "      <td>-1.791049</td>\n",
       "      <td>-1.563306</td>\n",
       "      <td>0.249528</td>\n",
       "      <td>-0.613137</td>\n",
       "      <td>-1.784248</td>\n",
       "      <td>-0.595993</td>\n",
       "      <td>0.000000</td>\n",
       "      <td>1</td>\n",
       "    </tr>\n",
       "    <tr>\n",
       "      <th>762</th>\n",
       "      <td>-1.832076</td>\n",
       "      <td>-1.384814</td>\n",
       "      <td>-1.139608</td>\n",
       "      <td>-0.002020</td>\n",
       "      <td>0.945748</td>\n",
       "      <td>2.116475</td>\n",
       "      <td>0.000000</td>\n",
       "      <td>1</td>\n",
       "    </tr>\n",
       "    <tr>\n",
       "      <th>763</th>\n",
       "      <td>-1.923940</td>\n",
       "      <td>-1.094765</td>\n",
       "      <td>-0.604852</td>\n",
       "      <td>-0.467440</td>\n",
       "      <td>0.031332</td>\n",
       "      <td>-0.027511</td>\n",
       "      <td>0.000000</td>\n",
       "      <td>1</td>\n",
       "    </tr>\n",
       "    <tr>\n",
       "      <th>764</th>\n",
       "      <td>-1.948913</td>\n",
       "      <td>-1.407126</td>\n",
       "      <td>-1.735830</td>\n",
       "      <td>-1.025945</td>\n",
       "      <td>-2.731796</td>\n",
       "      <td>-1.018293</td>\n",
       "      <td>0.000000</td>\n",
       "      <td>1</td>\n",
       "    </tr>\n",
       "    <tr>\n",
       "      <th>765</th>\n",
       "      <td>-2.261073</td>\n",
       "      <td>-1.516204</td>\n",
       "      <td>-1.557578</td>\n",
       "      <td>-1.293056</td>\n",
       "      <td>-2.665534</td>\n",
       "      <td>-0.482297</td>\n",
       "      <td>0.000000</td>\n",
       "      <td>1</td>\n",
       "    </tr>\n",
       "  </tbody>\n",
       "</table>\n",
       "<p>766 rows × 8 columns</p>\n",
       "</div>"
      ],
      "text/plain": [
       "     Happiness Score   Economy    Family    Health   Freedom     Trust  \\\n",
       "0           1.961115  1.187224  0.822731  1.323134  1.678407  2.187779   \n",
       "1           1.937926  0.953722  0.984756  1.349076  1.434563 -0.072584   \n",
       "2           1.907602  1.011137  0.856753  1.052825  1.571129  2.705828   \n",
       "3           1.903142  1.342140  0.765691  1.095604  1.705972  1.743145   \n",
       "4           1.818413  1.013145  0.740059  1.178246  1.462393  1.455169   \n",
       "..               ...       ...       ...       ...       ...       ...   \n",
       "761        -1.791049 -1.563306  0.249528 -0.613137 -1.784248 -0.595993   \n",
       "762        -1.832076 -1.384814 -1.139608 -0.002020  0.945748  2.116475   \n",
       "763        -1.923940 -1.094765 -0.604852 -0.467440  0.031332 -0.027511   \n",
       "764        -1.948913 -1.407126 -1.735830 -1.025945 -2.731796 -1.018293   \n",
       "765        -2.261073 -1.516204 -1.557578 -1.293056 -2.665534 -0.482297   \n",
       "\n",
       "     Dystopia Residual  Cluster  \n",
       "0             0.968913        0  \n",
       "1             1.388847        0  \n",
       "2             0.911278        0  \n",
       "3             0.850481        0  \n",
       "4             0.819662        0  \n",
       "..                 ...      ...  \n",
       "761           0.000000        1  \n",
       "762           0.000000        1  \n",
       "763           0.000000        1  \n",
       "764           0.000000        1  \n",
       "765           0.000000        1  \n",
       "\n",
       "[766 rows x 8 columns]"
      ]
     },
     "execution_count": 58,
     "metadata": {},
     "output_type": "execute_result"
    }
   ],
   "source": [
    "df_scaled.drop(['Generosity'], axis=1)"
   ]
  },
  {
   "cell_type": "code",
   "execution_count": 59,
   "metadata": {},
   "outputs": [
    {
     "name": "stdout",
     "output_type": "stream",
     "text": [
      "Scaled Mean Squared Error without Generosity: 0.08658275096334787\n",
      "Scaled R-squared without Generosity: 0.9174449648183611\n"
     ]
    }
   ],
   "source": [
    "# Now let's try the scaled data regression with 'Generosity' taken out. \n",
    "\n",
    "from sklearn.linear_model import LinearRegression\n",
    "from sklearn.model_selection import train_test_split\n",
    "from sklearn.metrics import mean_squared_error, r2_score\n",
    "\n",
    "X = df_scaled.drop(['Happiness Score'], axis=1)\n",
    "y = df_scaled['Happiness Score'] \n",
    "X_train, X_test, y_train, y_test = train_test_split(X, y, test_size=0.3, random_state=23)\n",
    "\n",
    "model_4 = LinearRegression()\n",
    "model_4.fit(X_train, y_train)\n",
    "y_pred_test_4 = model_4.predict(X_test)\n",
    "\n",
    "mse_4 = mean_squared_error(y_test, y_pred_test_4)\n",
    "r2_4 = r2_score(y_test, y_pred_test_4)\n",
    "\n",
    "print(f\"Scaled Mean Squared Error without Generosity: {mse_4}\")\n",
    "print(f\"Scaled R-squared without Generosity: {r2_4}\")"
   ]
  },
  {
   "cell_type": "markdown",
   "metadata": {},
   "source": [
    "The original scaled model scores below:\n",
    "\n",
    "Scaled Mean Squared Error: 4.493077329737068e-31\n",
    "Scaled R-squared: 0.9165728348203299\n",
    "\n",
    "The updated one with generosity taken out: \n",
    "\n",
    "Scaled Mean Squared Error without Generosity: 0.08658275096334785\n",
    "Scaled R-squared without Generosity: 0.9174449648183611\n",
    "\n",
    "No improvement by removing Generosity, MSE actually increased.  \n",
    "\n",
    "Suggestions: to come. "
   ]
  },
  {
   "cell_type": "code",
   "execution_count": 60,
   "metadata": {},
   "outputs": [],
   "source": [
    "df_combined.to_csv('C:\\\\Users\\\\olive\\\\Documents\\\\analytics\\\\week 6\\\\combined_happiness_complete.csv')\n",
    "df_scaled.to_csv('C:\\\\Users\\\\olive\\\\Documents\\\\analytics\\\\week 6\\\\scaled_combined_happiness.csv')"
   ]
  },
  {
   "cell_type": "code",
   "execution_count": null,
   "metadata": {},
   "outputs": [],
   "source": []
  }
 ],
 "metadata": {
  "kernelspec": {
   "display_name": "Python 3",
   "language": "python",
   "name": "python3"
  },
  "language_info": {
   "codemirror_mode": {
    "name": "ipython",
    "version": 3
   },
   "file_extension": ".py",
   "mimetype": "text/x-python",
   "name": "python",
   "nbconvert_exporter": "python",
   "pygments_lexer": "ipython3",
   "version": "3.12.1"
  }
 },
 "nbformat": 4,
 "nbformat_minor": 2
}
