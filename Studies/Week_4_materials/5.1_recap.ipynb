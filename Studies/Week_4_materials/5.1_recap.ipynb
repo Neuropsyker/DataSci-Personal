{
 "cells": [
  {
   "cell_type": "markdown",
   "metadata": {},
   "source": [
    "Recap of 2023"
   ]
  },
  {
   "cell_type": "markdown",
   "metadata": {},
   "source": [
    "1. Statistics \n",
    "2. Linear algebra \n",
    "3. Python (Including data wrangling libraries)\n",
    "4. Data Visualisation \n",
    "5. Introduction to machine learning\n",
    "6. Linear regression"
   ]
  },
  {
   "cell_type": "markdown",
   "metadata": {},
   "source": [
    "### Statistics:\n",
    "\n",
    "1. Population vs samples\n",
    "2. Random samples vs representative samples\n",
    "3. Categorical vs numerical data\n",
    "4. Within numerical you have discrete vs continuous\n",
    "5. Categorical data: nominal (no specific rank) vs ordinal (there is ana underlying order)\n",
    "6. Within quantitative data you have ratios and intervals\n",
    "7. Categorical data can be visualised effectively using:\n",
    "- Frequency distributions\n",
    "- Bar charts\n",
    "- Pie charts\n",
    "- Pareto diagrams\n",
    "8. Numerical data:\n",
    "- Frequency distribution tables \n",
    "- Histograms\n",
    "9. Mean, median and mode are ways of deducing central tendency\n",
    "10. Skewness of data allows us to understand where the data sits\n",
    "11. Variance - measures the dispersion of the data points around the mean (2 formulas, one for population and one for sample)\n",
    "12. The standard deviation is the square root of the variance, a low or small standard devation shows that the data is clustered around the mean\n",
    "13. Coefficient of variation - this is the standard devaition / mean \n",
    "14. Covariance - tells us about the direction that the variables move together (covariance >0, then the variables move together, if 0 then the 2 variables are independent)\n",
    "15. Correlation, describes the extent to which two variables change together\n",
    "16. Both covariance and correlation are statistical measures that describe the relationship between two variables, but they differ in scale. The correlation coefficient is dimensionless and so the standardisation allows for the comparison of the correlation between different pairs of variables.\n",
    "17. Normal distributions have no skew, and the mean = the median = the mode\n",
    "18. The standard normal distribution has a mean of 0 and a standard deviation of 1\n",
    "19. The central limit therom - no matter the underlying distribution the sample mean will approximate to the normal distribution\n",
    "20. There are 4 main correlation coefficients; The pearson, spearman, kendall rank and point-biscreal"
   ]
  },
  {
   "cell_type": "markdown",
   "metadata": {},
   "source": [
    "### Linear algebra\n",
    "\n",
    "1. A scalar is a single number, representing a magnitude or a quantity. It is dimensionless. \n",
    "2. A vector is an ordered list of numbers that represents both magnitude and direction.\n",
    "3. A matrix is a 2-D array of numbers which consists of rows and columns \n",
    "4. A tensor is thought to be a multi-dimensional array of numbers \n",
    "5. Scalars are 0-dimensions, vectors are 1, matrices are 2 and tensors are n-dimensions\n",
    "6. Vecotr operations (addition, subtraction, multiplication)\n",
    "7. Veectors and their transpose \n"
   ]
  }
 ],
 "metadata": {
  "kernelspec": {
   "display_name": "Python 3",
   "language": "python",
   "name": "python3"
  },
  "language_info": {
   "codemirror_mode": {
    "name": "ipython",
    "version": 3
   },
   "file_extension": ".py",
   "mimetype": "text/x-python",
   "name": "python",
   "nbconvert_exporter": "python",
   "pygments_lexer": "ipython3",
   "version": "3.10.12"
  }
 },
 "nbformat": 4,
 "nbformat_minor": 2
}
