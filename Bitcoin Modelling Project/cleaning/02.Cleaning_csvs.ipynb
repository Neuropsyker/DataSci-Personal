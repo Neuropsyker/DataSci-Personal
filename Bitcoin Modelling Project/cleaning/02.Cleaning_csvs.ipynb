{
 "cells": [
  {
   "cell_type": "code",
   "execution_count": 153,
   "metadata": {},
   "outputs": [],
   "source": [
    "import pandas as pd\n",
    "from datetime import datetime\n",
    "from functools import reduce\n"
   ]
  },
  {
   "cell_type": "code",
   "execution_count": 154,
   "metadata": {},
   "outputs": [],
   "source": [
    "df_business_Confidence = pd.read_csv('../input/Business_Confidence_Index.csv') \n",
    "df_consumer_Confidence = pd.read_csv('../input/Consumer_Confidence_Index.csv') \n",
    "df_inflation = pd.read_csv('../input/Inflation.csv') \n",
    "df_vola = pd.read_csv('../input/BTC_Volatility.csv')"
   ]
  },
  {
   "cell_type": "code",
   "execution_count": 155,
   "metadata": {},
   "outputs": [],
   "source": [
    "def get_var_name(variable):\n",
    "     for name, value in globals().items():\n",
    "        if value is variable:\n",
    "            return name\n",
    "\n",
    "def clean_df(*dfs):\n",
    "    cleaned_dfs = []\n",
    "    for i,df in enumerate(dfs):\n",
    "        name = get_var_name(dfs[i])[3:].title()\n",
    "        df = df.loc[df['LOCATION']=='G-20'].reset_index(drop=True)[['TIME', 'Value']]\n",
    "        df.rename(columns={\"Value\":f'{name}'}, inplace=True)\n",
    "        df['TIME'] = [datetime.strptime(j,\"%Y-%m\") for j in df['TIME']]\n",
    "        df.set_index('TIME', inplace=True)\n",
    "        cleaned_dfs.append(df)\n",
    "    return cleaned_dfs \n",
    "\n",
    "df_bci, df_cci,df_inflation = clean_df(df_business_Confidence, df_consumer_Confidence, df_inflation)"
   ]
  },
  {
   "cell_type": "code",
   "execution_count": 156,
   "metadata": {},
   "outputs": [],
   "source": [
    "# drop redundant cols\n",
    "df_vola.drop(['Unnamed: 2', 'Unnamed: 3', 'Unnamed: 4'], axis=1, inplace=True)\n",
    "\n",
    "#convert Date to datetime format\n",
    "df_vola['DateTime'] = pd.to_datetime(df_vola['DateTime'], format='%d/%m/%Y %H:%M')\n",
    "df_vola.rename(columns={'30-Day BTC/USD Volatility':'BTC/USD_Volatility_Index'}, inplace=True)\n",
    "df_vola.set_index('DateTime', inplace=True)"
   ]
  },
  {
   "cell_type": "code",
   "execution_count": 157,
   "metadata": {},
   "outputs": [],
   "source": [
    "dfs = [df_bci, df_cci,df_inflation, df_vola]\n",
    "\n",
    "df_merged = reduce(lambda  left,right: pd.merge(left,right,left_index=True, right_index=True,\n",
    "                                            how='outer'), dfs)\n",
    "\n"
   ]
  },
  {
   "cell_type": "code",
   "execution_count": 160,
   "metadata": {},
   "outputs": [
    {
     "name": "stderr",
     "output_type": "stream",
     "text": [
      "/tmp/ipykernel_14384/2326111514.py:2: FutureWarning: Series.fillna with 'method' is deprecated and will raise in a future version. Use obj.ffill() or obj.bfill() instead.\n",
      "  df_merged[i] = df_merged[i].fillna(method='ffill')\n"
     ]
    },
    {
     "data": {
      "text/html": [
       "<div>\n",
       "<style scoped>\n",
       "    .dataframe tbody tr th:only-of-type {\n",
       "        vertical-align: middle;\n",
       "    }\n",
       "\n",
       "    .dataframe tbody tr th {\n",
       "        vertical-align: top;\n",
       "    }\n",
       "\n",
       "    .dataframe thead th {\n",
       "        text-align: right;\n",
       "    }\n",
       "</style>\n",
       "<table border=\"1\" class=\"dataframe\">\n",
       "  <thead>\n",
       "    <tr style=\"text-align: right;\">\n",
       "      <th></th>\n",
       "      <th>Business_Confidence</th>\n",
       "      <th>Consumer_Confidence</th>\n",
       "      <th>Inflation</th>\n",
       "      <th>BTC/USD_Volatility_Index</th>\n",
       "    </tr>\n",
       "  </thead>\n",
       "  <tbody>\n",
       "    <tr>\n",
       "      <th>2010-08-16</th>\n",
       "      <td>NaN</td>\n",
       "      <td>NaN</td>\n",
       "      <td>NaN</td>\n",
       "      <td>12.056917</td>\n",
       "    </tr>\n",
       "    <tr>\n",
       "      <th>2010-08-17</th>\n",
       "      <td>NaN</td>\n",
       "      <td>NaN</td>\n",
       "      <td>NaN</td>\n",
       "      <td>12.057903</td>\n",
       "    </tr>\n",
       "    <tr>\n",
       "      <th>2010-08-18</th>\n",
       "      <td>NaN</td>\n",
       "      <td>NaN</td>\n",
       "      <td>NaN</td>\n",
       "      <td>12.096542</td>\n",
       "    </tr>\n",
       "    <tr>\n",
       "      <th>2010-08-19</th>\n",
       "      <td>NaN</td>\n",
       "      <td>NaN</td>\n",
       "      <td>NaN</td>\n",
       "      <td>12.023751</td>\n",
       "    </tr>\n",
       "    <tr>\n",
       "      <th>2010-08-20</th>\n",
       "      <td>NaN</td>\n",
       "      <td>NaN</td>\n",
       "      <td>NaN</td>\n",
       "      <td>11.967747</td>\n",
       "    </tr>\n",
       "    <tr>\n",
       "      <th>...</th>\n",
       "      <td>...</td>\n",
       "      <td>...</td>\n",
       "      <td>...</td>\n",
       "      <td>...</td>\n",
       "    </tr>\n",
       "    <tr>\n",
       "      <th>2024-01-20</th>\n",
       "      <td>99.28704</td>\n",
       "      <td>96.72697</td>\n",
       "      <td>5.783826</td>\n",
       "      <td>2.012616</td>\n",
       "    </tr>\n",
       "    <tr>\n",
       "      <th>2024-01-21</th>\n",
       "      <td>99.28704</td>\n",
       "      <td>96.72697</td>\n",
       "      <td>5.783826</td>\n",
       "      <td>2.020418</td>\n",
       "    </tr>\n",
       "    <tr>\n",
       "      <th>2024-01-22</th>\n",
       "      <td>99.28704</td>\n",
       "      <td>96.72697</td>\n",
       "      <td>5.783826</td>\n",
       "      <td>2.021783</td>\n",
       "    </tr>\n",
       "    <tr>\n",
       "      <th>2024-01-23</th>\n",
       "      <td>99.28704</td>\n",
       "      <td>96.72697</td>\n",
       "      <td>5.783826</td>\n",
       "      <td>2.062327</td>\n",
       "    </tr>\n",
       "    <tr>\n",
       "      <th>2024-01-24</th>\n",
       "      <td>99.28704</td>\n",
       "      <td>96.72697</td>\n",
       "      <td>5.783826</td>\n",
       "      <td>2.137018</td>\n",
       "    </tr>\n",
       "  </tbody>\n",
       "</table>\n",
       "<p>4910 rows × 4 columns</p>\n",
       "</div>"
      ],
      "text/plain": [
       "            Business_Confidence  Consumer_Confidence  Inflation  \\\n",
       "2010-08-16                  NaN                  NaN        NaN   \n",
       "2010-08-17                  NaN                  NaN        NaN   \n",
       "2010-08-18                  NaN                  NaN        NaN   \n",
       "2010-08-19                  NaN                  NaN        NaN   \n",
       "2010-08-20                  NaN                  NaN        NaN   \n",
       "...                         ...                  ...        ...   \n",
       "2024-01-20             99.28704             96.72697   5.783826   \n",
       "2024-01-21             99.28704             96.72697   5.783826   \n",
       "2024-01-22             99.28704             96.72697   5.783826   \n",
       "2024-01-23             99.28704             96.72697   5.783826   \n",
       "2024-01-24             99.28704             96.72697   5.783826   \n",
       "\n",
       "            BTC/USD_Volatility_Index  \n",
       "2010-08-16                 12.056917  \n",
       "2010-08-17                 12.057903  \n",
       "2010-08-18                 12.096542  \n",
       "2010-08-19                 12.023751  \n",
       "2010-08-20                 11.967747  \n",
       "...                              ...  \n",
       "2024-01-20                  2.012616  \n",
       "2024-01-21                  2.020418  \n",
       "2024-01-22                  2.021783  \n",
       "2024-01-23                  2.062327  \n",
       "2024-01-24                  2.137018  \n",
       "\n",
       "[4910 rows x 4 columns]"
      ]
     },
     "execution_count": 160,
     "metadata": {},
     "output_type": "execute_result"
    }
   ],
   "source": [
    "for i in df_merged.columns[0:3]:\n",
    "    df_merged[i] = df_merged[i].fillna(method='ffill')\n",
    "        \n",
    "df_merged"
   ]
  },
  {
   "cell_type": "code",
   "execution_count": 161,
   "metadata": {},
   "outputs": [],
   "source": [
    "\n",
    "df_merged.to_csv('../output/df_merged.csv')"
   ]
  }
 ],
 "metadata": {
  "kernelspec": {
   "display_name": "project_env",
   "language": "python",
   "name": "python3"
  },
  "language_info": {
   "codemirror_mode": {
    "name": "ipython",
    "version": 3
   },
   "file_extension": ".py",
   "mimetype": "text/x-python",
   "name": "python",
   "nbconvert_exporter": "python",
   "pygments_lexer": "ipython3",
   "version": "3.10.12"
  }
 },
 "nbformat": 4,
 "nbformat_minor": 2
}
