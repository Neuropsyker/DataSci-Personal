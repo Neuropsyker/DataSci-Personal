{
 "cells": [
  {
   "cell_type": "markdown",
   "metadata": {},
   "source": [
    "This notebook reuses our original neural network to see how it handles this classification task now that we have utilised a different methodology for preprocessing. \n",
    "\n",
    "Sequential neural networks are well-suited for sentiment classification tasks in natural language processing (NLP) due to their ability to handle the sequential nature of text data, accommodate variable-length inputs, and capture dependencies and contextual information. Recurrent Neural Network architectures like LSTMs also maintain a hidden state that remembers past information, allowing them to capture the sentiment of words in relation to their context within a sentence or document. Therefore, it is reasonable to see if a neural net can handle this task."
   ]
  },
  {
   "cell_type": "markdown",
   "metadata": {},
   "source": [
    "## Imports and Setup"
   ]
  },
  {
   "cell_type": "code",
   "execution_count": 1,
   "metadata": {},
   "outputs": [
    {
     "name": "stdout",
     "output_type": "stream",
     "text": [
      "Num GPUs Available:  1\n"
     ]
    }
   ],
   "source": [
    "# Imports and Setup\n",
    "import numpy as np\n",
    "import pandas as pd\n",
    "import matplotlib.pyplot as plt\n",
    "import seaborn as sns\n",
    "import tensorflow as tf\n",
    "import nltk\n",
    "from string import punctuation\n",
    "from nltk.corpus import stopwords, words\n",
    "from nltk.stem import WordNetLemmatizer\n",
    "from nltk import classify\n",
    "from sklearn import metrics, preprocessing, feature_extraction, linear_model, naive_bayes, ensemble, pipeline, svm, model_selection, decomposition\n",
    "from sklearn.metrics import accuracy_score, confusion_matrix, roc_curve, roc_auc_score, classification_report\n",
    "import warnings\n",
    "from sklearn.exceptions import UndefinedMetricWarning\n",
    "warnings.filterwarnings(\"ignore\", category=UndefinedMetricWarning)\n",
    "from sklearn.model_selection import train_test_split, GridSearchCV\n",
    "from sklearn.feature_extraction.text import CountVectorizer, TfidfVectorizer\n",
    "from sklearn.naive_bayes import MultinomialNB, GaussianNB\n",
    "from sklearn.neighbors import KNeighborsClassifier\n",
    "from sklearn.ensemble import RandomForestClassifier\n",
    "from sklearn.linear_model import SGDClassifier, LogisticRegression\n",
    "from sklearn.multioutput import MultiOutputRegressor, MultiOutputClassifier\n",
    "from sklearn.datasets import make_classification\n",
    "from sklearn import tree, datasets\n",
    "from scipy import stats\n",
    "from scipy.sparse import csr_matrix\n",
    "from tensorflow.keras import models, layers, mixed_precision\n",
    "from tensorflow.keras.layers import Dense, LSTM, Dropout, Embedding, Bidirectional\n",
    "from tensorflow.keras.metrics import Precision, Recall, CategoricalAccuracy\n",
    "from sklearn.decomposition import TruncatedSVD\n",
    "from sklearn.metrics import multilabel_confusion_matrix\n",
    "\n",
    "# Tell TensorFlow to run all deep learning on GPU:\n",
    "tf.config.set_soft_device_placement\n",
    "tf.test.is_built_with_cuda()\n",
    "print(\"Num GPUs Available: \", len(tf.config.list_physical_devices('GPU')))"
   ]
  },
  {
   "cell_type": "code",
   "execution_count": 2,
   "metadata": {},
   "outputs": [],
   "source": [
    "# Feature extractor and vectorizer, to produce TF-IDF document matrix:\n",
    "def feature_vectorizer(corpus):\n",
    "    sa_stop_words = nltk.corpus.stopwords.words('english')\n",
    "    ''' Create a list of exceptions, as these stopwords may change a sentence's sentiment if removed. '''\n",
    "    sa_white_list = ['what', 'but', 'if', 'because', 'as', 'until', 'against', 'up', 'down', 'in', 'out',\n",
    "                    'on', 'off', 'over', 'under', 'again', 'further', 'then', 'once', 'here', 'there', 'why',\n",
    "                    'how', 'all', 'any', 'most', 'other', 'some', 'such', 'no', 'nor', 'not', 'only', 'own',\n",
    "                    'same', 'so', 'than', 'too', 'can', 'will', 'just', 'don', 'should']\n",
    "    ''' Remove stop words except for those specified in the white list. '''\n",
    "    sa_stop_words = [sw for sw in sa_stop_words if sw not in sa_white_list]\n",
    "    ''' Instantiate the vectorizer. '''\n",
    "    count_vectorizer = feature_extraction.text.CountVectorizer(\n",
    "        lowercase = True,\n",
    "        tokenizer = nltk.word_tokenize,\n",
    "        min_df=2, # this means the term frequency must be 2 or higher.\n",
    "        ngram_range=(1,2),\n",
    "        stop_words=sa_stop_words\n",
    "    )\n",
    "    ''' Run the vectorizer on the body of text ('corpus'). '''\n",
    "    processed_corpus = count_vectorizer.fit_transform(corpus)\n",
    "    processed_corpus = feature_extraction.text.TfidfTransformer().fit_transform(processed_corpus)\n",
    "    return processed_corpus\n",
    "\n",
    "def data_integrity_check(df, title='', include_non_numeric=True):\n",
    "    '''Check for nulls, duplicates, etc and perform basic EDA.'''\n",
    "    results = []\n",
    "    for col in df:\n",
    "        result = {\n",
    "            'Column': col,\n",
    "            'Null Values': df[col].isnull().sum(),\n",
    "            'Duplicate Values': df[col].duplicated().sum(),\n",
    "            'Data Type': df[col].dtype\n",
    "        }\n",
    "        if include_non_numeric or df[col].dtype in ['int64', 'float64']:\n",
    "            result['Unique Values'] = df[col].nunique()\n",
    "            if df[col].dtype in ['int64', 'float64']:\n",
    "                result['Mean'] = df[col].mean()\n",
    "                result['Median'] = df[col].median()\n",
    "                result['Mode'] = stats.mode(df[col])\n",
    "                result['Range'] = df[col].max() - df[col].min()\n",
    "                result['Skew'] = df[col].skew()\n",
    "                result['Kurtosis'] = df[col].kurtosis()\n",
    "        if df[col].dtype == 'object':  \n",
    "            result['Min Text Length'] = df[col].str.len().min()\n",
    "            result['Max Text Length'] = df[col].str.len().max()\n",
    "            '''Calculate mean and median text lengths'''\n",
    "            text_lengths = df[col].str.len()\n",
    "            result['Mean Text Length'] = np.mean(text_lengths)\n",
    "            result['Median Text Length'] = np.median(text_lengths)\n",
    "        results.append(result)\n",
    "    result_df = pd.DataFrame(results)\n",
    "    result_df['Source'] = title\n",
    "    return result_df\n",
    "\n",
    "# Prints performance metrics for classifiers:\n",
    "def print_classification_report(y_true, y_pred):\n",
    "    '''Get a classification report for performance metric inspection.'''\n",
    "    report = classification_report(y_true, y_pred)\n",
    "    print(report)"
   ]
  },
  {
   "cell_type": "code",
   "execution_count": 3,
   "metadata": {},
   "outputs": [
    {
     "name": "stdout",
     "output_type": "stream",
     "text": [
      "(159571, 400)\n",
      "(159571, 8)\n",
      "Data check:  [1 0]\n"
     ]
    }
   ],
   "source": [
    "# Import dataset from preprocessing outputs:\n",
    "df_sa = pd.read_csv('lsa_train_output.csv')\n",
    "print(df_sa.shape)\n",
    "\n",
    "# Reimport training labels:\n",
    "df_train = pd.read_csv('sa_train.csv')\n",
    "print(df_train.shape)\n",
    "\n",
    "# Training data split\n",
    "X_training = df_sa\n",
    "y = df_train[df_train.columns[2:]].values\n",
    "\n",
    "# Classification labels for test data:\n",
    "df_test_labels = pd.read_csv('sa_test_labels.csv')\n",
    "\n",
    "# Test data with text only:\n",
    "df_test_data = pd.read_csv('lsa_test_output.csv')\n",
    "\n",
    "# Ensure binary nature of test labels:\n",
    "df_test_labels[df_test_labels == -1] = 1\n",
    "for col in df_test_labels:\n",
    "    unique_values = df_test_labels[col].unique()\n",
    "print(f'Data check: ', unique_values)"
   ]
  },
  {
   "cell_type": "markdown",
   "metadata": {},
   "source": [
    "Remember, those datasets we just imported have already been cleaned, tokenized, vectorized, and underwent LSA in the preprocessing notebook."
   ]
  },
  {
   "cell_type": "markdown",
   "metadata": {},
   "source": [
    "## Sequential Neural Network"
   ]
  },
  {
   "cell_type": "code",
   "execution_count": 4,
   "metadata": {},
   "outputs": [],
   "source": [
    "# How would our neural network from before fare on this new data?\n",
    "# I'd like to test it because the preprocessing has changed:\n",
    "\n",
    "# Create TensorFlow dataset from numpy arrays\n",
    "dataset = tf.data.Dataset.from_tensor_slices((X_training, y))\n",
    "\n",
    "# Cache the dataset in memory, shuffle all 160,000 comments.\n",
    "# Group and store comments in batches of 16.\n",
    "# Prefetch half batches to prevent processing bottlenecks.\n",
    "dataset = dataset.cache()\n",
    "dataset = dataset.shuffle(160000)\n",
    "dataset = dataset.batch(16)\n",
    "dataset = dataset.prefetch(8)\n",
    "\n",
    "# I decided on a train/validate/test split of 70/20/10.\n",
    "# Use .take() and .skip() to partition the dataset.\n",
    "train_size = int(0.7 * len(dataset))\n",
    "validate_size = int(0.3 * len(dataset))\n",
    "\n",
    "# Split the dataset\n",
    "train_dataset = dataset.take(train_size)\n",
    "validate_dataset = dataset.skip(train_size).take(validate_size)"
   ]
  },
  {
   "cell_type": "code",
   "execution_count": 5,
   "metadata": {},
   "outputs": [
    {
     "name": "stdout",
     "output_type": "stream",
     "text": [
      "INFO:tensorflow:Mixed precision compatibility check (mixed_float16): OK\n",
      "Your GPU will likely run quickly with dtype policy mixed_float16 as it has compute capability of at least 7.0. Your GPU: NVIDIA RTX 2000 Ada Generation Laptop GPU, compute capability 8.9\n",
      "Model: \"sequential\"\n",
      "_________________________________________________________________\n",
      " Layer (type)                Output Shape              Param #   \n",
      "=================================================================\n",
      " embedding (Embedding)       (None, None, 400)         80000400  \n",
      "                                                                 \n",
      " bidirectional (Bidirectiona  (None, 128)              238080    \n",
      " l)                                                              \n",
      "                                                                 \n",
      " dense (Dense)               (None, 128)               16512     \n",
      "                                                                 \n",
      " dense_1 (Dense)             (None, 256)               33024     \n",
      "                                                                 \n",
      " dense_2 (Dense)             (None, 128)               32896     \n",
      "                                                                 \n",
      " dense_3 (Dense)             (None, 6)                 774       \n",
      "                                                                 \n",
      "=================================================================\n",
      "Total params: 80,321,686\n",
      "Trainable params: 80,321,686\n",
      "Non-trainable params: 0\n",
      "_________________________________________________________________\n"
     ]
    }
   ],
   "source": [
    "# Restating max tokens as 200,000 from earlier.\n",
    "max_tokens = 200000\n",
    "\n",
    "# We want a sequential model with multiple layers.\n",
    "# Embedding layer needs to match dimension of input data.\n",
    "# LSTM layer 64 units with tanh activation.\n",
    "# Bidirectional wrapper since this is a Recurrent Neural Network.\n",
    "# 3 Dense layers to analyze features with ReLU activation.\n",
    "# Final dense layer mapped to 6 outputs to match y feature length.\n",
    "# Sigmoid activation because output is binary/categorical from 0 to 1.\n",
    "# mask_zero=True stops padding of zero tokens from biasing learning.\n",
    "\n",
    "# Instantiate model:\n",
    "SNN_model = tf.keras.Sequential([\n",
    "    tf.keras.layers.Embedding(max_tokens + 1, 400, mask_zero=True),\n",
    "    tf.keras.layers.Bidirectional(tf.keras.layers.LSTM(64, activation='tanh')),\n",
    "    tf.keras.layers.Dense(128, activation=\"relu\"),\n",
    "    tf.keras.layers.Dense(256, activation=\"relu\"),\n",
    "    tf.keras.layers.Dense(128, activation=\"relu\"),\n",
    "    tf.keras.layers.Dense(6, activation='sigmoid')])\n",
    "\n",
    "# Now we compile to model and set the optimizer.\n",
    "# BinaryCrossentropy for loss because output is binary classifier.\n",
    "# Can use Adam or Stochastic Gradient Descent (SGD)  as optimizer.\n",
    "SNN_model.compile(loss='BinaryCrossentropy', optimizer='Adam')\n",
    "\n",
    "# Enable mixed precision training to help with memory management:\n",
    "mixed_precision.set_global_policy('mixed_float16')\n",
    "# Without the above line, the model runs out of memory and outputs errors.\n",
    "\n",
    "# View summary:\n",
    "SNN_model.summary()"
   ]
  },
  {
   "cell_type": "code",
   "execution_count": 6,
   "metadata": {},
   "outputs": [
    {
     "name": "stdout",
     "output_type": "stream",
     "text": [
      "Epoch 1/2\n",
      "6981/6981 [==============================] - 699s 100ms/step - loss: 0.1436 - val_loss: 0.1451\n",
      "Epoch 2/2\n",
      "6981/6981 [==============================] - 690s 99ms/step - loss: 0.1415 - val_loss: 0.1419\n"
     ]
    }
   ],
   "source": [
    "# Let's start the training process. I set epochs as 2,\n",
    "# I've tried 1 - 5 and 2 seems to be the sweet spot.\n",
    "# Use train/test/validate splits that we defined earlier.\n",
    "trained_model = SNN_model.fit(train_dataset, epochs = 2, validation_data = validate_dataset)"
   ]
  },
  {
   "cell_type": "code",
   "execution_count": 7,
   "metadata": {},
   "outputs": [],
   "source": [
    "# Save the model for convenience:\n",
    "SNN_model.save(\"SA_SNN.keras\")\n",
    "# To load: tf.keras.models.load_model('SA_SNN.keras')"
   ]
  },
  {
   "cell_type": "code",
   "execution_count": 8,
   "metadata": {},
   "outputs": [
    {
     "data": {
      "text/plain": [
       "<function matplotlib.pyplot.show(close=None, block=None)>"
      ]
     },
     "execution_count": 8,
     "metadata": {},
     "output_type": "execute_result"
    },
    {
     "data": {
      "text/plain": [
       "<Figure size 1000x500 with 0 Axes>"
      ]
     },
     "metadata": {},
     "output_type": "display_data"
    },
    {
     "data": {
      "image/png": "[encoded data removed]",
      "text/plain": [
       "<Figure size 640x480 with 1 Axes>"
      ]
     },
     "metadata": {},
     "output_type": "display_data"
    }
   ],
   "source": [
    "# Let's see training performance history for evaluation purposes.\n",
    "plt.figure(figsize=(10, 5))\n",
    "pd.DataFrame(trained_model.history).plot()\n",
    "plt.title('Model History During Training')\n",
    "plt.xlabel('Epoch')\n",
    "plt.ylabel('Loss')\n",
    "plt.show"
   ]
  },
  {
   "cell_type": "code",
   "execution_count": 9,
   "metadata": {},
   "outputs": [
    {
     "name": "stdout",
     "output_type": "stream",
     "text": [
      "9573/9573 [==============================] - 236s 25ms/step\n",
      "               precision    recall  f1-score   support\n",
      "\n",
      "        toxic       0.00      0.00      0.00     95276\n",
      " severe_toxic       0.00      0.00      0.00     89553\n",
      "      obscene       0.00      0.00      0.00     92877\n",
      "       threat       0.00      0.00      0.00     89397\n",
      "       insult       0.00      0.00      0.00     92613\n",
      "identity_hate       0.00      0.00      0.00     89898\n",
      "\n",
      "    micro avg       0.00      0.00      0.00    549614\n",
      "    macro avg       0.00      0.00      0.00    549614\n",
      " weighted avg       0.00      0.00      0.00    549614\n",
      "  samples avg       0.00      0.00      0.00    549614\n",
      "\n"
     ]
    }
   ],
   "source": [
    "# Instantiate new data from df_test:\n",
    "X_testing = df_test_data\n",
    "y_true = df_test_labels[df_test_labels.columns[1:]].values\n",
    "\n",
    "# Create TensorFlow dataset from numpy arrays\n",
    "test_dataset = tf.data.Dataset.from_tensor_slices((X_testing, y_true))\n",
    "\n",
    "# Cache the dataset in memory, shuffle all 160,000 comments.\n",
    "# Group and store comments in batches of 32.\n",
    "# Prefetch half batches to prevent processing bottlenecks.\n",
    "test_dataset = test_dataset.cache()\n",
    "test_dataset = test_dataset.batch(16)\n",
    "test_dataset = test_dataset.prefetch(8)\n",
    "\n",
    "# Run model & metrics on entire test dataset now.\n",
    "y_pred_probs = SNN_model.predict(test_dataset)\n",
    "\n",
    "# Flatten the true and predicted labels\n",
    "y_true_flat = []\n",
    "y_pred_flat = []\n",
    "\n",
    "for X_true, y_true_batch in test_dataset:\n",
    "    y_true_flat.extend(y_true_batch.numpy())\n",
    "    y_pred_batch = SNN_model.predict(X_true, verbose=0)\n",
    "    y_pred_batch_rounded = (y_pred_batch >= 0.5).astype(int)\n",
    "    y_pred_flat.extend(y_pred_batch_rounded)\n",
    "\n",
    "# Convert lists to numpy arrays\n",
    "y_true_flat = np.array(y_true_flat)\n",
    "y_pred_flat = np.array(y_pred_flat)\n",
    "\n",
    "# Print classification report\n",
    "print(classification_report(y_true_flat, y_pred_flat, target_names=df_test_labels.columns[1:]))"
   ]
  },
  {
   "cell_type": "code",
   "execution_count": 10,
   "metadata": {},
   "outputs": [
    {
     "name": "stdout",
     "output_type": "stream",
     "text": [
      "\n",
      "Confusion Matrix for Neural Net Classifier:\n",
      "\n",
      "Class Toxic:\n",
      "[[57888     0]\n",
      " [95276     0]]\n",
      "\n",
      "Class Severely Toxic:\n",
      "[[63611     0]\n",
      " [89553     0]]\n",
      "\n",
      "Class Obscene:\n",
      "[[60287     0]\n",
      " [92877     0]]\n",
      "\n",
      "Class Threat:\n",
      "[[63767     0]\n",
      " [89397     0]]\n",
      "\n",
      "Class Insult:\n",
      "[[60551     0]\n",
      " [92613     0]]\n",
      "\n",
      "Class Identity Hate:\n",
      "[[63266     0]\n",
      " [89898     0]]\n"
     ]
    }
   ],
   "source": [
    "# Let's check out some confusion matrices:\n",
    "cm_snn = multilabel_confusion_matrix(y_true_flat, y_pred_flat)\n",
    "\n",
    "# Print classes with matching number for reference:\n",
    "class_mapping = {\n",
    "    0: 'Toxic',\n",
    "    1: 'Severely Toxic',\n",
    "    2: 'Obscene',\n",
    "    3: 'Threat',\n",
    "    4: 'Insult',\n",
    "    5: 'Identity Hate'\n",
    "}\n",
    "\n",
    "# Printing confusion matrices:\n",
    "print(\"\\nConfusion Matrix for Neural Net Classifier:\")\n",
    "for i, cm in enumerate(cm_snn):\n",
    "    class_name = class_mapping[i]\n",
    "    print(f\"\\nClass {class_name}:\\n{cm}\")"
   ]
  },
  {
   "cell_type": "markdown",
   "metadata": {},
   "source": [
    "How bizarre, the neural net is only classifying False and True negative classes (0), no true or false positives (1).\n",
    "\n",
    "This is either an issue with the network, it's training, or the preprocessing I've used with NLTK and LSA.\n",
    "\n",
    "Or, it might just be that a sequential neural network isn't the best approach to completing this task. People love to rave about the capabilities of neural networks, but they're not always the best option."
   ]
  },
  {
   "attachments": {
    "image-2.png": {
     "image/png": "[encoded data removed]"
    }
   },
   "cell_type": "markdown",
   "metadata": {},
   "source": [
    "To help with interpretation: https://towardsdatascience.com/understanding-the-confusion-matrix-from-scikit-learn-c51d88929c79\n",
    "\n",
    "![image-2.png](attachment:image-2.png)"
   ]
  }
 ],
 "metadata": {
  "kernelspec": {
   "display_name": "DeepLearn_Env",
   "language": "python",
   "name": "python3"
  },
  "language_info": {
   "codemirror_mode": {
    "name": "ipython",
    "version": 3
   },
   "file_extension": ".py",
   "mimetype": "text/x-python",
   "name": "python",
   "nbconvert_exporter": "python",
   "pygments_lexer": "ipython3",
   "version": "3.10.14"
  }
 },
 "nbformat": 4,
 "nbformat_minor": 2
}
