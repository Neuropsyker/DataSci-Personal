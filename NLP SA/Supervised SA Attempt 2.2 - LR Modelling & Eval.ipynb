{
 "cells": [
  {
   "cell_type": "markdown",
   "metadata": {},
   "source": [
    "Carrying on from the previous Supervised SA notebook, this one concerns classification modelling, hyperparameter tuning, and evaluation metrics."
   ]
  },
  {
   "cell_type": "markdown",
   "metadata": {},
   "source": [
    "### Imports & Setup"
   ]
  },
  {
   "cell_type": "code",
   "execution_count": 6,
   "metadata": {},
   "outputs": [
    {
     "name": "stdout",
     "output_type": "stream",
     "text": [
      "Num GPUs Available:  1\n"
     ]
    },
    {
     "name": "stderr",
     "output_type": "stream",
     "text": [
      "[nltk_data] Downloading package wordnet to\n",
      "[nltk_data]     C:\\Users\\olive\\AppData\\Roaming\\nltk_data...\n",
      "[nltk_data]   Package wordnet is already up-to-date!\n",
      "[nltk_data] Downloading package words to\n",
      "[nltk_data]     C:\\Users\\olive\\AppData\\Roaming\\nltk_data...\n",
      "[nltk_data]   Package words is already up-to-date!\n",
      "[nltk_data] Downloading package stopwords to\n",
      "[nltk_data]     C:\\Users\\olive\\AppData\\Roaming\\nltk_data...\n",
      "[nltk_data]   Package stopwords is already up-to-date!\n"
     ]
    }
   ],
   "source": [
    "# Imports and Setup\n",
    "import os\n",
    "import re\n",
    "import email\n",
    "import random\n",
    "import collections\n",
    "import itertools\n",
    "import numpy as np\n",
    "import pandas as pd\n",
    "import requests\n",
    "import matplotlib.pyplot as plt\n",
    "import seaborn as sns\n",
    "import tensorflow as tf\n",
    "import nltk\n",
    "from string import punctuation\n",
    "from nltk.corpus import stopwords, words\n",
    "from nltk.stem import WordNetLemmatizer\n",
    "from nltk import classify\n",
    "from sklearn import metrics, preprocessing, feature_extraction, linear_model, naive_bayes, ensemble, pipeline, svm, model_selection, decomposition\n",
    "from sklearn.metrics import accuracy_score, confusion_matrix, roc_curve, roc_auc_score, classification_report\n",
    "import warnings\n",
    "from sklearn.exceptions import UndefinedMetricWarning\n",
    "warnings.filterwarnings(\"ignore\", category=UndefinedMetricWarning)\n",
    "from sklearn.model_selection import train_test_split, GridSearchCV\n",
    "from sklearn.feature_extraction.text import CountVectorizer, TfidfVectorizer\n",
    "from sklearn.naive_bayes import MultinomialNB, GaussianNB\n",
    "from sklearn.neighbors import KNeighborsClassifier\n",
    "from sklearn.ensemble import RandomForestClassifier\n",
    "from sklearn.linear_model import SGDClassifier, LogisticRegression\n",
    "from sklearn.multioutput import MultiOutputRegressor, MultiOutputClassifier\n",
    "from sklearn.metrics import multilabel_confusion_matrix, confusion_matrix\n",
    "from sklearn.datasets import make_classification\n",
    "from sklearn import tree, datasets\n",
    "from scipy import stats\n",
    "from sklearn.decomposition import TruncatedSVD\n",
    "\n",
    "# Ensure NLTK libraries up to date:\n",
    "nltk.download('wordnet')\n",
    "nltk.download('words')\n",
    "nltk.download('stopwords')\n",
    "\n",
    "# Tell TensorFlow to run all deep learning on GPU:\n",
    "tf.config.set_soft_device_placement\n",
    "tf.test.is_built_with_cuda()\n",
    "print(\"Num GPUs Available: \", len(tf.config.list_physical_devices('GPU')))"
   ]
  },
  {
   "cell_type": "code",
   "execution_count": 7,
   "metadata": {},
   "outputs": [
    {
     "name": "stdout",
     "output_type": "stream",
     "text": [
      "Num GPUs Available:  1\n"
     ]
    }
   ],
   "source": [
    "# Tell TensorFlow to run all deep learning on GPU:\n",
    "tf.config.set_soft_device_placement\n",
    "tf.test.is_built_with_cuda()\n",
    "print(\"Num GPUs Available: \", len(tf.config.list_physical_devices('GPU')))"
   ]
  },
  {
   "cell_type": "code",
   "execution_count": 8,
   "metadata": {},
   "outputs": [],
   "source": [
    "# Feature extractor and vectorizer, to produce TF-IDF document matrix:\n",
    "def feature_vectorizer(corpus):\n",
    "    sa_stop_words = nltk.corpus.stopwords.words('english')\n",
    "    ''' Create a list of exceptions, as these stopwords may change a sentence's sentiment if removed. '''\n",
    "    sa_white_list = ['what', 'but', 'if', 'because', 'as', 'until', 'against', 'up', 'down', 'in', 'out',\n",
    "                    'on', 'off', 'over', 'under', 'again', 'further', 'then', 'once', 'here', 'there', 'why',\n",
    "                    'how', 'all', 'any', 'most', 'other', 'some', 'such', 'no', 'nor', 'not', 'only', 'own',\n",
    "                    'same', 'so', 'than', 'too', 'can', 'will', 'just', 'don', 'should']\n",
    "    ''' Remove stop words except for those specified in the white list. '''\n",
    "    sa_stop_words = [sw for sw in sa_stop_words if sw not in sa_white_list]\n",
    "    ''' Instantiate the vectorizer. '''\n",
    "    count_vectorizer = feature_extraction.text.CountVectorizer(\n",
    "        lowercase = True,\n",
    "        tokenizer = nltk.word_tokenize,\n",
    "        min_df=2, # this means the term frequency must be 2 or higher.\n",
    "        ngram_range=(1,2),\n",
    "        stop_words=sa_stop_words\n",
    "    )\n",
    "    ''' Run the vectorizer on the body of text ('corpus'). '''\n",
    "    processed_corpus = count_vectorizer.fit_transform(corpus)\n",
    "    processed_corpus = feature_extraction.text.TfidfTransformer().fit_transform(processed_corpus)\n",
    "    return processed_corpus\n",
    "\n",
    "def data_integrity_check(df, title='', include_non_numeric=True):\n",
    "    '''Check for nulls, duplicates, etc and perform basic EDA.'''\n",
    "    results = []\n",
    "    for col in df:\n",
    "        result = {\n",
    "            'Column': col,\n",
    "            'Null Values': df[col].isnull().sum(),\n",
    "            'Duplicate Values': df[col].duplicated().sum(),\n",
    "            'Data Type': df[col].dtype\n",
    "        }\n",
    "        if include_non_numeric or df[col].dtype in ['int64', 'float64']:\n",
    "            result['Unique Values'] = df[col].nunique()\n",
    "            if df[col].dtype in ['int64', 'float64']:\n",
    "                result['Mean'] = df[col].mean()\n",
    "                result['Median'] = df[col].median()\n",
    "                result['Mode'] = stats.mode(df[col])\n",
    "                result['Range'] = df[col].max() - df[col].min()\n",
    "                result['Skew'] = df[col].skew()\n",
    "                result['Kurtosis'] = df[col].kurtosis()\n",
    "        if df[col].dtype == 'object':  \n",
    "            result['Min Text Length'] = df[col].str.len().min()\n",
    "            result['Max Text Length'] = df[col].str.len().max()\n",
    "            '''Calculate mean and median text lengths'''\n",
    "            text_lengths = df[col].str.len()\n",
    "            result['Mean Text Length'] = np.mean(text_lengths)\n",
    "            result['Median Text Length'] = np.median(text_lengths)\n",
    "        results.append(result)\n",
    "    result_df = pd.DataFrame(results)\n",
    "    result_df['Source'] = title\n",
    "    return result_df\n",
    "\n",
    "# Prints performance metrics for classifiers:\n",
    "def print_classification_report(y_true, y_pred):\n",
    "    '''Get a classification report for performance metric inspection.'''\n",
    "    report = classification_report(y_true, y_pred)\n",
    "    print(report)"
   ]
  },
  {
   "cell_type": "markdown",
   "metadata": {},
   "source": [
    "## Classification:"
   ]
  },
  {
   "cell_type": "code",
   "execution_count": 9,
   "metadata": {},
   "outputs": [
    {
     "name": "stdout",
     "output_type": "stream",
     "text": [
      "(159571, 400)\n",
      "(159571, 8)\n"
     ]
    }
   ],
   "source": [
    "# Import dataset from preprocessing outputs:\n",
    "df_sa = pd.read_csv('lsa_train_output.csv')\n",
    "print(df_sa.shape)\n",
    "\n",
    "# Reimport training labels:\n",
    "df_train = pd.read_csv('sa_train.csv')\n",
    "print(df_train.shape)"
   ]
  },
  {
   "cell_type": "markdown",
   "metadata": {},
   "source": [
    "Let's start with a simple multi-output logistic regression:"
   ]
  },
  {
   "cell_type": "code",
   "execution_count": 10,
   "metadata": {},
   "outputs": [
    {
     "name": "stdout",
     "output_type": "stream",
     "text": [
      "Best LR Model Performance: 0.9113\n",
      "Best LR Model Parameters: {'estimator__C': 0.5, 'estimator__class_weight': None, 'estimator__penalty': 'l1'}\n"
     ]
    }
   ],
   "source": [
    "# Create train/test split:\n",
    "X_training = df_sa\n",
    "y = df_train[df_train.columns[2:]].values\n",
    "X_train, X_test, y_train, y_test = train_test_split(X_training, y, test_size = 0.3, random_state=123)\n",
    "\n",
    "# Define common hyperparameter settings for GridSearch:\n",
    "param_grid_lr = {\n",
    "    'estimator__penalty': ['l1', 'l2'],\n",
    "    'estimator__C': [0.001, 0.01, 0.1, 0.25, 0.5],\n",
    "    'estimator__class_weight': [None, 'balanced'],\n",
    "}\n",
    "\n",
    "# Instantiate classifiers:\n",
    "base_LR_classifier = LogisticRegression(solver='liblinear')\n",
    "\n",
    "# Wrap classifiers with MultiOutput:\n",
    "multi_classifier_lr = MultiOutputClassifier(base_LR_classifier)\n",
    "\n",
    "# Grid search for Logistic Regression\n",
    "grid_search_lr = GridSearchCV(multi_classifier_lr, param_grid_lr, n_jobs=10) \n",
    "# n_jobs=10 to use 10 of my PC's 14 CPU cores for faster computation.\n",
    "grid_search_lr.fit(X_train, y_train)\n",
    "print('Best LR Model Performance: {:.4f}'.format(grid_search_lr.best_score_))\n",
    "print('Best LR Model Parameters:', grid_search_lr.best_params_)"
   ]
  },
  {
   "cell_type": "markdown",
   "metadata": {},
   "source": [
    "'Performance' refers to accuracy which is a single metric that represents the overall correctness of the classifier across all classes. While accuracy is easy to interpret and can provide a quick overview of performance, it may not be suitable for imbalanced datasets where the class distribution is skewed.\n",
    "\n",
    "Time to run the classifiers based on those GridSearch outputs, see the code in the next block below.\n",
    "I am rounding the probability predictions to a whole number to ensure consistency with binary format of training data (0 or 1 for comment features).\n",
    "I am also printing a classification report so that we get a range of metrics other than just accuracy."
   ]
  },
  {
   "cell_type": "code",
   "execution_count": 11,
   "metadata": {},
   "outputs": [
    {
     "name": "stdout",
     "output_type": "stream",
     "text": [
      "                precision    recall  f1-score   support\n",
      "\n",
      "         Toxic       0.88      0.54      0.67      4478\n",
      "Severely Toxic       0.51      0.19      0.28       476\n",
      "       Obscene       0.90      0.59      0.71      2499\n",
      "        Threat       0.00      0.00      0.00       139\n",
      "        Insult       0.81      0.46      0.58      2321\n",
      " Identity Hate       0.56      0.08      0.14       426\n",
      "\n",
      "     micro avg       0.86      0.49      0.62     10339\n",
      "     macro avg       0.61      0.31      0.40     10339\n",
      "  weighted avg       0.83      0.49      0.61     10339\n",
      "   samples avg       0.05      0.04      0.04     10339\n",
      "\n"
     ]
    }
   ],
   "source": [
    "# 'Score' method in scikit-learn typically reports the accuracy of the model on the given dataset. \n",
    "# We need more metrics to better judge each model:\n",
    "\n",
    "# Print classes with matching number for reference:\n",
    "class_mapping = {\n",
    "        0: 'Toxic',\n",
    "        1: 'Severely Toxic',\n",
    "        2: 'Obscene',\n",
    "        3: 'Threat',\n",
    "        4: 'Insult',\n",
    "        5: 'Identity Hate'\n",
    "        }\n",
    "\n",
    "# Retrieve best parameters from GridSearch:\n",
    "best_lr_params = grid_search_lr.best_params_\n",
    "\n",
    "# Remove 'estimator__' prefix from the parameter names to prevent TypeError:\n",
    "best_lr_params_cleaned = {key.replace('estimator__', ''): value for key, value in best_lr_params.items()}\n",
    "\n",
    "# Instantiate LogisticRegression with best parameters:\n",
    "best_lr_classifier = LogisticRegression(**best_lr_params_cleaned, solver='liblinear')\n",
    "\n",
    "# Wrap LogisticRegression in MultiOutputClassifier:\n",
    "best_multi_classifier_lr = MultiOutputClassifier(best_lr_classifier)\n",
    "\n",
    "# Fit the classifier to the training data:\n",
    "best_multi_classifier_lr.fit(X_train, y_train)\n",
    "\n",
    "# How accurately can it predict reserved test data in the train dataset?\n",
    "y_pred_lr = best_multi_classifier_lr.predict(X_test)\n",
    "print(classification_report(y_test, y_pred_lr, target_names=class_mapping.values()))"
   ]
  },
  {
   "cell_type": "markdown",
   "metadata": {},
   "source": [
    "Let's interpret the performance metrics for the logistic regression classifier:\n",
    "\n",
    "_Precision:_ measures the proportion of correctly predicted positive instances among all instances predicted as positive.\n",
    "- For class 0 (Toxic), the precision is 0.88, indicating that among all instances predicted as toxic, 88% are correctly classified.\n",
    "- For class 1 (Severely Toxic), the precision is 0.51, meaning that only 51% of instances predicted as severely toxic are actually classified correctly.\n",
    "- For class 2 (Obscene), the precision is 0.90, indicating a high proportion of correctly predicted obscene instances.\n",
    "- For class 3 (Threat), the precision is 0.00, suggesting that none of the instances predicted as threats are correctly classified.\n",
    "- For class 4 (Insult), the precision is 0.81, indicating a relatively high proportion of correctly predicted insult instances.\n",
    "- For class 5 (Identity Hate), the precision is 0.56, indicating 56% were classified accurately but with low recall indicating false positives.\n",
    "\n",
    "_Recall:_ measures the proportion of correctly predicted positive instances among all actual positive instances.\n",
    "- The recall values are generally low across all classes, indicating that the classifier misses a significant portion of actual positive instances.\n",
    "- For class 0 (Toxic), the recall is 0.54, meaning that only 54% of actual toxic instances are correctly classified.\n",
    "- For class 1 (Severely Toxic), the recall is 0.19, indicating that only 19% of actual severely toxic instances are correctly classified.\n",
    "- For class 2 (Obscene), the recall is 0.59, suggesting that nearly half of the actual obscene instances are correctly classified.\n",
    "- For class 3 (Threat), the recall is 0.00, indicating that none of the actual threat instances are correctly classified.\n",
    "- For class 4 (Insult), the recall is 0.46, indicating that 46% of actual insult instances are correctly classified.\n",
    "- For class 5 (Identity Hate), the recall is 0.08, suggesting that only a very small proportion of actual identity hate instances are correctly classified."
   ]
  },
  {
   "cell_type": "markdown",
   "metadata": {},
   "source": [
    "To quickly explain the other above metrics:\n",
    "\n",
    "- Macro-average: This average calculates the metric independently for each class and then takes the unweighted mean of the metrics. It gives equal weight to each class, regardless of its size. Macro-average is useful when you want to ensure that the classifier performs well across all classes, regardless of their prevalence.\n",
    "\n",
    "- Micro-average: This average aggregates the contributions of all classes to compute the average metric. It gives equal weight to each prediction, regardless of the class.\n",
    "Micro-average is useful when you want to evaluate the overall performance of the classifier, taking into account the imbalance in class frequencies.\n",
    "\n",
    "- Weighted average: This average calculates the metric for each class and then takes a weighted average based on the number of true instances for each class. It gives more weight to classes with more instances, making it suitable for imbalanced datasets. Weighted average is useful when you want to prioritize the performance of the majority classes while still considering the minority classes."
   ]
  },
  {
   "cell_type": "markdown",
   "metadata": {},
   "source": [
    "Given what we know about this dataset from the Preprocessing workbook, I will use Micro Average and Weighted Average to judge overall performance.\n",
    "\n",
    "_Micro Average:_\n",
    "- Precision (0.86): This indicates that, on average, 86% of the instances predicted as positive are indeed positive across all classes. It's a measure of the overall correctness of the positive predictions.\n",
    "- Recall (0.49): This indicates that, on average, 49% of the actual positive instances are correctly identified by the classifier across all classes. It's a measure of the classifier's ability to capture positive instances.\n",
    "- F1-score (0.62): This is the harmonic mean of precision and recall and provides a balanced measure of the classifier's performance. It takes into account both false positives and false negatives and is useful for assessing overall classifier performance.\n",
    "\n",
    "_Weighted Average:_\n",
    "- Precision (0.83): This indicates the average precision across all classes, with each class's contribution weighted by its support (the number of true instances). Classes with more instances have a greater impact on this metric.\n",
    "- Recall (0.49): This indicates the average recall across all classes, with each class's contribution weighted by its support. It's a measure of the classifier's ability to capture positive instances, accounting for class imbalance.\n",
    "- F1-score (0.61): This is the weighted average of F1-scores across all classes, with each class's contribution weighted by its support. It provides a balanced measure of the classifier's performance, considering both precision and recall while accounting for class imbalance.\n",
    "\n",
    "In summary, the logistic regression classifier demonstrates strong precision but relatively low recall in predicting the multi-label classes of toxic comments, severely toxic comments, obscene content, threats, insults, and identity hate in the test section of the training dataset. While the classifier achieves high precision in identifying positive instances, indicating a low rate of false positives across classes, its recall is notably lower, suggesting that it misses a significant portion of actual positive instances. "
   ]
  },
  {
   "cell_type": "code",
   "execution_count": 12,
   "metadata": {},
   "outputs": [
    {
     "name": "stdout",
     "output_type": "stream",
     "text": [
      "Data check:  [1 0]\n"
     ]
    }
   ],
   "source": [
    "# Okay, how does this trained LogReg perform on the test_dataset now?\n",
    "\n",
    "# Classification labels for test data:\n",
    "df_test_labels = pd.read_csv('sa_test_labels.csv')\n",
    "\n",
    "# Test data with text only:\n",
    "df_test_data = pd.read_csv('lsa_test_output.csv')\n",
    "\n",
    "# Ensure binary nature of test labels:\n",
    "df_test_labels[df_test_labels == -1] = 1\n",
    "for col in df_test_labels:\n",
    "    unique_values = df_test_labels[col].unique()\n",
    "print(f'Data check: ', unique_values)"
   ]
  },
  {
   "cell_type": "code",
   "execution_count": 13,
   "metadata": {},
   "outputs": [
    {
     "name": "stdout",
     "output_type": "stream",
     "text": [
      "                precision    recall  f1-score   support\n",
      "\n",
      "         Toxic       0.67      0.14      0.23     95276\n",
      "Severely Toxic       0.64      0.00      0.00     89553\n",
      "       Obscene       0.64      0.06      0.11     92877\n",
      "        Threat       0.00      0.00      0.00     89397\n",
      "        Insult       0.65      0.02      0.04     92613\n",
      " Identity Hate       0.48      0.00      0.00     89898\n",
      "\n",
      "     micro avg       0.66      0.04      0.07    549614\n",
      "     macro avg       0.51      0.04      0.06    549614\n",
      "  weighted avg       0.52      0.04      0.07    549614\n",
      "   samples avg       0.09      0.03      0.04    549614\n",
      "\n"
     ]
    }
   ],
   "source": [
    "# Input data/feature split:\n",
    "X_testing = df_test_data\n",
    "y_true = df_test_labels[df_test_labels.columns[1:]]\n",
    "\n",
    "# Run LR classifier on test dataset:\n",
    "y_pred_lr = best_multi_classifier_lr.predict(X_testing)\n",
    "print(classification_report(y_true, y_pred_lr, target_names=class_mapping.values()))"
   ]
  },
  {
   "cell_type": "markdown",
   "metadata": {},
   "source": [
    "The training dataset generally shows significantly higher precision, recall, and F1-scores compared to the testing dataset across all classes.\n",
    "\n",
    "Class imbalance might be a concern, especially noticeable in the testing dataset where recall is quite low for most classes, indicating that the model struggles to correctly identify instances of these classes. This would make sense because a visual inspection of the dataset confirms that a majority of the sample comments are non-toxic.\n",
    "\n",
    "There's a significant drop in performance metrics between the training and testing datasets, indicating potential overfitting of the model to the training data. The model seems to generalize poorly to unseen data, suggesting the need for further model refinement or data augmentation techniques to improve generalization performance."
   ]
  },
  {
   "cell_type": "code",
   "execution_count": 14,
   "metadata": {},
   "outputs": [
    {
     "name": "stdout",
     "output_type": "stream",
     "text": [
      "\n",
      "Confusion Matrix LogReg:\n",
      "\n",
      "Class Toxic:\n",
      "[[51278  6610]\n",
      " [82098 13178]]\n",
      "\n",
      "Class Severely Toxic:\n",
      "[[63593    18]\n",
      " [89521    32]]\n",
      "\n",
      "Class Obscene:\n",
      "[[57090  3197]\n",
      " [87240  5637]]\n",
      "\n",
      "Class Threat:\n",
      "[[63767     0]\n",
      " [89397     0]]\n",
      "\n",
      "Class Insult:\n",
      "[[59561   990]\n",
      " [90789  1824]]\n",
      "\n",
      "Class Identity Hate:\n",
      "[[63253    13]\n",
      " [89886    12]]\n"
     ]
    }
   ],
   "source": [
    "# Let's get a look at a confusion matrix:\n",
    "cm_lr = multilabel_confusion_matrix(y_true, y_pred_lr)\n",
    "\n",
    "# Printing confusion matrices:\n",
    "print(\"\\nConfusion Matrix LogReg:\")\n",
    "for i, cm in enumerate(cm_lr):\n",
    "    class_name = class_mapping[i]\n",
    "    print(f\"\\nClass {class_name}:\\n{cm}\")"
   ]
  },
  {
   "attachments": {
    "image-2.png": {
     "image/png": "[encoded data removed]"
    }
   },
   "cell_type": "markdown",
   "metadata": {},
   "source": [
    "I've noticed that different resources report different conventions with the orientation of confusion matrices.\n",
    "\n",
    "To help with understanding output: https://towardsdatascience.com/understanding-the-confusion-matrix-from-scikit-learn-c51d88929c79\n",
    "\n",
    "![image-2.png](attachment:image-2.png)"
   ]
  },
  {
   "cell_type": "markdown",
   "metadata": {},
   "source": [
    "To interpret the confusion matrix output from its predictions of the test data:\n",
    "\n",
    "Overall the logistic regression classifier demonstrates challenges in correctly classifying instances across all classes, with a notable imbalance between true negatives (TN), false negatives (FN), and true positives."
   ]
  },
  {
   "cell_type": "code",
   "execution_count": 17,
   "metadata": {},
   "outputs": [
    {
     "name": "stdout",
     "output_type": "stream",
     "text": [
      "[[1 4]\n",
      " [2 1]]\n"
     ]
    }
   ],
   "source": [
    "# Which convention does Sklearn follow?\n",
    "y_true = [0, 1, 0, 1, 0, 1, 0, 0]\n",
    "y_pred = [1, 1, 1, 0, 1, 0, 1, 0]\n",
    "print(confusion_matrix(y_true, y_pred))"
   ]
  },
  {
   "cell_type": "markdown",
   "metadata": {},
   "source": [
    "We could spend lots of time tweaking this logistic regressor, but I was not expecting it to perform very well with this sort of task. Instead, it was just a starting point to consider other more advanced models."
   ]
  }
 ],
 "metadata": {
  "kernelspec": {
   "display_name": "DeepLearn_Env",
   "language": "python",
   "name": "python3"
  },
  "language_info": {
   "codemirror_mode": {
    "name": "ipython",
    "version": 3
   },
   "file_extension": ".py",
   "mimetype": "text/x-python",
   "name": "python",
   "nbconvert_exporter": "python",
   "pygments_lexer": "ipython3",
   "version": "3.10.14"
  }
 },
 "nbformat": 4,
 "nbformat_minor": 2
}
