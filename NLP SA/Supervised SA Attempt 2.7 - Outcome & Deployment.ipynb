{
 "cells": [
  {
   "cell_type": "markdown",
   "metadata": {},
   "source": [
    "Let's collate our performance metrics below so we can choose which of our models to deploy. This is looking at test data outputs, not training data."
   ]
  },
  {
   "cell_type": "code",
   "execution_count": null,
   "metadata": {},
   "outputs": [],
   "source": []
  },
  {
   "cell_type": "markdown",
   "metadata": {},
   "source": [
    "Final considerations:\n",
    "\n",
    "Could I have saved time by using an automated ML library like PyCaret? This is something to look into when testing multiple models.\n",
    "https://pycaret.gitbook.io/docs"
   ]
  },
  {
   "cell_type": "markdown",
   "metadata": {},
   "source": []
  }
 ],
 "metadata": {
  "language_info": {
   "name": "python"
  }
 },
 "nbformat": 4,
 "nbformat_minor": 2
}
