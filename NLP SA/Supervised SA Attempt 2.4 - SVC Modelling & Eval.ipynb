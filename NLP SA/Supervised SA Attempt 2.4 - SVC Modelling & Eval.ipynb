{
 "cells": [
  {
   "cell_type": "markdown",
   "metadata": {},
   "source": [
    "This workbook will feature the use of a Support Vector Classifier to try and complete our sentiment analysis task. \n",
    "\n",
    "Support Vector Classifier (SVC) also known as Support Vector Machine (SVM) for classification is a supervised learning algorithm used for binary and multi-class classification tasks. \n",
    "\n",
    "Operating on labeled training data, it aims to find the hyperplane that best separates data points from different classes while maximizing the margin: the distance between the hyperplane and the nearest data points. Utilizing support vectors, which are the data points closest to the hyperplane, the algorithm finds the optimal hyperplane by solving an optimization problem. In cases where data is not linearly separable, SVCs employ the kernel trick, mapping the data into a higher-dimensional space where it becomes linearly separable. This allows SVCs to handle complex datasets with non-linear boundaries effectively. \n",
    "\n",
    "SVCs perform well in multiple contexts and domains including NLP tasks. Despite their effectiveness, SVCs require careful hyperparameter tuning and can be computationally expensive, especially for large datasets."
   ]
  },
  {
   "cell_type": "markdown",
   "metadata": {},
   "source": [
    "## Setup & Imports"
   ]
  },
  {
   "cell_type": "code",
   "execution_count": 1,
   "metadata": {},
   "outputs": [
    {
     "name": "stdout",
     "output_type": "stream",
     "text": [
      "Num GPUs Available:  1\n"
     ]
    }
   ],
   "source": [
    "# Imports and Setup\n",
    "import os\n",
    "import re\n",
    "import email\n",
    "import random\n",
    "import collections\n",
    "import itertools\n",
    "import numpy as np\n",
    "import pandas as pd\n",
    "import requests\n",
    "import matplotlib.pyplot as plt\n",
    "import seaborn as sns\n",
    "import tensorflow as tf\n",
    "import nltk\n",
    "from string import punctuation\n",
    "from nltk.corpus import stopwords, words\n",
    "from nltk.stem import WordNetLemmatizer\n",
    "from nltk import classify\n",
    "from sklearn import metrics, preprocessing, feature_extraction, linear_model, naive_bayes, ensemble, pipeline, svm, model_selection, decomposition\n",
    "from sklearn.metrics import accuracy_score, confusion_matrix, roc_curve, roc_auc_score, classification_report\n",
    "import warnings\n",
    "from sklearn.exceptions import UndefinedMetricWarning\n",
    "warnings.filterwarnings(\"ignore\", category=UndefinedMetricWarning)\n",
    "from sklearn.model_selection import train_test_split, GridSearchCV\n",
    "from sklearn.feature_extraction.text import CountVectorizer, TfidfVectorizer\n",
    "from sklearn.naive_bayes import GaussianNB, BernoulliNB\n",
    "from sklearn.neighbors import KNeighborsClassifier\n",
    "from sklearn.ensemble import RandomForestClassifier\n",
    "from sklearn.linear_model import SGDClassifier, LogisticRegression\n",
    "from sklearn.multioutput import MultiOutputRegressor, MultiOutputClassifier\n",
    "from sklearn.svm import SVC\n",
    "from sklearn.datasets import make_classification\n",
    "from sklearn.metrics import multilabel_confusion_matrix\n",
    "from sklearn import tree, datasets\n",
    "from scipy import stats\n",
    "from scipy.sparse import csr_matrix\n",
    "from sklearn.decomposition import TruncatedSVD\n",
    "\n",
    "# Tell TensorFlow to run all deep learning on GPU:\n",
    "tf.config.set_soft_device_placement\n",
    "tf.test.is_built_with_cuda()\n",
    "print(\"Num GPUs Available: \", len(tf.config.list_physical_devices('GPU')))"
   ]
  },
  {
   "cell_type": "code",
   "execution_count": 2,
   "metadata": {},
   "outputs": [],
   "source": [
    "# Feature extractor and vectorizer, to produce TF-IDF document matrix:\n",
    "def feature_vectorizer(corpus):\n",
    "    sa_stop_words = nltk.corpus.stopwords.words('english')\n",
    "    ''' Create a list of exceptions, as these stopwords may change a sentence's sentiment if removed. '''\n",
    "    sa_white_list = ['what', 'but', 'if', 'because', 'as', 'until', 'against', 'up', 'down', 'in', 'out',\n",
    "                    'on', 'off', 'over', 'under', 'again', 'further', 'then', 'once', 'here', 'there', 'why',\n",
    "                    'how', 'all', 'any', 'most', 'other', 'some', 'such', 'no', 'nor', 'not', 'only', 'own',\n",
    "                    'same', 'so', 'than', 'too', 'can', 'will', 'just', 'don', 'should']\n",
    "    ''' Remove stop words except for those specified in the white list. '''\n",
    "    sa_stop_words = [sw for sw in sa_stop_words if sw not in sa_white_list]\n",
    "    ''' Instantiate the vectorizer. '''\n",
    "    count_vectorizer = feature_extraction.text.CountVectorizer(\n",
    "        lowercase = True,\n",
    "        tokenizer = nltk.word_tokenize,\n",
    "        min_df=2, # this means the term frequency must be 2 or higher.\n",
    "        ngram_range=(1,2),\n",
    "        stop_words=sa_stop_words\n",
    "    )\n",
    "    ''' Run the vectorizer on the body of text ('corpus'). '''\n",
    "    processed_corpus = count_vectorizer.fit_transform(corpus)\n",
    "    processed_corpus = feature_extraction.text.TfidfTransformer().fit_transform(processed_corpus)\n",
    "    return processed_corpus\n",
    "\n",
    "def data_integrity_check(df, title='', include_non_numeric=True):\n",
    "    '''Check for nulls, duplicates, etc and perform basic EDA.'''\n",
    "    results = []\n",
    "    for col in df:\n",
    "        result = {\n",
    "            'Column': col,\n",
    "            'Null Values': df[col].isnull().sum(),\n",
    "            'Duplicate Values': df[col].duplicated().sum(),\n",
    "            'Data Type': df[col].dtype\n",
    "        }\n",
    "        if include_non_numeric or df[col].dtype in ['int64', 'float64']:\n",
    "            result['Unique Values'] = df[col].nunique()\n",
    "            if df[col].dtype in ['int64', 'float64']:\n",
    "                result['Mean'] = df[col].mean()\n",
    "                result['Median'] = df[col].median()\n",
    "                result['Mode'] = stats.mode(df[col])\n",
    "                result['Range'] = df[col].max() - df[col].min()\n",
    "                result['Skew'] = df[col].skew()\n",
    "                result['Kurtosis'] = df[col].kurtosis()\n",
    "        if df[col].dtype == 'object':  \n",
    "            result['Min Text Length'] = df[col].str.len().min()\n",
    "            result['Max Text Length'] = df[col].str.len().max()\n",
    "            '''Calculate mean and median text lengths'''\n",
    "            text_lengths = df[col].str.len()\n",
    "            result['Mean Text Length'] = np.mean(text_lengths)\n",
    "            result['Median Text Length'] = np.median(text_lengths)\n",
    "        results.append(result)\n",
    "    result_df = pd.DataFrame(results)\n",
    "    result_df['Source'] = title\n",
    "    return result_df\n",
    "\n",
    "# Prints performance metrics for classifiers:\n",
    "def print_classification_report(y_true, y_pred):\n",
    "    '''Get a classification report for performance metric inspection.'''\n",
    "    report = classification_report(y_true, y_pred)\n",
    "    print(report)"
   ]
  },
  {
   "cell_type": "code",
   "execution_count": 3,
   "metadata": {},
   "outputs": [
    {
     "name": "stdout",
     "output_type": "stream",
     "text": [
      "(159571, 400)\n",
      "(159571, 8)\n",
      "Data check:  [1 0]\n"
     ]
    }
   ],
   "source": [
    "# Import dataset from preprocessing outputs:\n",
    "df_sa = pd.read_csv('lsa_train_output.csv')\n",
    "print(df_sa.shape)\n",
    "\n",
    "# Reimport training labels:\n",
    "df_train = pd.read_csv('sa_train.csv')\n",
    "print(df_train.shape)\n",
    "\n",
    "# Training data split\n",
    "X_training = df_sa\n",
    "y = df_train[df_train.columns[2:]].values\n",
    "X_train, X_test, y_train, y_test = train_test_split(X_training, y, test_size = 0.3, random_state=123)\n",
    "\n",
    "# Classification labels for test data:\n",
    "df_test_labels = pd.read_csv('sa_test_labels.csv')\n",
    "\n",
    "# Test data with text only:\n",
    "df_test_data = pd.read_csv('lsa_test_output.csv')\n",
    "\n",
    "# Ensure binary nature of test labels:\n",
    "df_test_labels[df_test_labels == -1] = 1\n",
    "for col in df_test_labels:\n",
    "    unique_values = df_test_labels[col].unique()\n",
    "print(f'Data check: ', unique_values)"
   ]
  },
  {
   "cell_type": "markdown",
   "metadata": {},
   "source": [
    "# Classification"
   ]
  },
  {
   "cell_type": "code",
   "execution_count": 4,
   "metadata": {},
   "outputs": [
    {
     "name": "stdout",
     "output_type": "stream",
     "text": [
      "Best Support Vector Classifier (SVC) Model Performance: 0.9129\n",
      "Best Support Vector Classifier (SVC) Model Parameters: {'estimator__gamma': 'scale'}\n"
     ]
    }
   ],
   "source": [
    "# Define common hyperparameter settings for GridSearch:\n",
    "param_grid_svc = {'estimator__gamma': ['scale', 'auto']}  \n",
    "\n",
    "# Grid search for Support Vector Classifier (SVC)\n",
    "multi_classifier_svc = MultiOutputClassifier(SVC(kernel='rbf'))\n",
    "grid_search_svc = GridSearchCV(multi_classifier_svc, param_grid_svc, n_jobs=10) \n",
    "grid_search_svc.fit(X_train, y_train)\n",
    "print('Best Support Vector Classifier (SVC) Model Performance: {:.4f}'.format(grid_search_svc.best_score_))\n",
    "print('Best Support Vector Classifier (SVC) Model Parameters:', grid_search_svc.best_params_)"
   ]
  },
  {
   "cell_type": "code",
   "execution_count": 5,
   "metadata": {},
   "outputs": [
    {
     "name": "stdout",
     "output_type": "stream",
     "text": [
      "Classification Report for Support Vector Classifier (SVC):\n",
      "                precision    recall  f1-score   support\n",
      "\n",
      "         Toxic       0.91      0.53      0.67      4478\n",
      "Severely Toxic       0.51      0.07      0.12       476\n",
      "       Obscene       0.90      0.61      0.73      2499\n",
      "        Threat       0.00      0.00      0.00       139\n",
      "        Insult       0.79      0.50      0.61      2321\n",
      " Identity Hate       0.75      0.04      0.08       426\n",
      "\n",
      "     micro avg       0.87      0.49      0.63     10339\n",
      "     macro avg       0.64      0.29      0.37     10339\n",
      "  weighted avg       0.84      0.49      0.61     10339\n",
      "   samples avg       0.05      0.04      0.04     10339\n",
      "\n"
     ]
    }
   ],
   "source": [
    "# Print classes with matching number for reference:\n",
    "class_mapping = {\n",
    "    0: 'Toxic',\n",
    "    1: 'Severely Toxic',\n",
    "    2: 'Obscene',\n",
    "    3: 'Threat',\n",
    "    4: 'Insult',\n",
    "    5: 'Identity Hate'\n",
    "}\n",
    "\n",
    "# Instantiate Support Vector Classifier (SVC) with best parameters:\n",
    "best_svc_params = grid_search_svc.best_params_\n",
    "C = best_svc_params['estimator__gamma']\n",
    "best_svc_classifier = SVC(kernel = 'rbf', gamma = 'scale')\n",
    "best_multi_classifier_svc = MultiOutputClassifier(best_svc_classifier)\n",
    "best_multi_classifier_svc.fit(X_train, y_train)\n",
    "y_pred_svc = best_multi_classifier_svc.predict(X_test)\n",
    "print(\"Classification Report for Support Vector Classifier (SVC):\")\n",
    "print(classification_report(y_test, y_pred_svc, target_names=class_mapping.values()))"
   ]
  },
  {
   "cell_type": "markdown",
   "metadata": {},
   "source": [
    "Interestingly, SVC seems to have good precision for classifying hateful content when our other classifiers so far have failed to meet expectations. So far, no models have done well with classifying threatening content."
   ]
  },
  {
   "cell_type": "code",
   "execution_count": 6,
   "metadata": {},
   "outputs": [
    {
     "name": "stdout",
     "output_type": "stream",
     "text": [
      "                precision    recall  f1-score   support\n",
      "\n",
      "         Toxic       0.64      0.10      0.17     95276\n",
      "Severely Toxic       0.00      0.00      0.00     89553\n",
      "       Obscene       0.61      0.04      0.08     92877\n",
      "        Threat       0.00      0.00      0.00     89397\n",
      "        Insult       0.60      0.01      0.02     92613\n",
      " Identity Hate       0.00      0.00      0.00     89898\n",
      "\n",
      "     micro avg       0.62      0.03      0.05    549614\n",
      "     macro avg       0.31      0.03      0.05    549614\n",
      "  weighted avg       0.31      0.03      0.05    549614\n",
      "   samples avg       0.06      0.02      0.03    549614\n",
      "\n"
     ]
    }
   ],
   "source": [
    "# Input data/feature split:\n",
    "X_testing = df_test_data\n",
    "y_true = df_test_labels[df_test_labels.columns[1:]].values\n",
    "\n",
    "# Run LR classifier on test dataset:\n",
    "y_pred_svc = best_multi_classifier_svc.predict(X_testing)\n",
    "print(classification_report(y_true, y_pred_svc, target_names=class_mapping.values()))"
   ]
  },
  {
   "cell_type": "code",
   "execution_count": 10,
   "metadata": {},
   "outputs": [
    {
     "name": "stdout",
     "output_type": "stream",
     "text": [
      "\n",
      "Confusion Matrix for Support Vector Classifier:\n",
      "\n",
      "Class Toxic:\n",
      "[[52596  5292]\n",
      " [86031  9245]]\n",
      "\n",
      "Class Severely Toxic:\n",
      "[[63611     0]\n",
      " [89553     0]]\n",
      "\n",
      "Class Obscene:\n",
      "[[57575  2712]\n",
      " [88707  4170]]\n",
      "\n",
      "Class Threat:\n",
      "[[63767     0]\n",
      " [89397     0]]\n",
      "\n",
      "Class Insult:\n",
      "[[59899   652]\n",
      " [91630   983]]\n",
      "\n",
      "Class Identity Hate:\n",
      "[[63266     0]\n",
      " [89898     0]]\n"
     ]
    }
   ],
   "source": [
    "# Let's check out some confusion matrices:\n",
    "cm_svc = multilabel_confusion_matrix(y_true, y_pred_svc)\n",
    "\n",
    "# Printing confusion matrices:\n",
    "print(\"\\nConfusion Matrix for Support Vector Classifier:\")\n",
    "for i, cm in enumerate(cm_svc):\n",
    "    class_name = class_mapping[i]\n",
    "    print(f\"\\nClass {class_name}:\\n{cm}\")"
   ]
  },
  {
   "attachments": {
    "image-2.png": {
     "image/png": "[encoded data removed]"
    }
   },
   "cell_type": "markdown",
   "metadata": {},
   "source": [
    "To help with interpretation: https://towardsdatascience.com/understanding-the-confusion-matrix-from-scikit-learn-c51d88929c79\n",
    "\n",
    "![image-2.png](attachment:image-2.png)"
   ]
  },
  {
   "cell_type": "markdown",
   "metadata": {},
   "source": []
  }
 ],
 "metadata": {
  "kernelspec": {
   "display_name": "DeepLearn_Env",
   "language": "python",
   "name": "python3"
  },
  "language_info": {
   "codemirror_mode": {
    "name": "ipython",
    "version": 3
   },
   "file_extension": ".py",
   "mimetype": "text/x-python",
   "name": "python",
   "nbconvert_exporter": "python",
   "pygments_lexer": "ipython3",
   "version": "3.10.14"
  }
 },
 "nbformat": 4,
 "nbformat_minor": 2
}
